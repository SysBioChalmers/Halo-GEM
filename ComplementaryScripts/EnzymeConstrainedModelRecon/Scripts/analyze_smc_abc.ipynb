{
 "cells": [
  {
   "cell_type": "code",
   "execution_count": 1,
   "metadata": {},
   "outputs": [],
   "source": [
    "import pickle\n",
    "from matplotlib import pyplot as plt\n",
    "from scipy.stats import ttest_ind\n",
    "from statsmodels.stats.multitest import multipletests\n",
    "import pandas as pd\n",
    "from scipy import stats \n",
    "from curate_kcat import *"
   ]
  },
  {
   "cell_type": "code",
   "execution_count": 2,
   "metadata": {},
   "outputs": [],
   "source": [
    "from curate_kcat_light_goslim_asc_step1 import *\n",
    "results02 = pickle.load(open('../Results/smc_abc_light_step_02.pkl','rb'))\n",
    "results03 = pickle.load(open('../Results/smc_abc_light_step_03.pkl','rb'))"
   ]
  },
  {
   "cell_type": "code",
   "execution_count": 3,
   "metadata": {},
   "outputs": [],
   "source": [
    "[val02,val03] = pickle.load(open('../Results/validation_growth_on_unused_conditions.pkl','rb'))\n",
    "[val_prior02,val_prior03] = pickle.load(open('../Results/validation_growth_on_unused_conditions_prior.pkl','rb'))"
   ]
  },
  {
   "cell_type": "markdown",
   "metadata": {},
   "source": [
    "### 1. Training and validation results"
   ]
  },
  {
   "cell_type": "code",
   "execution_count": 4,
   "metadata": {},
   "outputs": [],
   "source": [
    "def collect_data(res):\n",
    "    res_with = {}\n",
    "    res_without = {}\n",
    "    \n",
    "    for p in res:\n",
    "        for k,lst in p.items():\n",
    "            lst = lst.copy()\n",
    "            for i in range(len(lst)):\n",
    "                if lst[i]<0: lst[i] = 0\n",
    "            res_with[k] = res_with.get(k,[]) + [lst[0]]\n",
    "            try:res_without[k] = res_without.get(k,[]) + [lst[1]]\n",
    "            except: None\n",
    "                \n",
    "    return res_with,res_without"
   ]
  },
  {
   "cell_type": "code",
   "execution_count": 5,
   "metadata": {},
   "outputs": [],
   "source": [
    "def plot_dot_bar(data,positions,label=None,color=None):\n",
    "    data = np.array(data)\n",
    "    data[data==-1] = 0\n",
    "    means = np.mean(data,axis=1)\n",
    "    \n",
    "    plt.bar(positions,means,label=label,color=color)\n",
    "    rep_x = []\n",
    "    for item in positions: rep_x += [item for _ in range(data.shape[1])]\n",
    "    p_rep_x = rep_x + np.random.normal(scale=0.1,size=len(rep_x))\n",
    "    \n",
    "    plt.scatter(p_rep_x,data.flatten(),s=2,zorder=3,color='gray')\n",
    "    "
   ]
  },
  {
   "cell_type": "code",
   "execution_count": 6,
   "metadata": {},
   "outputs": [],
   "source": [
    "def f_test(x1,x2):\n",
    "    F = np.var(x1)/np.var(x2)\n",
    "    p = stats.f.cdf(F,len(x1)-1,len(x2)-1)\n",
    "    return 1-p"
   ]
  },
  {
   "cell_type": "code",
   "execution_count": 7,
   "metadata": {},
   "outputs": [],
   "source": [
    "# training data \n",
    "res_train_02,_ = collect_data(results02.simulated_data)\n",
    "res_train_03,_ = collect_data(results03.simulated_data)\n",
    "\n",
    "res_train_prior_02,_ = collect_data(results02.simulated_data_t0)\n",
    "res_train_prior_03,_ = collect_data(results03.simulated_data_t0)"
   ]
  },
  {
   "cell_type": "code",
   "execution_count": 8,
   "metadata": {},
   "outputs": [
    {
     "data": {
      "text/plain": [
       "(['Fermentation-9h', 'Fermentation-19h', 'Fermentation-30h', 'NACL60', 'HN'],\n",
       " ['NACL20', 'NACL100', 'MU'])"
      ]
     },
     "execution_count": 8,
     "metadata": {},
     "output_type": "execute_result"
    }
   ],
   "source": [
    "train_ids = list(res_train_02.keys())\n",
    "val_ids = list(val02.keys())\n",
    "train_ids,val_ids"
   ]
  },
  {
   "cell_type": "code",
   "execution_count": 9,
   "metadata": {},
   "outputs": [],
   "source": [
    "prior_data02 = [res_train_prior_02[item] for item in train_ids] + [val_prior02[item] for item in val_ids]\n",
    "prior_data03 = [res_train_prior_03[item] for item in train_ids] + [val_prior03[item] for item in val_ids]\n",
    "post_data02 = [res_train_02[item] for item in train_ids] + [val02[item] for item in val_ids]\n",
    "post_data03 = [res_train_03[item] for item in train_ids] + [val03[item] for item in val_ids]"
   ]
  },
  {
   "cell_type": "code",
   "execution_count": 21,
   "metadata": {},
   "outputs": [
    {
     "data": {
      "image/png": "[encoded data removed]",
      "text/plain": [
       "<Figure size 540x180 with 1 Axes>"
      ]
     },
     "metadata": {
      "needs_background": "light"
     },
     "output_type": "display_data"
    }
   ],
   "source": [
    "pos = np.arange(len(post_data03))*5\n",
    "plt.figure(figsize=(7.5,2.5))\n",
    "#plot_dot_bar(prior_data02,positions=pos,label='Prior02')\n",
    "#plot_dot_bar(prior_data03,positions=pos+1,label='Prior03')\n",
    "exp_data = [results02.datasets['dfpheno'].loc[item,'SpecificGrowthRate'] for item in train_ids]\n",
    "plt.bar(pos[:len(exp_data)],exp_data,label='Experiment')\n",
    "plot_dot_bar(post_data03,positions=pos+1,label='Individual',color='#91cf60')\n",
    "plot_dot_bar(post_data02,positions=pos+2,label='GoSlim',color='#fc8d59')\n",
    "\n",
    "ylim=(0,0.4)\n",
    "plt.plot([pos[4]+4]*2,ylim,'k--')\n",
    "\n",
    "plt.ylim(ylim)\n",
    "plt.xticks(pos+1,train_ids+val_ids,rotation=90)\n",
    "plt.legend(bbox_to_anchor=(1.0,-0.75),ncol=2,loc='lower right')\n",
    "plt.ylabel('Specific growth rate (h$^{-1}$)')\n",
    "\n",
    "plt.text(pos[2]+0.5,0.37,'Training',ha='center',va='center')\n",
    "plt.text(pos[6]+1,0.37,'Validation',ha='center',va='center')\n",
    "plt.savefig('../figures/train_validation_02_03.pdf',bbox_inches='tight')\n",
    "plt.show()"
   ]
  },
  {
   "cell_type": "code",
   "execution_count": null,
   "metadata": {},
   "outputs": [],
   "source": []
  },
  {
   "cell_type": "markdown",
   "metadata": {},
   "source": [
    "### 2. Compare Prior and Posterior"
   ]
  },
  {
   "cell_type": "code",
   "execution_count": 11,
   "metadata": {},
   "outputs": [],
   "source": [
    "def extract_mean_var_inRV(results):\n",
    "    def _format_key(k):\n",
    "        return '{0}__{1}'.format(k[0],k[1])\n",
    "    \n",
    "    df = pd.DataFrame()\n",
    "    for k, rv in results.prior.items():\n",
    "        k = _format_key(k)\n",
    "        df.loc[k,'prior_mean'] = rv.loc\n",
    "        df.loc[k,'prior_std']  = rv.scale\n",
    "        \n",
    "    for k, rv in results.posterior.items():\n",
    "        k = _format_key(k)\n",
    "        df.loc[k,'post_mean'] = rv.loc\n",
    "        df.loc[k,'post_std']  = rv.scale\n",
    "    \n",
    "    \n",
    "    for ind in df.index:\n",
    "        x1 = np.random.normal(loc=df.loc[ind,'prior_mean'],scale=df.loc[ind,'prior_std'],size=100)\n",
    "        x2 = np.random.normal(loc=df.loc[ind,'post_mean'],scale=df.loc[ind,'post_std'],size=100)\n",
    "        df.loc[ind,'adj_pval_ttest'] = ttest_ind(x1,x2)[1]\n",
    "        df.loc[ind,'adj_pval_ftest'] = f_test(x1,x2)\n",
    "    \n",
    "    df['adj_pval_ttest'] = multipletests(df['adj_pval_ttest'],alpha=0.01)[1]\n",
    "    df['adj_pval_ftest'] = multipletests(df['adj_pval_ftest'],alpha=0.01)[1]\n",
    "    \n",
    "    print(df.shape)\n",
    "    print(df.head(n=5))\n",
    "    \n",
    "    \n",
    "    return df # in the unit of 1/s log10-transformed"
   ]
  },
  {
   "cell_type": "code",
   "execution_count": 12,
   "metadata": {},
   "outputs": [
    {
     "name": "stdout",
     "output_type": "stream",
     "text": [
      "(2497, 6)\n",
      "                                               prior_mean  prior_std  \\\n",
      "RXN0-7230No1__prot_TD01GL002123_c                4.725021   4.842504   \n",
      "CHD-RXNNo1__prot_TD01GL002123_c                  4.725021   4.842504   \n",
      "RXN-6021No1__prot_TD01GL002123_c                 5.305547   4.471942   \n",
      "CHD-RXN_REVNo1__prot_TD01GL002123_c              4.725021   4.842504   \n",
      "DEOXYRIBOSE-P-ALD-RXNNo1__prot_TD01GL000926_c    5.439844   4.290950   \n",
      "\n",
      "                                               post_mean  post_std  \\\n",
      "RXN0-7230No1__prot_TD01GL002123_c               4.258953  0.763642   \n",
      "CHD-RXNNo1__prot_TD01GL002123_c                 3.917714  0.860314   \n",
      "RXN-6021No1__prot_TD01GL002123_c                6.168649  1.433129   \n",
      "CHD-RXN_REVNo1__prot_TD01GL002123_c             3.376301  0.936485   \n",
      "DEOXYRIBOSE-P-ALD-RXNNo1__prot_TD01GL000926_c   4.890233  0.523267   \n",
      "\n",
      "                                               adj_pval_ttest  adj_pval_ftest  \n",
      "RXN0-7230No1__prot_TD01GL002123_c                    1.000000    2.772227e-13  \n",
      "CHD-RXNNo1__prot_TD01GL002123_c                      1.000000    2.772227e-13  \n",
      "RXN-6021No1__prot_TD01GL002123_c                     1.000000    2.772227e-13  \n",
      "CHD-RXN_REVNo1__prot_TD01GL002123_c                  0.006416    2.772227e-13  \n",
      "DEOXYRIBOSE-P-ALD-RXNNo1__prot_TD01GL000926_c        1.000000    2.772227e-13  \n"
     ]
    }
   ],
   "source": [
    "df02 = extract_mean_var_inRV(results02)"
   ]
  },
  {
   "cell_type": "code",
   "execution_count": 13,
   "metadata": {},
   "outputs": [
    {
     "name": "stdout",
     "output_type": "stream",
     "text": [
      "(2497, 6)\n",
      "                                               prior_mean  prior_std  \\\n",
      "RXN-6021No1__prot_TD01GL002123_c                 5.305547   4.471942   \n",
      "RXN0-7230No1__prot_TD01GL002123_c                4.725021   4.842504   \n",
      "CHD-RXNNo1__prot_TD01GL002123_c                  4.725021   4.842504   \n",
      "CHD-RXN_REVNo1__prot_TD01GL002123_c              4.725021   4.842504   \n",
      "DEOXYRIBOSE-P-ALD-RXNNo1__prot_TD01GL000926_c    5.439844   4.290950   \n",
      "\n",
      "                                               post_mean  post_std  \\\n",
      "RXN-6021No1__prot_TD01GL002123_c                3.677867  0.561823   \n",
      "RXN0-7230No1__prot_TD01GL002123_c               3.037731  1.472474   \n",
      "CHD-RXNNo1__prot_TD01GL002123_c                 2.075813  0.625598   \n",
      "CHD-RXN_REVNo1__prot_TD01GL002123_c             2.896047  1.362263   \n",
      "DEOXYRIBOSE-P-ALD-RXNNo1__prot_TD01GL000926_c   6.371746  0.469510   \n",
      "\n",
      "                                               adj_pval_ttest  adj_pval_ftest  \n",
      "RXN-6021No1__prot_TD01GL002123_c                     1.000000    2.772227e-13  \n",
      "RXN0-7230No1__prot_TD01GL002123_c                    0.051474    2.772227e-13  \n",
      "CHD-RXNNo1__prot_TD01GL002123_c                      0.001594    2.772227e-13  \n",
      "CHD-RXN_REVNo1__prot_TD01GL002123_c                  0.485429    2.772227e-13  \n",
      "DEOXYRIBOSE-P-ALD-RXNNo1__prot_TD01GL000926_c        0.999946    2.772227e-13  \n"
     ]
    }
   ],
   "source": [
    "df03 = extract_mean_var_inRV(results03)"
   ]
  },
  {
   "cell_type": "code",
   "execution_count": 28,
   "metadata": {},
   "outputs": [],
   "source": [
    "def do_scatter_plot(df,outtag=None):\n",
    "    plt.figure(figsize=(3,2.5))\n",
    "    sig_ind = df.index[df['adj_pval_ttest']<0.01]\n",
    "    nsig_ind = df.index[df['adj_pval_ttest']>=0.01]\n",
    "    plt.scatter(df.loc[sig_ind,'prior_mean'],df.loc[sig_ind,'post_mean'],zorder=3,color='#5ab4ac',alpha=0.5)\n",
    "    plt.scatter(df.loc[nsig_ind,'prior_mean'],df.loc[nsig_ind,'post_mean'],zorder=2,color='gray',alpha=0.5)\n",
    "\n",
    "    lim = [-1,9]\n",
    "    plt.plot(lim,lim,'k',zorder=1)\n",
    "    plt.xlim(lim)\n",
    "    plt.ylim(lim)\n",
    "    plt.xlabel('log10($k_{cat}$) (1/h)')\n",
    "    plt.ylabel('log10($k_{cat}$) (1/h)')\n",
    "    plt.tight_layout()\n",
    "    if outtag is not None: plt.savefig(outtag+'mean.pdf')\n",
    "    plt.show()\n",
    "    \n",
    "    plt.figure(figsize=(3,2.5))\n",
    "    sig_ind = df.index[df['adj_pval_ftest']<0.01]\n",
    "    nsig_ind = df.index[df['adj_pval_ftest']>=0.01]\n",
    "    plt.scatter(df.loc[sig_ind,'prior_std'],df.loc[sig_ind,'post_std'],zorder=3,color='#ef8a62',alpha=0.5)\n",
    "    plt.scatter(df.loc[nsig_ind,'prior_std'],df.loc[nsig_ind,'post_std'],zorder=2,color='gray',alpha=0.5)\n",
    "\n",
    "    lim = [-1,9]\n",
    "    plt.plot(lim,lim,'k',zorder=1)\n",
    "    plt.xlim(lim)\n",
    "    plt.ylim(lim)\n",
    "    plt.xlabel('log10($k_{cat}$) (1/h)')\n",
    "    plt.ylabel('log10($k_{cat}$) (1/h)')\n",
    "    \n",
    "    plt.tight_layout()\n",
    "    if outtag is not None: plt.savefig(outtag+'var.pdf')\n",
    "    plt.show()"
   ]
  },
  {
   "cell_type": "code",
   "execution_count": 29,
   "metadata": {},
   "outputs": [
    {
     "data": {
      "image/png": "[encoded data removed]",
      "text/plain": [
       "<Figure size 216x180 with 1 Axes>"
      ]
     },
     "metadata": {
      "needs_background": "light"
     },
     "output_type": "display_data"
    },
    {
     "data": {
      "image/png": "[encoded data removed]",
      "text/plain": [
       "<Figure size 216x180 with 1 Axes>"
      ]
     },
     "metadata": {
      "needs_background": "light"
     },
     "output_type": "display_data"
    }
   ],
   "source": [
    "do_scatter_plot(df02,'../figures/prior_vs_posterior_step02_')"
   ]
  },
  {
   "cell_type": "code",
   "execution_count": 30,
   "metadata": {},
   "outputs": [
    {
     "data": {
      "image/png": "[encoded data removed]",
      "text/plain": [
       "<Figure size 216x180 with 1 Axes>"
      ]
     },
     "metadata": {
      "needs_background": "light"
     },
     "output_type": "display_data"
    },
    {
     "data": {
      "image/png": "[encoded data removed]",
      "text/plain": [
       "<Figure size 216x180 with 1 Axes>"
      ]
     },
     "metadata": {
      "needs_background": "light"
     },
     "output_type": "display_data"
    }
   ],
   "source": [
    "do_scatter_plot(df03,'../figures/prior_vs_posterior_step03_')"
   ]
  },
  {
   "cell_type": "markdown",
   "metadata": {},
   "source": [
    "def extract_mean_var2(results):\n",
    "    def _format_key(k):\n",
    "        return '{0}__{1}'.format(k[0],k[1])\n",
    "    \n",
    "    prior_mean, post_mean = {}, {}\n",
    "    for pset in results.population_t0_kcats:\n",
    "        for k,v in pset.items(): prior_mean[_format_key(k)] = prior_mean.get(_format_key(k),[]) + [np.log10(v)]\n",
    "        # v is in the unit of 1/h\n",
    "        \n",
    "    for pset in results.population_kcats:\n",
    "        for k,v in pset.items(): post_mean[_format_key(k)] = post_mean.get(_format_key(k),[]) + [np.log10(v)]\n",
    "    \n",
    "    df = pd.DataFrame()\n",
    "    for k,lst in prior_mean.items():\n",
    "        df.loc[k,'prior_mean'] = 10**np.mean(lst)/3600\n",
    "        df.loc[k,'prior_std'] = 10**np.std(lst)/3600\n",
    "        \n",
    "        df.loc[k,'post_mean'] = 10**np.mean(post_mean[k])/3600\n",
    "        df.loc[k,'post_std'] = 10**np.std(post_mean[k])/3600\n",
    "        \n",
    "    print(df.shape)\n",
    "    print(df.head(n=5))\n",
    "    \n",
    "    \n",
    "    return df # in the unit of 1/s"
   ]
  },
  {
   "cell_type": "code",
   "execution_count": null,
   "metadata": {},
   "outputs": [],
   "source": []
  },
  {
   "cell_type": "markdown",
   "metadata": {},
   "source": [
    "def plot_mean_dist_comp(df):\n",
    "    \n",
    "    plt.figure(figsize=(3.5,3))\n",
    "    plt.hist(df['prior_mean'],50,label='prior',alpha=0.5)\n",
    "    plt.hist(df['post_mean'],50,label='post',alpha=0.5)\n",
    "    \n",
    "    plt.xlabel('log10($k_{cat}$) (1/h)')\n",
    "    plt.ylabel('Count')\n",
    "    plt.title('mean')\n",
    "    plt.legend()\n",
    "    \n",
    "    plt.tight_layout() \n",
    "    plt.show()\n",
    "    \n",
    "    plt.figure(figsize=(3.5,3))\n",
    "    plt.hist(df['prior_std'],50,label='prior',alpha=0.5)\n",
    "    plt.hist(df['post_std'],50,label='post',alpha=0.5)\n",
    "    plt.title('std')\n",
    "    \n",
    "    plt.xlabel('log10($k_{cat}$) (1/h)')\n",
    "    plt.ylabel('Count')\n",
    "    \n",
    "    plt.legend()\n",
    "    \n",
    "    plt.tight_layout() \n",
    "    plt.show()\n",
    "    \n",
    "    "
   ]
  },
  {
   "cell_type": "markdown",
   "metadata": {},
   "source": [
    "def plot_mean_scatter_comp(df):\n",
    "    \n",
    "    def _scatter_plot(prior,post,lim,title):\n",
    "        \n",
    "        plt.figure(figsize=(3.5,3))\n",
    "        plt.scatter(prior,post,zorder=1,edgecolor='#5ab4ac',\n",
    "            facecolor='none',\n",
    "            s=20,\n",
    "            alpha=0.8)\n",
    "    \n",
    "        plt.xlabel('Prior log10($k_{cat}$) (1/h)')\n",
    "        plt.ylabel('Posterior log10($k_{cat}$) (1/h)')\n",
    "\n",
    "        #lim = [-7,5]\n",
    "        plt.plot(lim,lim,zorder=0,color='k')\n",
    "\n",
    "        plt.xlim(lim)\n",
    "        plt.ylim(lim)\n",
    "        plt.title(title)\n",
    "        plt.tight_layout() \n",
    "        plt.show()\n",
    "    \n",
    "    \n",
    "    \n",
    "    _scatter_plot(df['prior_mean'],df['post_mean'],[0,9],'mean')\n",
    "    _scatter_plot(df['prior_std'],df['post_std'],[0,7],'std')\n",
    "   "
   ]
  },
  {
   "cell_type": "markdown",
   "metadata": {},
   "source": [
    "def visualize(results):\n",
    "    dfmstd = extract_mean_var_inRV(results)\n",
    "    plot_mean_dist_comp(dfmstd)\n",
    "    plot_mean_scatter_comp(dfmstd)"
   ]
  },
  {
   "cell_type": "markdown",
   "metadata": {},
   "source": [
    "visualize(results1)"
   ]
  },
  {
   "cell_type": "markdown",
   "metadata": {},
   "source": [
    "visualize(results2)"
   ]
  },
  {
   "cell_type": "code",
   "execution_count": null,
   "metadata": {},
   "outputs": [],
   "source": []
  }
 ],
 "metadata": {
  "kernelspec": {
   "display_name": "Python 3",
   "language": "python",
   "name": "python3"
  },
  "language_info": {
   "codemirror_mode": {
    "name": "ipython",
    "version": 3
   },
   "file_extension": ".py",
   "mimetype": "text/x-python",
   "name": "python",
   "nbconvert_exporter": "python",
   "pygments_lexer": "ipython3",
   "version": "3.6.7"
  }
 },
 "nbformat": 4,
 "nbformat_minor": 4
}
