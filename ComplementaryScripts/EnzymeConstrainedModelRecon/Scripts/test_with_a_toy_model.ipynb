{
 "cells": [
  {
   "cell_type": "code",
   "execution_count": 2,
   "metadata": {},
   "outputs": [],
   "source": [
    "import numpy as np\n",
    "from cobra import Model, Reaction, Metabolite\n",
    "import sys\n",
    "import os"
   ]
  },
  {
   "cell_type": "code",
   "execution_count": 12,
   "metadata": {},
   "outputs": [],
   "source": [
    "ecpy_path = '../../../ecpy/'\n",
    "sys.path.append(os.path.abspath(ecpy_path))\n",
    "import utils\n",
    "import ecpy"
   ]
  },
  {
   "cell_type": "markdown",
   "metadata": {},
   "source": [
    "#### Use the toy model in Ben's paper"
   ]
  },
  {
   "cell_type": "code",
   "execution_count": 5,
   "metadata": {},
   "outputs": [],
   "source": [
    "m1 = Metabolite('M1',compartment='c')\n",
    "m2 = Metabolite('M2',compartment='c')\n",
    "m3 = Metabolite('M3',compartment='c')\n",
    "m4 = Metabolite('M4',compartment='c')"
   ]
  },
  {
   "cell_type": "code",
   "execution_count": 6,
   "metadata": {},
   "outputs": [],
   "source": [
    "r1 = Reaction('R1',name='Reaction1')\n",
    "r1.add_metabolites({m1:1})\n",
    "r1.lower_bound = 0\n",
    "r1.upper_bound = 1000\n",
    "\n",
    "r2 = Reaction('R2',name='Reaction2')\n",
    "r2.add_metabolites({m2:1})\n",
    "r2.lower_bound = 0\n",
    "r2.upper_bound = 1000\n",
    "\n",
    "r3 = Reaction('R3',name='Reaction3')\n",
    "r3.add_metabolites({m1:-1,m2:-1,m3:1})\n",
    "r3.gene_reaction_rule = 'E1'\n",
    "r3.lower_bound = 0\n",
    "r3.upper_bound = 1000\n",
    "\n",
    "r4 = Reaction('R4',name='Reaction4')\n",
    "r4.add_metabolites({m3:-1,m4:1})\n",
    "r4.gene_reaction_rule = 'E1 or E2'\n",
    "r4.lower_bound = 0\n",
    "r4.upper_bound = 1000\n",
    "\n",
    "r5 = Reaction('R5',name='Reaction5')\n",
    "r5.add_metabolites({m2:-1,m4:1})\n",
    "r5.gene_reaction_rule = 'E3 and E4'\n",
    "r5.lower_bound = -1000\n",
    "r5.upper_bound = 1000\n",
    "\n",
    "r6 = Reaction('R6',name='Reaction6')\n",
    "r6.add_metabolites({m4:-1})\n",
    "r6.lower_bound = 0\n",
    "r6.upper_bound = 1000"
   ]
  },
  {
   "cell_type": "code",
   "execution_count": 7,
   "metadata": {},
   "outputs": [
    {
     "name": "stdout",
     "output_type": "stream",
     "text": [
      "Using license file /Users/gangl/gurobi.lic\n",
      "Academic license - for non-commercial use only\n"
     ]
    }
   ],
   "source": [
    "model = Model()\n",
    "model.add_reactions([r1,r2,r3,r4,r5,r6])"
   ]
  },
  {
   "cell_type": "code",
   "execution_count": 11,
   "metadata": {},
   "outputs": [
    {
     "name": "stdout",
     "output_type": "stream",
     "text": [
      "R1 Reaction1 \n",
      " --> M1 \n",
      "\n",
      "R2 Reaction2 \n",
      " --> M2 \n",
      "\n",
      "R3 Reaction3 E1\n",
      "M1 + M2 --> M3 \n",
      "\n",
      "R4 Reaction4 E1 or E2\n",
      "M3 --> M4 \n",
      "\n",
      "R5 Reaction5 E3 and E4\n",
      "M2 <=> M4 \n",
      "\n",
      "R6 Reaction6 \n",
      "M4 -->  \n",
      "\n"
     ]
    }
   ],
   "source": [
    "utils.report_model_rxns(model)"
   ]
  },
  {
   "cell_type": "markdown",
   "metadata": {},
   "source": [
    "#### Convert to irreversible model "
   ]
  },
  {
   "cell_type": "code",
   "execution_count": 13,
   "metadata": {},
   "outputs": [],
   "source": [
    "irrModel = ecpy.convertToIrrev(model)"
   ]
  },
  {
   "cell_type": "code",
   "execution_count": 14,
   "metadata": {},
   "outputs": [
    {
     "name": "stdout",
     "output_type": "stream",
     "text": [
      "R1 Reaction1 \n",
      " --> M1 \n",
      "\n",
      "R2 Reaction2 \n",
      " --> M2 \n",
      "\n",
      "R3 Reaction3 E1\n",
      "M1 + M2 --> M3 \n",
      "\n",
      "R4 Reaction4 E1 or E2\n",
      "M3 --> M4 \n",
      "\n",
      "R5 Reaction5 E3 and E4\n",
      "M2 --> M4 \n",
      "\n",
      "R5_REV Reaction5 (reversible) E3 and E4\n",
      "M4 --> M2 \n",
      "\n",
      "R6 Reaction6 \n",
      "M4 -->  \n",
      "\n"
     ]
    }
   ],
   "source": [
    "utils.report_model_rxns(irrModel)"
   ]
  },
  {
   "cell_type": "markdown",
   "metadata": {},
   "source": [
    "#### convert to ecmodel"
   ]
  },
  {
   "cell_type": "code",
   "execution_count": 15,
   "metadata": {},
   "outputs": [],
   "source": [
    "kcats = {\n",
    "     ('E1','R3'): 10,\n",
    "     ('E1','R4'): 100,\n",
    "     ('E2','R4'): 0.10,\n",
    "     ('E3','R5'): 5,\n",
    "     ('E3','R5_REV'): 12,\n",
    "     ('E4','R5'): 15,\n",
    "     ('E4','R5_REV'): 90,\n",
    "       }\n",
    "MWs = {\n",
    "    'E1': 1000,\n",
    "    'E2': 3000,\n",
    "    'E3': 5000,\n",
    "    'E4': 6000,\n",
    "    'E5': 10000,\n",
    "}"
   ]
  },
  {
   "cell_type": "code",
   "execution_count": 16,
   "metadata": {},
   "outputs": [],
   "source": [
    "eModel = ecpy.convertToEnzymeModel(irrModel,kcats)"
   ]
  },
  {
   "cell_type": "code",
   "execution_count": 17,
   "metadata": {},
   "outputs": [
    {
     "name": "stdout",
     "output_type": "stream",
     "text": [
      "R1 Reaction1 \n",
      " --> M1 \n",
      "\n",
      "R2 Reaction2 \n",
      " --> M2 \n",
      "\n",
      "R3No1 Reaction3 (No1) E1\n",
      "M1 + M2 + 0.1 prot_E1_c --> M3 \n",
      "\n",
      "arm_R4 Reaction4 (arm) \n",
      "M3 --> pmet_R4 \n",
      "\n",
      "R4No1 Reaction4 (No1) E1\n",
      "pmet_R4 + 0.01 prot_E1_c --> M4 \n",
      "\n",
      "R4No2 Reaction4 (No2) E2\n",
      "pmet_R4 + 10.0 prot_E2_c --> M4 \n",
      "\n",
      "R5No1 Reaction5 (No1) E3 and E4\n",
      "M2 + 0.2 prot_E3_c + 0.2 prot_E4_c --> M4 \n",
      "\n",
      "R5_REVNo1 Reaction5 (reversible) (No1) E3 and E4\n",
      "M4 + 0.08333333333333333 prot_E3_c + 0.08333333333333333 prot_E4_c --> M2 \n",
      "\n",
      "R6 Reaction6 \n",
      "M4 -->  \n",
      "\n",
      "prot_E1_exchange  E1\n",
      " --> prot_E1_c \n",
      "\n",
      "prot_E2_exchange  E2\n",
      " --> prot_E2_c \n",
      "\n",
      "prot_E3_exchange  E3\n",
      " --> prot_E3_c \n",
      "\n",
      "prot_E4_exchange  E4\n",
      " --> prot_E4_c \n",
      "\n"
     ]
    }
   ],
   "source": [
    "utils.report_model_rxns(eModel)"
   ]
  },
  {
   "cell_type": "markdown",
   "metadata": {},
   "source": [
    "#### add prot_pool  "
   ]
  },
  {
   "cell_type": "code",
   "execution_count": 18,
   "metadata": {},
   "outputs": [
    {
     "name": "stdout",
     "output_type": "stream",
     "text": [
      "Read LP format model from file /var/folders/dx/ghtq02dx2w307xx_5hncb421qny3_w/T/tmpgged3_xz.lp\n",
      "Reading time = 0.01 seconds\n",
      ": 9 rows, 26 columns, 54 nonzeros\n"
     ]
    }
   ],
   "source": [
    "ecModel = ecpy.constrainPool(eModel,MWs, ['E1','E2','E4'],10)"
   ]
  },
  {
   "cell_type": "code",
   "execution_count": 19,
   "metadata": {},
   "outputs": [
    {
     "name": "stdout",
     "output_type": "stream",
     "text": [
      "R1 Reaction1 \n",
      " --> M1 \n",
      "\n",
      "R2 Reaction2 \n",
      " --> M2 \n",
      "\n",
      "R3No1 Reaction3 (No1) E1\n",
      "M1 + M2 + 0.1 prot_E1_c --> M3 \n",
      "\n",
      "arm_R4 Reaction4 (arm) \n",
      "M3 --> pmet_R4 \n",
      "\n",
      "R4No1 Reaction4 (No1) E1\n",
      "pmet_R4 + 0.01 prot_E1_c --> M4 \n",
      "\n",
      "R4No2 Reaction4 (No2) E2\n",
      "pmet_R4 + 10.0 prot_E2_c --> M4 \n",
      "\n",
      "R5No1 Reaction5 (No1) E3 and E4\n",
      "M2 + 0.2 prot_E3_c + 0.2 prot_E4_c --> M4 \n",
      "\n",
      "R5_REVNo1 Reaction5 (reversible) (No1) E3 and E4\n",
      "M4 + 0.08333333333333333 prot_E3_c + 0.08333333333333333 prot_E4_c --> M2 \n",
      "\n",
      "R6 Reaction6 \n",
      "M4 -->  \n",
      "\n",
      "prot_E3_exchange  E3\n",
      " --> prot_E3_c \n",
      "\n",
      "draw_prot_E1 draw_prot_E1 \n",
      "1000 prot_pool --> prot_E1_c \n",
      "\n",
      "draw_prot_E2 draw_prot_E2 \n",
      "3000 prot_pool --> prot_E2_c \n",
      "\n",
      "draw_prot_E4 draw_prot_E4 \n",
      "6000 prot_pool --> prot_E4_c \n",
      "\n",
      "prot_pool_exchange prot_pool_exchange \n",
      " --> prot_pool \n",
      "\n"
     ]
    }
   ],
   "source": [
    "utils.report_model_rxns(ecModel)"
   ]
  },
  {
   "cell_type": "code",
   "execution_count": 20,
   "metadata": {},
   "outputs": [],
   "source": [
    "ecModel.objective = 'R6'"
   ]
  },
  {
   "cell_type": "code",
   "execution_count": 21,
   "metadata": {},
   "outputs": [],
   "source": [
    "s = ecModel.optimize()"
   ]
  },
  {
   "cell_type": "code",
   "execution_count": 22,
   "metadata": {},
   "outputs": [
    {
     "name": "stdout",
     "output_type": "stream",
     "text": [
      "0.09090909090909091\n"
     ]
    },
    {
     "data": {
      "text/plain": [
       "R1                     0.090909\n",
       "R2                     0.090909\n",
       "R3No1                  0.090909\n",
       "arm_R4                 0.090909\n",
       "R4No1                  0.090909\n",
       "R4No2                  0.000000\n",
       "R5No1                  0.000000\n",
       "R5_REVNo1              0.000000\n",
       "R6                     0.090909\n",
       "prot_E3_exchange       0.000000\n",
       "draw_prot_E1           0.010000\n",
       "draw_prot_E2           0.000000\n",
       "draw_prot_E4           0.000000\n",
       "prot_pool_exchange    10.000000\n",
       "Name: fluxes, dtype: float64"
      ]
     },
     "execution_count": 22,
     "metadata": {},
     "output_type": "execute_result"
    }
   ],
   "source": [
    "print(s.objective_value)\n",
    "s.fluxes"
   ]
  },
  {
   "cell_type": "markdown",
   "metadata": {},
   "source": [
    "#### Add proteomics data"
   ]
  },
  {
   "cell_type": "code",
   "execution_count": 23,
   "metadata": {},
   "outputs": [],
   "source": [
    "enzyme_abandance = {'E3':0.001}"
   ]
  },
  {
   "cell_type": "code",
   "execution_count": 24,
   "metadata": {},
   "outputs": [],
   "source": [
    "for enz, ab in enzyme_abandance.items():\n",
    "    rxn = ecModel.reactions.get_by_id('prot_{0}_exchange'.format(enz))\n",
    "    rxn.lower_bound = ab"
   ]
  },
  {
   "cell_type": "code",
   "execution_count": 25,
   "metadata": {},
   "outputs": [
    {
     "name": "stdout",
     "output_type": "stream",
     "text": [
      "0.04136363636363636\n"
     ]
    },
    {
     "data": {
      "text/plain": [
       "R1                     0.036364\n",
       "R2                     0.041364\n",
       "R3No1                  0.036364\n",
       "arm_R4                 0.036364\n",
       "R4No1                  0.036364\n",
       "R4No2                  0.000000\n",
       "R5No1                  0.005000\n",
       "R5_REVNo1              0.000000\n",
       "R6                     0.041364\n",
       "prot_E3_exchange       0.001000\n",
       "draw_prot_E1           0.004000\n",
       "draw_prot_E2           0.000000\n",
       "draw_prot_E4           0.001000\n",
       "prot_pool_exchange    10.000000\n",
       "Name: fluxes, dtype: float64"
      ]
     },
     "execution_count": 25,
     "metadata": {},
     "output_type": "execute_result"
    }
   ],
   "source": [
    "s = ecModel.optimize()\n",
    "print(s.objective_value)\n",
    "s.fluxes"
   ]
  },
  {
   "cell_type": "code",
   "execution_count": null,
   "metadata": {},
   "outputs": [],
   "source": []
  }
 ],
 "metadata": {
  "kernelspec": {
   "display_name": "Python 3",
   "language": "python",
   "name": "python3"
  },
  "language_info": {
   "codemirror_mode": {
    "name": "ipython",
    "version": 3
   },
   "file_extension": ".py",
   "mimetype": "text/x-python",
   "name": "python",
   "nbconvert_exporter": "python",
   "pygments_lexer": "ipython3",
   "version": "3.7.2"
  }
 },
 "nbformat": 4,
 "nbformat_minor": 2
}
