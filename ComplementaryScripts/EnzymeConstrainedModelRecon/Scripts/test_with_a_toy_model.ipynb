{
 "cells": [
  {
   "cell_type": "code",
   "execution_count": 1,
   "metadata": {},
   "outputs": [],
   "source": [
    "import numpy as np\n",
    "from cobra import Model, Reaction, Metabolite\n",
    "import utils"
   ]
  },
  {
   "cell_type": "code",
   "execution_count": 2,
   "metadata": {},
   "outputs": [
    {
     "data": {
      "text/plain": [
       "<module 'utils' from '/Users/gangl/Documents/GitHub/Halo-GEM/ComplementaryScripts/EnzymeConstrainedModelRecon/Scripts/utils.py'>"
      ]
     },
     "execution_count": 2,
     "metadata": {},
     "output_type": "execute_result"
    }
   ],
   "source": [
    "import importlib\n",
    "importlib.reload(utils)"
   ]
  },
  {
   "cell_type": "code",
   "execution_count": 3,
   "metadata": {},
   "outputs": [],
   "source": [
    "def report_model_rxns(model):\n",
    "    for rxn in model.reactions: \n",
    "        print(rxn.id, rxn.name, rxn.gene_reaction_rule)\n",
    "        print(rxn.reaction,'\\n')"
   ]
  },
  {
   "cell_type": "markdown",
   "metadata": {},
   "source": [
    "#### Use the toy model in Ben's paper"
   ]
  },
  {
   "cell_type": "code",
   "execution_count": 4,
   "metadata": {},
   "outputs": [],
   "source": [
    "m1 = Metabolite('M1',compartment='c')\n",
    "m2 = Metabolite('M2',compartment='c')\n",
    "m3 = Metabolite('M3',compartment='c')\n",
    "m4 = Metabolite('M4',compartment='c')"
   ]
  },
  {
   "cell_type": "code",
   "execution_count": 5,
   "metadata": {},
   "outputs": [],
   "source": [
    "r1 = Reaction('R1',name='Reaction 1')\n",
    "r1.add_metabolites({m1:1})\n",
    "r1.lower_bound = 0\n",
    "r1.upper_bound = 1000\n",
    "\n",
    "r2 = Reaction('R2',name='Reaction 2')\n",
    "r2.add_metabolites({m2:1})\n",
    "r2.lower_bound = 0\n",
    "r2.upper_bound = 1000\n",
    "\n",
    "r3 = Reaction('R3',name='Reaction 3')\n",
    "r3.add_metabolites({m1:-1,m2:-1,m3:1})\n",
    "r3.gene_reaction_rule = 'E1'\n",
    "r3.lower_bound = 0\n",
    "r3.upper_bound = 1000\n",
    "\n",
    "r4 = Reaction('R4',name='Reaction 4')\n",
    "r4.add_metabolites({m3:-1,m4:1})\n",
    "r4.gene_reaction_rule = 'E1 or E2'\n",
    "r4.lower_bound = 0\n",
    "r4.upper_bound = 1000\n",
    "\n",
    "r5 = Reaction('R5',name='Reaction 5')\n",
    "r5.add_metabolites({m2:-1,m4:1})\n",
    "r5.gene_reaction_rule = 'E3 and E4'\n",
    "r5.lower_bound = -1000\n",
    "r5.upper_bound = 1000\n",
    "\n",
    "r1 = Reaction('R6',name='Reaction 6')\n",
    "r1.add_metabolites({m4:-1})\n",
    "r1.lower_bound = 0\n",
    "r1.upper_bound = 1000"
   ]
  },
  {
   "cell_type": "code",
   "execution_count": 6,
   "metadata": {},
   "outputs": [
    {
     "name": "stdout",
     "output_type": "stream",
     "text": [
      "Using license file /Users/gangl/gurobi.lic\n",
      "Academic license - for non-commercial use only\n"
     ]
    }
   ],
   "source": [
    "model = Model()\n",
    "model.add_reactions([r1,r2,r3,r4,r5])"
   ]
  },
  {
   "cell_type": "code",
   "execution_count": 7,
   "metadata": {},
   "outputs": [
    {
     "name": "stdout",
     "output_type": "stream",
     "text": [
      "R6 Reaction 6 \n",
      "M4 -->  \n",
      "\n",
      "R2 Reaction 2 \n",
      " --> M2 \n",
      "\n",
      "R3 Reaction 3 E1\n",
      "M1 + M2 --> M3 \n",
      "\n",
      "R4 Reaction 4 E1 or E2\n",
      "M3 --> M4 \n",
      "\n",
      "R5 Reaction 5 E3 and E4\n",
      "M2 <=> M4 \n",
      "\n"
     ]
    }
   ],
   "source": [
    "report_model_rxns(model)"
   ]
  },
  {
   "cell_type": "markdown",
   "metadata": {},
   "source": [
    "#### Convert to irreversible model "
   ]
  },
  {
   "cell_type": "code",
   "execution_count": 8,
   "metadata": {},
   "outputs": [],
   "source": [
    "irrModel = utils.convertToIrrev(model)"
   ]
  },
  {
   "cell_type": "code",
   "execution_count": 9,
   "metadata": {},
   "outputs": [
    {
     "name": "stdout",
     "output_type": "stream",
     "text": [
      "R6 Reaction 6 \n",
      "M4 -->  \n",
      "\n",
      "R2 Reaction 2 \n",
      " --> M2 \n",
      "\n",
      "R3 Reaction 3 E1\n",
      "M1 + M2 --> M3 \n",
      "\n",
      "R4 Reaction 4 E1 or E2\n",
      "M3 --> M4 \n",
      "\n",
      "R5 Reaction 5 E3 and E4\n",
      "M2 --> M4 \n",
      "\n",
      "R5_REV Reaction 5 (reversible) E3 and E4\n",
      "M4 --> M2 \n",
      "\n"
     ]
    }
   ],
   "source": [
    "report_model_rxns(irrModel)"
   ]
  },
  {
   "cell_type": "markdown",
   "metadata": {},
   "source": [
    "#### convert to ecmodel"
   ]
  },
  {
   "cell_type": "code",
   "execution_count": 10,
   "metadata": {},
   "outputs": [],
   "source": [
    "kcats = {\n",
    "     ('E1','R3'): 10,\n",
    "     ('E1','R4'): 100,\n",
    "     ('E2','R4'): 0.10,\n",
    "     ('E3','R5'): 5,\n",
    "     ('E3','R5_REV'): 12,\n",
    "     ('E4','R5'): 15,\n",
    "     ('E4','R5_REV'): 90,\n",
    "       }\n",
    "MWs = {\n",
    "    'E1': 1000,\n",
    "    'E2': 3000,\n",
    "    'E3': 5000,\n",
    "    'E4': 6000,\n",
    "    'E5': 10000,\n",
    "}"
   ]
  },
  {
   "cell_type": "code",
   "execution_count": 11,
   "metadata": {},
   "outputs": [],
   "source": [
    "eModel = utils.convertToEnzymeModel(irrModel,kcats)"
   ]
  },
  {
   "cell_type": "code",
   "execution_count": 12,
   "metadata": {},
   "outputs": [
    {
     "name": "stdout",
     "output_type": "stream",
     "text": [
      "R6 Reaction 6 \n",
      "M4 -->  \n",
      "\n",
      "R2 Reaction 2 \n",
      " --> M2 \n",
      "\n",
      "R3 Reaction 3 E1\n",
      "M1 + M2 + 0.1 prot_E1_c --> M3 \n",
      "\n",
      "arm_R4 Reaction 4 (arm) \n",
      "M3 --> pmet_R4 \n",
      "\n",
      "R4No1 Reaction 4 (No1) E1\n",
      "pmet_R4 + 0.01 prot_E1_c --> M4 \n",
      "\n",
      "R4No2 Reaction 4 (No2) E2\n",
      "pmet_R4 + 10.0 prot_E2_c --> M4 \n",
      "\n",
      "R5 Reaction 5 E3 and E4\n",
      "M2 + 0.2 prot_E3_c + 0.2 prot_E4_c --> M4 \n",
      "\n",
      "R5_REV Reaction 5 (reversible) E3 and E4\n",
      "M4 + 0.08333333333333333 prot_E3_c + 0.08333333333333333 prot_E4_c --> M2 \n",
      "\n",
      "prot_E1_exchange  E1\n",
      " --> prot_E1_c \n",
      "\n",
      "prot_E2_exchange  E2\n",
      " --> prot_E2_c \n",
      "\n",
      "prot_E3_exchange  E3\n",
      " --> prot_E3_c \n",
      "\n",
      "prot_E4_exchange  E4\n",
      " --> prot_E4_c \n",
      "\n"
     ]
    }
   ],
   "source": [
    "report_model_rxns(eModel)"
   ]
  },
  {
   "cell_type": "markdown",
   "metadata": {},
   "source": [
    "#### add prot_pool  "
   ]
  },
  {
   "cell_type": "code",
   "execution_count": 13,
   "metadata": {},
   "outputs": [
    {
     "name": "stdout",
     "output_type": "stream",
     "text": [
      "Read LP format model from file /var/folders/dx/ghtq02dx2w307xx_5hncb421qny3_w/T/tmpdc5_l3n0.lp\n",
      "Reading time = 0.00 seconds\n",
      ": 9 rows, 24 columns, 52 nonzeros\n"
     ]
    }
   ],
   "source": [
    "ecModel = utils.constrainPool(eModel,MWs, ['E1','E2','E4'],10)"
   ]
  },
  {
   "cell_type": "code",
   "execution_count": 14,
   "metadata": {},
   "outputs": [
    {
     "name": "stdout",
     "output_type": "stream",
     "text": [
      "R6 Reaction 6 \n",
      "M4 -->  \n",
      "\n",
      "R2 Reaction 2 \n",
      " --> M2 \n",
      "\n",
      "R3 Reaction 3 E1\n",
      "M1 + M2 + 0.1 prot_E1_c --> M3 \n",
      "\n",
      "arm_R4 Reaction 4 (arm) \n",
      "M3 --> pmet_R4 \n",
      "\n",
      "R4No1 Reaction 4 (No1) E1\n",
      "pmet_R4 + 0.01 prot_E1_c --> M4 \n",
      "\n",
      "R4No2 Reaction 4 (No2) E2\n",
      "pmet_R4 + 10.0 prot_E2_c --> M4 \n",
      "\n",
      "R5 Reaction 5 E3 and E4\n",
      "M2 + 0.2 prot_E3_c + 0.2 prot_E4_c --> M4 \n",
      "\n",
      "R5_REV Reaction 5 (reversible) E3 and E4\n",
      "M4 + 0.08333333333333333 prot_E3_c + 0.08333333333333333 prot_E4_c --> M2 \n",
      "\n",
      "prot_E3_exchange  E3\n",
      " --> prot_E3_c \n",
      "\n",
      "draw_prot_E1 draw_prot_E1 \n",
      "1000 prot_pool --> prot_E1_c \n",
      "\n",
      "draw_prot_E2 draw_prot_E2 \n",
      "3000 prot_pool --> prot_E2_c \n",
      "\n",
      "draw_prot_E4 draw_prot_E4 \n",
      "6000 prot_pool --> prot_E4_c \n",
      "\n",
      "prot_pool_exchange prot_pool_exchange \n",
      " --> prot_pool \n",
      "\n"
     ]
    }
   ],
   "source": [
    "report_model_rxns(ecModel)"
   ]
  },
  {
   "cell_type": "code",
   "execution_count": 15,
   "metadata": {},
   "outputs": [],
   "source": [
    "ecModel.objective = 'R6'"
   ]
  },
  {
   "cell_type": "code",
   "execution_count": 16,
   "metadata": {},
   "outputs": [
    {
     "data": {
      "text/html": [
       "<strong><em>Optimal</em> solution with objective value 0.008</strong><br><div>\n",
       "<style scoped>\n",
       "    .dataframe tbody tr th:only-of-type {\n",
       "        vertical-align: middle;\n",
       "    }\n",
       "\n",
       "    .dataframe tbody tr th {\n",
       "        vertical-align: top;\n",
       "    }\n",
       "\n",
       "    .dataframe thead th {\n",
       "        text-align: right;\n",
       "    }\n",
       "</style>\n",
       "<table border=\"1\" class=\"dataframe\">\n",
       "  <thead>\n",
       "    <tr style=\"text-align: right;\">\n",
       "      <th></th>\n",
       "      <th>fluxes</th>\n",
       "      <th>reduced_costs</th>\n",
       "    </tr>\n",
       "  </thead>\n",
       "  <tbody>\n",
       "    <tr>\n",
       "      <th>R6</th>\n",
       "      <td>0.008333</td>\n",
       "      <td>0.000000e+00</td>\n",
       "    </tr>\n",
       "    <tr>\n",
       "      <th>R2</th>\n",
       "      <td>0.008333</td>\n",
       "      <td>0.000000e+00</td>\n",
       "    </tr>\n",
       "    <tr>\n",
       "      <th>R3</th>\n",
       "      <td>0.000000</td>\n",
       "      <td>4.163336e-17</td>\n",
       "    </tr>\n",
       "    <tr>\n",
       "      <th>arm_R4</th>\n",
       "      <td>0.000000</td>\n",
       "      <td>0.000000e+00</td>\n",
       "    </tr>\n",
       "    <tr>\n",
       "      <th>R4No1</th>\n",
       "      <td>0.000000</td>\n",
       "      <td>0.000000e+00</td>\n",
       "    </tr>\n",
       "    <tr>\n",
       "      <th>...</th>\n",
       "      <td>...</td>\n",
       "      <td>...</td>\n",
       "    </tr>\n",
       "    <tr>\n",
       "      <th>prot_E3_exchange</th>\n",
       "      <td>0.001667</td>\n",
       "      <td>0.000000e+00</td>\n",
       "    </tr>\n",
       "    <tr>\n",
       "      <th>draw_prot_E1</th>\n",
       "      <td>0.000000</td>\n",
       "      <td>0.000000e+00</td>\n",
       "    </tr>\n",
       "    <tr>\n",
       "      <th>draw_prot_E2</th>\n",
       "      <td>0.000000</td>\n",
       "      <td>0.000000e+00</td>\n",
       "    </tr>\n",
       "    <tr>\n",
       "      <th>draw_prot_E4</th>\n",
       "      <td>0.001667</td>\n",
       "      <td>0.000000e+00</td>\n",
       "    </tr>\n",
       "    <tr>\n",
       "      <th>prot_pool_exchange</th>\n",
       "      <td>10.000000</td>\n",
       "      <td>1.666667e-03</td>\n",
       "    </tr>\n",
       "  </tbody>\n",
       "</table>\n",
       "<p>13 rows × 2 columns</p>\n",
       "</div>"
      ],
      "text/plain": [
       "<Solution 0.008 at 0x131bdeab70>"
      ]
     },
     "execution_count": 16,
     "metadata": {},
     "output_type": "execute_result"
    }
   ],
   "source": [
    "ecModel.optimize()"
   ]
  }
 ],
 "metadata": {
  "kernelspec": {
   "display_name": "Python 3",
   "language": "python",
   "name": "python3"
  },
  "language_info": {
   "codemirror_mode": {
    "name": "ipython",
    "version": 3
   },
   "file_extension": ".py",
   "mimetype": "text/x-python",
   "name": "python",
   "nbconvert_exporter": "python",
   "pygments_lexer": "ipython3",
   "version": "3.7.2"
  }
 },
 "nbformat": 4,
 "nbformat_minor": 2
}
