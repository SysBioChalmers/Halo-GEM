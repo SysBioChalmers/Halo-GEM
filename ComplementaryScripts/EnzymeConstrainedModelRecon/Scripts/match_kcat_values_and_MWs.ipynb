{
 "cells": [
  {
   "cell_type": "code",
   "execution_count": 7,
   "metadata": {},
   "outputs": [],
   "source": [
    "import pandas as pd\n",
    "import numpy as np\n",
    "#import operations as op\n",
    "import cobra\n",
    "from Bio import SeqIO\n",
    "from Bio.SeqUtils.ProtParam import ProteinAnalysis\n",
    "\n",
    "import sys\n",
    "import os"
   ]
  },
  {
   "cell_type": "code",
   "execution_count": 8,
   "metadata": {},
   "outputs": [],
   "source": [
    "ecpy_path = '../../../ecpy/'\n",
    "sys.path.append(os.path.abspath(ecpy_path))\n",
    "import utils\n",
    "import ecpy"
   ]
  },
  {
   "cell_type": "code",
   "execution_count": 9,
   "metadata": {},
   "outputs": [
    {
     "data": {
      "text/plain": [
       "<module 'ecpy' from '/Users/gangl/Documents/GitHub/Halo-GEM/ecpy/ecpy.py'>"
      ]
     },
     "execution_count": 9,
     "metadata": {},
     "output_type": "execute_result"
    }
   ],
   "source": [
    "import importlib\n",
    "importlib.reload(utils)\n",
    "importlib.reload(ecpy)"
   ]
  },
  {
   "cell_type": "markdown",
   "metadata": {},
   "source": [
    "#### 1. Match kcat values\n",
    "The input `max_KCAT.txt` file was downloaded from https://github.com/SysBioChalmers/GECKO/blob/master/databases/max_KCAT.txt.  \n",
    "Only those kcat values from **Bacteria** will be used, since there is no kcat values available for this H. TD01. Following match criteria was used:  \n",
    "(1) Try to match EC number and substrate  \n",
    "(2) Try to match only EC number  \n",
    "(3) If no match is found in above two steps, intoduce one wildcard to the last digit of the EC number. Then repeat step (1) and (2). If still no match is found, introduce two wildcards to the last two digits of the EC number. Then repeat again. Repeat until all digits of the EC number are replaced with wildcard.   \n",
    "  \n",
    "In the end, a list of kcat values is collected for each ec number. Use **the mean and standard deviation of log10-transformed values** as the estimated kcat and associated uncertainties.\n",
    "\n",
    "Those kcat values have a unit of `1/s`"
   ]
  },
  {
   "cell_type": "markdown",
   "metadata": {},
   "source": [
    "##### 1.1 Overview of the kcat database"
   ]
  },
  {
   "cell_type": "code",
   "execution_count": 10,
   "metadata": {},
   "outputs": [
    {
     "name": "stdout",
     "output_type": "stream",
     "text": [
      "(30162, 5)\n"
     ]
    }
   ],
   "source": [
    "kcat_file = '../../../ComplementaryData/max_KCAT.txt'\n",
    "dfkcat = pd.read_csv(kcat_file,sep='\\t',header=None)\n",
    "dfkcat.columns = ['ec','substrate','species','kcat','comments']\n",
    "print(dfkcat.shape)"
   ]
  },
  {
   "cell_type": "code",
   "execution_count": 11,
   "metadata": {},
   "outputs": [
    {
     "data": {
      "text/plain": [
       "(5.83e-10, 7900000.0)"
      ]
     },
     "execution_count": 11,
     "metadata": {},
     "output_type": "execute_result"
    }
   ],
   "source": [
    "np.min(dfkcat['kcat']), np.max(dfkcat['kcat'])\n"
   ]
  },
  {
   "cell_type": "code",
   "execution_count": 12,
   "metadata": {},
   "outputs": [
    {
     "data": {
      "image/png": "[encoded data removed]",
      "text/plain": [
       "<Figure size 288x216 with 1 Axes>"
      ]
     },
     "metadata": {
      "needs_background": "light"
     },
     "output_type": "display_data"
    }
   ],
   "source": [
    "utils.plot_kcat_dist(dfkcat)"
   ]
  },
  {
   "cell_type": "code",
   "execution_count": 6,
   "metadata": {},
   "outputs": [
    {
     "name": "stdout",
     "output_type": "stream",
     "text": [
      "10284\n"
     ]
    }
   ],
   "source": [
    "sel_ind = [ind for ind in dfkcat.index if 'bacteria' in dfkcat.loc[ind,'species']]\n",
    "print(len(sel_ind))"
   ]
  },
  {
   "cell_type": "code",
   "execution_count": 7,
   "metadata": {},
   "outputs": [],
   "source": [
    "dfkcat = dfkcat.loc[sel_ind,:]"
   ]
  },
  {
   "cell_type": "code",
   "execution_count": 8,
   "metadata": {},
   "outputs": [
    {
     "data": {
      "image/png": "[encoded data removed]",
      "text/plain": [
       "<Figure size 288x216 with 1 Axes>"
      ]
     },
     "metadata": {
      "needs_background": "light"
     },
     "output_type": "display_data"
    }
   ],
   "source": [
    "utils.plot_kcat_dist(dfkcat)"
   ]
  },
  {
   "cell_type": "markdown",
   "metadata": {},
   "source": [
    "##### 1.2. Perform match\n",
    "(1) Firstly load the GEM model  \n",
    "(2) Convert it to an irreversible model  \n",
    "(3) Do match"
   ]
  },
  {
   "cell_type": "code",
   "execution_count": 9,
   "metadata": {},
   "outputs": [
    {
     "name": "stdout",
     "output_type": "stream",
     "text": [
      "Using license file /Users/gangl/gurobi.lic\n",
      "Academic license - for non-commercial use only\n"
     ]
    }
   ],
   "source": [
    "model_file = '../../../ModelFiles/json/Halo_GEM_v1.json'\n",
    "model = cobra.io.load_json_model(model_file)"
   ]
  },
  {
   "cell_type": "code",
   "execution_count": 10,
   "metadata": {},
   "outputs": [],
   "source": [
    "irrModel = ecpy.convertToIrrev(model)"
   ]
  },
  {
   "cell_type": "code",
   "execution_count": 11,
   "metadata": {},
   "outputs": [
    {
     "name": "stdout",
     "output_type": "stream",
     "text": [
      "1850 / 2691 have been assigned with at least one ec number\n",
      "Searching with 0 wildcard(s)\n"
     ]
    },
    {
     "name": "stderr",
     "output_type": "stream",
     "text": [
      "/Users/gangl/anaconda3/lib/python3.7/site-packages/pandas/core/indexing.py:1472 \u001b[1;31mPerformanceWarning\u001b[0m: indexing past lexsort depth may impact performance.\n"
     ]
    },
    {
     "name": "stdout",
     "output_type": "stream",
     "text": [
      "1071 reactions are matched at this step. 1071/1850 are finished.\n",
      "\n",
      "Searching with 1 wildcard(s)\n",
      "731 reactions are matched at this step. 1802/1850 are finished.\n",
      "\n",
      "Searching with 2 wildcard(s)\n",
      "11 reactions are matched at this step. 1813/1850 are finished.\n",
      "\n",
      "Searching with 3 wildcard(s)\n",
      "4 reactions are matched at this step. 1817/1850 are finished.\n",
      "\n",
      "Searching with 4 wildcard(s)\n",
      "33 reactions are matched at this step. 1850/1850 are finished.\n",
      "\n"
     ]
    }
   ],
   "source": [
    "rxn_kcats, case_count = ecpy.match_kcats(irrModel,dfkcat)"
   ]
  },
  {
   "cell_type": "code",
   "execution_count": 12,
   "metadata": {},
   "outputs": [
    {
     "name": "stdout",
     "output_type": "stream",
     "text": [
      "With 0 wildcards, kcats were found for 392 reactions by matching EC number and substrate\n",
      "With 0 wildcards, kcats were found for 679 reactions by matching only EC number\n",
      "With 1 wildcards, kcats were found for 144 reactions by matching EC number and substrate\n",
      "With 1 wildcards, kcats were found for 587 reactions by matching only EC number\n",
      "With 2 wildcards, kcats were found for 2 reactions by matching EC number and substrate\n",
      "With 2 wildcards, kcats were found for 9 reactions by matching only EC number\n",
      "With 3 wildcards, kcats were found for 4 reactions by matching only EC number\n",
      "With 4 wildcards, kcats were found for 2 reactions by matching EC number and substrate\n",
      "With 4 wildcards, kcats were found for 31 reactions by matching only EC number\n"
     ]
    }
   ],
   "source": [
    "utils.report_match_kcats(case_count)"
   ]
  },
  {
   "cell_type": "markdown",
   "metadata": {},
   "source": [
    "##### 1.3 create an pd.DataFrame and visualize the resulting kcats  "
   ]
  },
  {
   "cell_type": "code",
   "execution_count": 13,
   "metadata": {},
   "outputs": [],
   "source": [
    "def bootstrap_max(lst):\n",
    "    max_vals = []\n",
    "    for i in range(100): max_vals.append(np.max(np.random.choice(lst,len(lst))))\n",
    "    return np.mean(max_vals),np.std(max_vals)"
   ]
  },
  {
   "cell_type": "code",
   "execution_count": 14,
   "metadata": {},
   "outputs": [
    {
     "name": "stdout",
     "output_type": "stream",
     "text": [
      "(1850, 4)\n"
     ]
    },
    {
     "data": {
      "text/html": [
       "<div>\n",
       "<style scoped>\n",
       "    .dataframe tbody tr th:only-of-type {\n",
       "        vertical-align: middle;\n",
       "    }\n",
       "\n",
       "    .dataframe tbody tr th {\n",
       "        vertical-align: top;\n",
       "    }\n",
       "\n",
       "    .dataframe thead th {\n",
       "        text-align: right;\n",
       "    }\n",
       "</style>\n",
       "<table border=\"1\" class=\"dataframe\">\n",
       "  <thead>\n",
       "    <tr style=\"text-align: right;\">\n",
       "      <th></th>\n",
       "      <th>log10_kcat_mean</th>\n",
       "      <th>log10_kcat_std</th>\n",
       "      <th>log10_kcat_max</th>\n",
       "      <th>log10_kcat_max_std</th>\n",
       "    </tr>\n",
       "  </thead>\n",
       "  <tbody>\n",
       "    <tr>\n",
       "      <th>RXN-6021</th>\n",
       "      <td>1.749244</td>\n",
       "      <td>0.915640</td>\n",
       "      <td>3.452080</td>\n",
       "      <td>0.294740</td>\n",
       "    </tr>\n",
       "    <tr>\n",
       "      <th>DEOXYRIBOSE-P-ALD-RXN</th>\n",
       "      <td>1.883541</td>\n",
       "      <td>0.734648</td>\n",
       "      <td>2.542757</td>\n",
       "      <td>0.390754</td>\n",
       "    </tr>\n",
       "    <tr>\n",
       "      <th>THREONINE-ALDOLASE-RXN</th>\n",
       "      <td>0.271842</td>\n",
       "      <td>1.000000</td>\n",
       "      <td>0.271842</td>\n",
       "      <td>1.000000</td>\n",
       "    </tr>\n",
       "    <tr>\n",
       "      <th>R00945</th>\n",
       "      <td>1.435783</td>\n",
       "      <td>0.816750</td>\n",
       "      <td>2.287620</td>\n",
       "      <td>0.741109</td>\n",
       "    </tr>\n",
       "    <tr>\n",
       "      <th>R00945_REV</th>\n",
       "      <td>0.698970</td>\n",
       "      <td>1.000000</td>\n",
       "      <td>0.698970</td>\n",
       "      <td>1.000000</td>\n",
       "    </tr>\n",
       "    <tr>\n",
       "      <th>R02300_copy1</th>\n",
       "      <td>1.223489</td>\n",
       "      <td>0.118440</td>\n",
       "      <td>1.309157</td>\n",
       "      <td>0.017991</td>\n",
       "    </tr>\n",
       "    <tr>\n",
       "      <th>R02300_copy2</th>\n",
       "      <td>1.223489</td>\n",
       "      <td>0.118440</td>\n",
       "      <td>1.309617</td>\n",
       "      <td>0.017125</td>\n",
       "    </tr>\n",
       "    <tr>\n",
       "      <th>RXN0-1461</th>\n",
       "      <td>-2.522879</td>\n",
       "      <td>1.000000</td>\n",
       "      <td>-2.522879</td>\n",
       "      <td>1.000000</td>\n",
       "    </tr>\n",
       "    <tr>\n",
       "      <th>GLUTATHIONE-REDUCT-NADPH-RXN</th>\n",
       "      <td>2.017161</td>\n",
       "      <td>0.526329</td>\n",
       "      <td>2.717683</td>\n",
       "      <td>0.290648</td>\n",
       "    </tr>\n",
       "    <tr>\n",
       "      <th>GLUTATHIONE-REDUCT-NADPH-RXN_REV</th>\n",
       "      <td>2.017161</td>\n",
       "      <td>0.526329</td>\n",
       "      <td>2.677686</td>\n",
       "      <td>0.291391</td>\n",
       "    </tr>\n",
       "  </tbody>\n",
       "</table>\n",
       "</div>"
      ],
      "text/plain": [
       "                                  log10_kcat_mean  log10_kcat_std  \\\n",
       "RXN-6021                                 1.749244        0.915640   \n",
       "DEOXYRIBOSE-P-ALD-RXN                    1.883541        0.734648   \n",
       "THREONINE-ALDOLASE-RXN                   0.271842        1.000000   \n",
       "R00945                                   1.435783        0.816750   \n",
       "R00945_REV                               0.698970        1.000000   \n",
       "R02300_copy1                             1.223489        0.118440   \n",
       "R02300_copy2                             1.223489        0.118440   \n",
       "RXN0-1461                               -2.522879        1.000000   \n",
       "GLUTATHIONE-REDUCT-NADPH-RXN             2.017161        0.526329   \n",
       "GLUTATHIONE-REDUCT-NADPH-RXN_REV         2.017161        0.526329   \n",
       "\n",
       "                                  log10_kcat_max  log10_kcat_max_std  \n",
       "RXN-6021                                3.452080            0.294740  \n",
       "DEOXYRIBOSE-P-ALD-RXN                   2.542757            0.390754  \n",
       "THREONINE-ALDOLASE-RXN                  0.271842            1.000000  \n",
       "R00945                                  2.287620            0.741109  \n",
       "R00945_REV                              0.698970            1.000000  \n",
       "R02300_copy1                            1.309157            0.017991  \n",
       "R02300_copy2                            1.309617            0.017125  \n",
       "RXN0-1461                              -2.522879            1.000000  \n",
       "GLUTATHIONE-REDUCT-NADPH-RXN            2.717683            0.290648  \n",
       "GLUTATHIONE-REDUCT-NADPH-RXN_REV        2.677686            0.291391  "
      ]
     },
     "execution_count": 14,
     "metadata": {},
     "output_type": "execute_result"
    }
   ],
   "source": [
    "df_enz_ckat = pd.DataFrame()\n",
    "for rxn_id,kcats in rxn_kcats.items():\n",
    "    mean_log10_kcat = np.mean(np.log10(kcats))\n",
    "    max_mean, max_std = bootstrap_max(np.log10(kcats))\n",
    "    \n",
    "    if len(kcats)>1: std_log10_kcat = np.std(np.log10(kcats))\n",
    "    else: \n",
    "        std_log10_kcat = 1 #introduce a variance of 1 magnitude\n",
    "        max_std = 1\n",
    "    \n",
    "    df_enz_ckat.loc[rxn_id,'log10_kcat_mean'] = mean_log10_kcat\n",
    "    df_enz_ckat.loc[rxn_id,'log10_kcat_std'] = std_log10_kcat\n",
    "    \n",
    "\n",
    "    df_enz_ckat.loc[rxn_id,'log10_kcat_max'] = max_mean\n",
    "    df_enz_ckat.loc[rxn_id,'log10_kcat_max_std'] = max_std\n",
    "        \n",
    "        \n",
    "print(df_enz_ckat.shape)\n",
    "df_enz_ckat.head(n=10)"
   ]
  },
  {
   "cell_type": "code",
   "execution_count": 15,
   "metadata": {},
   "outputs": [
    {
     "data": {
      "image/png": "[encoded data removed]",
      "text/plain": [
       "<Figure size 288x216 with 1 Axes>"
      ]
     },
     "metadata": {
      "needs_background": "light"
     },
     "output_type": "display_data"
    }
   ],
   "source": [
    "utils.plot_kcat_dist(df_enz_ckat,'log10_kcat_mean','Mean',True)"
   ]
  },
  {
   "cell_type": "code",
   "execution_count": 16,
   "metadata": {},
   "outputs": [
    {
     "data": {
      "image/png": "[encoded data removed]",
      "text/plain": [
       "<Figure size 288x216 with 1 Axes>"
      ]
     },
     "metadata": {
      "needs_background": "light"
     },
     "output_type": "display_data"
    }
   ],
   "source": [
    "utils.plot_kcat_dist(df_enz_ckat,'log10_kcat_max','MeanMax',True)"
   ]
  },
  {
   "cell_type": "code",
   "execution_count": 17,
   "metadata": {},
   "outputs": [
    {
     "data": {
      "image/png": "[encoded data removed]",
      "text/plain": [
       "<Figure size 288x216 with 1 Axes>"
      ]
     },
     "metadata": {
      "needs_background": "light"
     },
     "output_type": "display_data"
    }
   ],
   "source": [
    "utils.plot_kcat_dist(df_enz_ckat,'log10_kcat_std','STD',True)"
   ]
  },
  {
   "cell_type": "code",
   "execution_count": 18,
   "metadata": {},
   "outputs": [
    {
     "data": {
      "image/png": "[encoded data removed]",
      "text/plain": [
       "<Figure size 288x216 with 1 Axes>"
      ]
     },
     "metadata": {
      "needs_background": "light"
     },
     "output_type": "display_data"
    }
   ],
   "source": [
    "utils.plot_kcat_dist(df_enz_ckat,'log10_kcat_max_std','MaxSTD',True)"
   ]
  },
  {
   "cell_type": "code",
   "execution_count": 19,
   "metadata": {},
   "outputs": [],
   "source": [
    "df_enz_ckat.to_csv('../Results/mapped_kcats.csv')"
   ]
  },
  {
   "cell_type": "markdown",
   "metadata": {},
   "source": [
    "#### 2. Calculate molecular weighs for enzymes\n",
    "In the enzyme constrained model, the unit for molecular weight is `g/mmol` which is corresponding to `kDa`"
   ]
  },
  {
   "cell_type": "code",
   "execution_count": null,
   "metadata": {},
   "outputs": [],
   "source": [
    "enzymes = []\n",
    "for rxn_id in df_enz_ckat.index:\n",
    "    rxn = irrModel.reactions.get_by_id(rxn_id)\n",
    "    for gene in rxn.genes: enzymes.append(gene.id)\n",
    "enzymes = list(set(enzymes))\n",
    "print(len(enzymes))"
   ]
  },
  {
   "cell_type": "code",
   "execution_count": 22,
   "metadata": {},
   "outputs": [],
   "source": [
    "enz_seqs = SeqIO.to_dict(SeqIO.parse('../../../ComplementaryData/protein_sequences_v3.0.fasta','fasta'))"
   ]
  },
  {
   "cell_type": "code",
   "execution_count": 23,
   "metadata": {},
   "outputs": [],
   "source": [
    "df_enz_mw = pd.DataFrame()\n",
    "for enz in enzymes:\n",
    "    seq = str(enz_seqs[enz].seq)\n",
    "    seq = seq.replace('*','')\n",
    "    pa = ProteinAnalysis(seq)\n",
    "    mw = pa.molecular_weight()/1000 ## convert to kDa\n",
    "    df_enz_mw.loc[enz,'MW'] = mw"
   ]
  },
  {
   "cell_type": "code",
   "execution_count": 24,
   "metadata": {},
   "outputs": [
    {
     "data": {
      "text/html": [
       "<div>\n",
       "<style scoped>\n",
       "    .dataframe tbody tr th:only-of-type {\n",
       "        vertical-align: middle;\n",
       "    }\n",
       "\n",
       "    .dataframe tbody tr th {\n",
       "        vertical-align: top;\n",
       "    }\n",
       "\n",
       "    .dataframe thead th {\n",
       "        text-align: right;\n",
       "    }\n",
       "</style>\n",
       "<table border=\"1\" class=\"dataframe\">\n",
       "  <thead>\n",
       "    <tr style=\"text-align: right;\">\n",
       "      <th></th>\n",
       "      <th>mw</th>\n",
       "    </tr>\n",
       "  </thead>\n",
       "  <tbody>\n",
       "    <tr>\n",
       "      <th>TD01GL003014</th>\n",
       "      <td>52.741747</td>\n",
       "    </tr>\n",
       "    <tr>\n",
       "      <th>TD01GL002195</th>\n",
       "      <td>41.955186</td>\n",
       "    </tr>\n",
       "    <tr>\n",
       "      <th>TD01GL002914</th>\n",
       "      <td>36.324269</td>\n",
       "    </tr>\n",
       "    <tr>\n",
       "      <th>TD01GL002389</th>\n",
       "      <td>38.308468</td>\n",
       "    </tr>\n",
       "    <tr>\n",
       "      <th>TD01GL002360</th>\n",
       "      <td>38.500459</td>\n",
       "    </tr>\n",
       "  </tbody>\n",
       "</table>\n",
       "</div>"
      ],
      "text/plain": [
       "                     mw\n",
       "TD01GL003014  52.741747\n",
       "TD01GL002195  41.955186\n",
       "TD01GL002914  36.324269\n",
       "TD01GL002389  38.308468\n",
       "TD01GL002360  38.500459"
      ]
     },
     "execution_count": 24,
     "metadata": {},
     "output_type": "execute_result"
    }
   ],
   "source": [
    "df_enz_mw.head(n=5)"
   ]
  },
  {
   "cell_type": "code",
   "execution_count": 25,
   "metadata": {},
   "outputs": [
    {
     "data": {
      "image/png": "[encoded data removed]",
      "text/plain": [
       "<Figure size 288x216 with 1 Axes>"
      ]
     },
     "metadata": {
      "needs_background": "light"
     },
     "output_type": "display_data"
    }
   ],
   "source": [
    "utils.plot_mw_dist(df_enz_mw)"
   ]
  },
  {
   "cell_type": "code",
   "execution_count": 26,
   "metadata": {},
   "outputs": [],
   "source": [
    "df_enz_mw.to_csv('../Results/enzyme_MWs.csv')"
   ]
  }
 ],
 "metadata": {
  "kernelspec": {
   "display_name": "Python 3",
   "language": "python",
   "name": "python3"
  },
  "language_info": {
   "codemirror_mode": {
    "name": "ipython",
    "version": 3
   },
   "file_extension": ".py",
   "mimetype": "text/x-python",
   "name": "python",
   "nbconvert_exporter": "python",
   "pygments_lexer": "ipython3",
   "version": "3.7.2"
  }
 },
 "nbformat": 4,
 "nbformat_minor": 2
}
