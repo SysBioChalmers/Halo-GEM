{
 "cells": [
  {
   "cell_type": "code",
   "execution_count": 10,
   "metadata": {},
   "outputs": [],
   "source": [
    "import cobra\n",
    "import os \n",
    "import sys\n",
    "import pandas as pd\n",
    "import numpy as np"
   ]
  },
  {
   "cell_type": "code",
   "execution_count": 3,
   "metadata": {},
   "outputs": [],
   "source": [
    "ecpy_path = '../../../ecpy/'\n",
    "sys.path.append(os.path.abspath(ecpy_path))\n",
    "import utils\n",
    "import ecpy"
   ]
  },
  {
   "cell_type": "code",
   "execution_count": 38,
   "metadata": {},
   "outputs": [
    {
     "data": {
      "text/plain": [
       "<module 'ecpy' from '/Users/gangl/Documents/GitHub/Halo-GEM/ecpy/ecpy.py'>"
      ]
     },
     "execution_count": 38,
     "metadata": {},
     "output_type": "execute_result"
    }
   ],
   "source": [
    "import importlib\n",
    "importlib.reload(utils)\n",
    "importlib.reload(ecpy)"
   ]
  },
  {
   "cell_type": "markdown",
   "metadata": {},
   "source": [
    "#### 1. Load the GEM model"
   ]
  },
  {
   "cell_type": "code",
   "execution_count": 35,
   "metadata": {},
   "outputs": [],
   "source": [
    "model_file = '../../../ModelFiles/json/Halo_GEM_v1.json'\n",
    "model = cobra.io.load_json_model(model_file)"
   ]
  },
  {
   "cell_type": "code",
   "execution_count": 36,
   "metadata": {},
   "outputs": [
    {
     "name": "stdout",
     "output_type": "stream",
     "text": [
      "Reactions: 1932\n",
      "Metabolites: 2015\n"
     ]
    }
   ],
   "source": [
    "utils.report_model(model)"
   ]
  },
  {
   "cell_type": "code",
   "execution_count": 39,
   "metadata": {},
   "outputs": [
    {
     "name": "stdout",
     "output_type": "stream",
     "text": [
      "<Solution 5.748 at 0x132c787160>\n"
     ]
    }
   ],
   "source": [
    "utils.test_biomass_production(model,'Biomass_v1')"
   ]
  },
  {
   "cell_type": "markdown",
   "metadata": {},
   "source": [
    "#### 2. Convert to irreversible model"
   ]
  },
  {
   "cell_type": "code",
   "execution_count": 30,
   "metadata": {},
   "outputs": [],
   "source": [
    "irrModel = ecpy.convertToIrrev(model)"
   ]
  },
  {
   "cell_type": "code",
   "execution_count": 31,
   "metadata": {},
   "outputs": [
    {
     "name": "stdout",
     "output_type": "stream",
     "text": [
      "Reactions: 2327\n",
      "Metabolites: 2015\n"
     ]
    }
   ],
   "source": [
    "utils.report_model(irrModel)"
   ]
  },
  {
   "cell_type": "code",
   "execution_count": 40,
   "metadata": {},
   "outputs": [
    {
     "name": "stdout",
     "output_type": "stream",
     "text": [
      "<Solution 5.748 at 0x132c79e240>\n"
     ]
    }
   ],
   "source": [
    "utils.test_biomass_production(irrModel,'Biomass_v1')"
   ]
  },
  {
   "cell_type": "markdown",
   "metadata": {},
   "source": [
    "#### 3. Add enzymes into model: eModel, need kcat values"
   ]
  },
  {
   "cell_type": "markdown",
   "metadata": {},
   "source": [
    "##### 3.1 prepare a dictionary with (enz_id,rxn_id) as keys and kcasts as values\n",
    "In this reconstruction, kcats for reactions were matched only at the reaction level, meaning that all iso-enzymes that catalyze the same reaction have the same kcat."
   ]
  },
  {
   "cell_type": "code",
   "execution_count": 11,
   "metadata": {},
   "outputs": [],
   "source": [
    "df_enz_kcat = pd.read_csv('../Results/mapped_kcats.csv',index_col=0)\n",
    "# In this file, all kcats are in the unit of 1/s and log10 transformed"
   ]
  },
  {
   "cell_type": "code",
   "execution_count": 12,
   "metadata": {},
   "outputs": [
    {
     "data": {
      "text/html": [
       "<div>\n",
       "<style scoped>\n",
       "    .dataframe tbody tr th:only-of-type {\n",
       "        vertical-align: middle;\n",
       "    }\n",
       "\n",
       "    .dataframe tbody tr th {\n",
       "        vertical-align: top;\n",
       "    }\n",
       "\n",
       "    .dataframe thead th {\n",
       "        text-align: right;\n",
       "    }\n",
       "</style>\n",
       "<table border=\"1\" class=\"dataframe\">\n",
       "  <thead>\n",
       "    <tr style=\"text-align: right;\">\n",
       "      <th></th>\n",
       "      <th>log10_kcat_mean</th>\n",
       "      <th>log10_kcat_std</th>\n",
       "    </tr>\n",
       "  </thead>\n",
       "  <tbody>\n",
       "    <tr>\n",
       "      <th>CHOLD</th>\n",
       "      <td>1.026202</td>\n",
       "      <td>1.026202</td>\n",
       "    </tr>\n",
       "    <tr>\n",
       "      <th>DEOXYRIBOSE-P-ALD-RXN</th>\n",
       "      <td>1.108909</td>\n",
       "      <td>1.108909</td>\n",
       "    </tr>\n",
       "    <tr>\n",
       "      <th>RXN-6321</th>\n",
       "      <td>1.223489</td>\n",
       "      <td>1.223489</td>\n",
       "    </tr>\n",
       "    <tr>\n",
       "      <th>GLYOHMETRANS-RXN</th>\n",
       "      <td>1.435783</td>\n",
       "      <td>1.435783</td>\n",
       "    </tr>\n",
       "    <tr>\n",
       "      <th>GLYOHMETRANS-RXN_REV</th>\n",
       "      <td>0.698970</td>\n",
       "      <td>1.000000</td>\n",
       "    </tr>\n",
       "  </tbody>\n",
       "</table>\n",
       "</div>"
      ],
      "text/plain": [
       "                       log10_kcat_mean  log10_kcat_std\n",
       "CHOLD                         1.026202        1.026202\n",
       "DEOXYRIBOSE-P-ALD-RXN         1.108909        1.108909\n",
       "RXN-6321                      1.223489        1.223489\n",
       "GLYOHMETRANS-RXN              1.435783        1.435783\n",
       "GLYOHMETRANS-RXN_REV          0.698970        1.000000"
      ]
     },
     "execution_count": 12,
     "metadata": {},
     "output_type": "execute_result"
    }
   ],
   "source": [
    "df_enz_kcat.head(5)"
   ]
  },
  {
   "cell_type": "code",
   "execution_count": 14,
   "metadata": {},
   "outputs": [],
   "source": [
    "kcat_dict = ecpy.prepare_kcats_dict(irrModel,df_enz_kcat)\n",
    "# In this dictionary, all kcats are in the unit of 1/h "
   ]
  },
  {
   "cell_type": "code",
   "execution_count": 15,
   "metadata": {},
   "outputs": [
    {
     "data": {
      "text/plain": [
       "2391"
      ]
     },
     "execution_count": 15,
     "metadata": {},
     "output_type": "execute_result"
    }
   ],
   "source": [
    "len(kcat_dict)"
   ]
  },
  {
   "cell_type": "markdown",
   "metadata": {},
   "source": [
    "##### 3.2 add enzymes into reactions"
   ]
  },
  {
   "cell_type": "code",
   "execution_count": 16,
   "metadata": {},
   "outputs": [],
   "source": [
    "eModel = ecpy.convertToEnzymeModel(irrModel,kcat_dict)"
   ]
  },
  {
   "cell_type": "code",
   "execution_count": 17,
   "metadata": {},
   "outputs": [
    {
     "name": "stdout",
     "output_type": "stream",
     "text": [
      "Reactions: 4412\n",
      "Metabolites: 3488\n"
     ]
    }
   ],
   "source": [
    "utils.report_model(eModel)"
   ]
  },
  {
   "cell_type": "code",
   "execution_count": 41,
   "metadata": {},
   "outputs": [
    {
     "name": "stdout",
     "output_type": "stream",
     "text": [
      "<Solution 5.748 at 0x132a782470>\n"
     ]
    }
   ],
   "source": [
    "utils.test_biomass_production(eModel,'Biomass_v1')"
   ]
  },
  {
   "cell_type": "markdown",
   "metadata": {},
   "source": [
    "#### 4. add protein pool"
   ]
  },
  {
   "cell_type": "code",
   "execution_count": 43,
   "metadata": {},
   "outputs": [
    {
     "data": {
      "text/html": [
       "<div>\n",
       "<style scoped>\n",
       "    .dataframe tbody tr th:only-of-type {\n",
       "        vertical-align: middle;\n",
       "    }\n",
       "\n",
       "    .dataframe tbody tr th {\n",
       "        vertical-align: top;\n",
       "    }\n",
       "\n",
       "    .dataframe thead th {\n",
       "        text-align: right;\n",
       "    }\n",
       "</style>\n",
       "<table border=\"1\" class=\"dataframe\">\n",
       "  <thead>\n",
       "    <tr style=\"text-align: right;\">\n",
       "      <th></th>\n",
       "      <th>mw</th>\n",
       "    </tr>\n",
       "  </thead>\n",
       "  <tbody>\n",
       "    <tr>\n",
       "      <th>TD01GL003263</th>\n",
       "      <td>28.861369</td>\n",
       "    </tr>\n",
       "    <tr>\n",
       "      <th>TD01GL001719</th>\n",
       "      <td>31.849069</td>\n",
       "    </tr>\n",
       "    <tr>\n",
       "      <th>TD01GL002685</th>\n",
       "      <td>30.097315</td>\n",
       "    </tr>\n",
       "    <tr>\n",
       "      <th>TD01GL001672</th>\n",
       "      <td>28.361097</td>\n",
       "    </tr>\n",
       "    <tr>\n",
       "      <th>TD01GL000345</th>\n",
       "      <td>28.302825</td>\n",
       "    </tr>\n",
       "  </tbody>\n",
       "</table>\n",
       "</div>"
      ],
      "text/plain": [
       "                     mw\n",
       "TD01GL003263  28.861369\n",
       "TD01GL001719  31.849069\n",
       "TD01GL002685  30.097315\n",
       "TD01GL001672  28.361097\n",
       "TD01GL000345  28.302825"
      ]
     },
     "execution_count": 43,
     "metadata": {},
     "output_type": "execute_result"
    }
   ],
   "source": [
    "df_enz_mw = pd.read_csv('../Results/enzyme_MWs.csv',index_col=0)\n",
    "df_enz_mw.head(5)"
   ]
  },
  {
   "cell_type": "code",
   "execution_count": 45,
   "metadata": {},
   "outputs": [],
   "source": [
    "MWs = {ind:df_enz_mw.loc[ind,'mw'] for ind in df_enz_mw.index}"
   ]
  },
  {
   "cell_type": "code",
   "execution_count": 47,
   "metadata": {},
   "outputs": [
    {
     "name": "stdout",
     "output_type": "stream",
     "text": [
      "Read LP format model from file /var/folders/dx/ghtq02dx2w307xx_5hncb421qny3_w/T/tmptaky356y.lp\n",
      "Reading time = 0.03 seconds\n",
      ": 3488 rows, 8824 columns, 34138 nonzeros\n"
     ]
    }
   ],
   "source": [
    "ecModel = ecpy.constrainPool(eModel,MWs,list(MWs.keys()),0.018)"
   ]
  },
  {
   "cell_type": "code",
   "execution_count": 52,
   "metadata": {},
   "outputs": [
    {
     "name": "stdout",
     "output_type": "stream",
     "text": [
      "0.018\n"
     ]
    }
   ],
   "source": [
    "rxn_pool = ecModel.reactions.get_by_id('prot_pool_exchange')\n",
    "print(rxn_pool.upper_bound)"
   ]
  },
  {
   "cell_type": "code",
   "execution_count": 53,
   "metadata": {},
   "outputs": [
    {
     "name": "stdout",
     "output_type": "stream",
     "text": [
      "<Solution 0.058 at 0x1327b816a0>\n"
     ]
    }
   ],
   "source": [
    "rxn_pool.upper_bound = 0.098\n",
    "utils.test_biomass_production(ecModel,'Biomass_v1')"
   ]
  },
  {
   "cell_type": "code",
   "execution_count": null,
   "metadata": {},
   "outputs": [],
   "source": []
  }
 ],
 "metadata": {
  "kernelspec": {
   "display_name": "Python 3",
   "language": "python",
   "name": "python3"
  },
  "language_info": {
   "codemirror_mode": {
    "name": "ipython",
    "version": 3
   },
   "file_extension": ".py",
   "mimetype": "text/x-python",
   "name": "python",
   "nbconvert_exporter": "python",
   "pygments_lexer": "ipython3",
   "version": "3.7.2"
  }
 },
 "nbformat": 4,
 "nbformat_minor": 2
}
