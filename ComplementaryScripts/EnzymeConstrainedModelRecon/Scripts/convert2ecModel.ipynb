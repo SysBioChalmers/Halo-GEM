{
 "cells": [
  {
   "cell_type": "code",
   "execution_count": 1,
   "metadata": {},
   "outputs": [],
   "source": [
    "import cobra\n",
    "import os \n",
    "import sys\n",
    "import pandas as pd\n",
    "import numpy as np\n",
    "from matplotlib import pyplot as plt"
   ]
  },
  {
   "cell_type": "code",
   "execution_count": 2,
   "metadata": {},
   "outputs": [],
   "source": [
    "ecpy_path = '../../../ecpy/'\n",
    "sys.path.append(os.path.abspath(ecpy_path))\n",
    "import utils\n",
    "import ecpy"
   ]
  },
  {
   "cell_type": "code",
   "execution_count": 3,
   "metadata": {},
   "outputs": [
    {
     "data": {
      "text/plain": [
       "<module 'ecpy' from '/Users/gangl/Documents/GitHub/Halo-GEM/ecpy/ecpy.py'>"
      ]
     },
     "execution_count": 3,
     "metadata": {},
     "output_type": "execute_result"
    }
   ],
   "source": [
    "import importlib\n",
    "importlib.reload(utils)\n",
    "importlib.reload(ecpy)"
   ]
  },
  {
   "cell_type": "markdown",
   "metadata": {},
   "source": [
    "#### 1. Load the GEM model"
   ]
  },
  {
   "cell_type": "code",
   "execution_count": 37,
   "metadata": {},
   "outputs": [],
   "source": [
    "model_file = '../../../ModelFiles/json/Halo_GEM_v1.json'\n",
    "model = cobra.io.load_json_model(model_file)"
   ]
  },
  {
   "cell_type": "code",
   "execution_count": 39,
   "metadata": {},
   "outputs": [],
   "source": [
    "def get_r_max(model):\n",
    "    model.objective = 'Biomass_v1'\n",
    "    model.objective_direction = 'max'\n",
    "    model.reactions.NGAM.lower_bound = 0\n",
    "    return model.optimize()"
   ]
  },
  {
   "cell_type": "code",
   "execution_count": 40,
   "metadata": {},
   "outputs": [],
   "source": [
    "s = get_r_max(model)"
   ]
  },
  {
   "cell_type": "code",
   "execution_count": 46,
   "metadata": {},
   "outputs": [
    {
     "data": {
      "text/plain": [
       "'optimal'"
      ]
     },
     "execution_count": 46,
     "metadata": {},
     "output_type": "execute_result"
    }
   ],
   "source": [
    "s.status"
   ]
  },
  {
   "cell_type": "code",
   "execution_count": 44,
   "metadata": {},
   "outputs": [
    {
     "data": {
      "text/html": [
       "\n",
       "        <table>\n",
       "            <tr>\n",
       "                <td><strong>Reaction identifier</strong></td><td>Exchange_Glucopyranose</td>\n",
       "            </tr><tr>\n",
       "                <td><strong>Name</strong></td><td></td>\n",
       "            </tr><tr>\n",
       "                <td><strong>Memory address</strong></td>\n",
       "                <td>0x07ff2ac959a20</td>\n",
       "            </tr><tr>\n",
       "                <td><strong>Stoichiometry</strong></td>\n",
       "                <td>\n",
       "                    <p style='text-align:right'> --> Glucopyranose_e</p>\n",
       "                    <p style='text-align:right'> --> D-Glucose</p>\n",
       "                </td>\n",
       "            </tr><tr>\n",
       "                <td><strong>GPR</strong></td><td></td>\n",
       "            </tr><tr>\n",
       "                <td><strong>Lower bound</strong></td><td>0</td>\n",
       "            </tr><tr>\n",
       "                <td><strong>Upper bound</strong></td><td>1</td>\n",
       "            </tr>\n",
       "        </table>\n",
       "        "
      ],
      "text/plain": [
       "<Reaction Exchange_Glucopyranose at 0x7ff2ac959a20>"
      ]
     },
     "execution_count": 44,
     "metadata": {},
     "output_type": "execute_result"
    }
   ],
   "source": [
    "model.reactions.Exchange_Glucopyranose"
   ]
  },
  {
   "cell_type": "code",
   "execution_count": 43,
   "metadata": {},
   "outputs": [
    {
     "data": {
      "text/plain": [
       "1.0"
      ]
     },
     "execution_count": 43,
     "metadata": {},
     "output_type": "execute_result"
    }
   ],
   "source": [
    "s.fluxes['Exchange_Glucopyranose']"
   ]
  },
  {
   "cell_type": "code",
   "execution_count": 5,
   "metadata": {},
   "outputs": [
    {
     "name": "stdout",
     "output_type": "stream",
     "text": [
      "Reactions: 2270\n",
      "Metabolites: 2339\n"
     ]
    }
   ],
   "source": [
    "utils.report_model(model)"
   ]
  },
  {
   "cell_type": "code",
   "execution_count": 6,
   "metadata": {},
   "outputs": [],
   "source": [
    "utils.set_bound(model,'Exchange_Glucopyranose',lb=0,ub=10)"
   ]
  },
  {
   "cell_type": "code",
   "execution_count": 7,
   "metadata": {},
   "outputs": [
    {
     "data": {
      "text/plain": [
       "(<Solution 0.604 at 0x7ff2c0f84b00>, <Solution 13.419 at 0x7ff2c0f88438>)"
      ]
     },
     "execution_count": 7,
     "metadata": {},
     "output_type": "execute_result"
    }
   ],
   "source": [
    "utils.test_biomass_production(model)"
   ]
  },
  {
   "cell_type": "code",
   "execution_count": 8,
   "metadata": {},
   "outputs": [],
   "source": [
    "biomass= model.reactions.Biomass_v1\n",
    "atp_c = model.metabolites.ATP_c"
   ]
  },
  {
   "cell_type": "code",
   "execution_count": 9,
   "metadata": {},
   "outputs": [
    {
     "data": {
      "text/plain": [
       "-75.37723"
      ]
     },
     "execution_count": 9,
     "metadata": {},
     "output_type": "execute_result"
    }
   ],
   "source": [
    "biomass.metabolites[atp_c]"
   ]
  },
  {
   "cell_type": "code",
   "execution_count": 10,
   "metadata": {},
   "outputs": [],
   "source": [
    "glc_up = model.reactions.Exchange_Glucopyranose"
   ]
  },
  {
   "cell_type": "code",
   "execution_count": 11,
   "metadata": {},
   "outputs": [
    {
     "data": {
      "text/plain": [
       "10"
      ]
     },
     "execution_count": 11,
     "metadata": {},
     "output_type": "execute_result"
    }
   ],
   "source": [
    "glc_up.upper_bound"
   ]
  },
  {
   "cell_type": "markdown",
   "metadata": {},
   "source": [
    "#### 2. Convert to irreversible model"
   ]
  },
  {
   "cell_type": "code",
   "execution_count": 12,
   "metadata": {},
   "outputs": [],
   "source": [
    "irrModel = ecpy.convertToIrrev(model)"
   ]
  },
  {
   "cell_type": "code",
   "execution_count": 13,
   "metadata": {},
   "outputs": [
    {
     "name": "stdout",
     "output_type": "stream",
     "text": [
      "Reactions: 2691\n",
      "Metabolites: 2339\n"
     ]
    }
   ],
   "source": [
    "utils.report_model(irrModel)"
   ]
  },
  {
   "cell_type": "code",
   "execution_count": 14,
   "metadata": {},
   "outputs": [
    {
     "data": {
      "text/plain": [
       "(<Solution 0.604 at 0x7ff2c2f8d5f8>, <Solution 13.419 at 0x7ff2c2f8d780>)"
      ]
     },
     "execution_count": 14,
     "metadata": {},
     "output_type": "execute_result"
    }
   ],
   "source": [
    "utils.test_biomass_production(irrModel)"
   ]
  },
  {
   "cell_type": "markdown",
   "metadata": {},
   "source": [
    "#### 3. Add enzymes into model: eModel, need kcat values"
   ]
  },
  {
   "cell_type": "markdown",
   "metadata": {},
   "source": [
    "##### 3.1 prepare a dictionary with (enz_id,rxn_id) as keys and kcasts as values\n",
    "In this reconstruction, kcats for reactions were matched only at the reaction level, meaning that all iso-enzymes that catalyze the same reaction have the same kcat."
   ]
  },
  {
   "cell_type": "code",
   "execution_count": 15,
   "metadata": {},
   "outputs": [],
   "source": [
    "df_enz_kcat = pd.read_csv('../Results/mapped_kcats.csv',index_col=0)\n",
    "# In this file, all kcats are in the unit of 1/s and log10 transformed"
   ]
  },
  {
   "cell_type": "code",
   "execution_count": 16,
   "metadata": {},
   "outputs": [
    {
     "data": {
      "text/html": [
       "<div>\n",
       "<style scoped>\n",
       "    .dataframe tbody tr th:only-of-type {\n",
       "        vertical-align: middle;\n",
       "    }\n",
       "\n",
       "    .dataframe tbody tr th {\n",
       "        vertical-align: top;\n",
       "    }\n",
       "\n",
       "    .dataframe thead th {\n",
       "        text-align: right;\n",
       "    }\n",
       "</style>\n",
       "<table border=\"1\" class=\"dataframe\">\n",
       "  <thead>\n",
       "    <tr style=\"text-align: right;\">\n",
       "      <th></th>\n",
       "      <th>log10_kcat_mean</th>\n",
       "      <th>log10_kcat_std</th>\n",
       "      <th>log10_kcat_max</th>\n",
       "      <th>log10_kcat_max_std</th>\n",
       "    </tr>\n",
       "  </thead>\n",
       "  <tbody>\n",
       "    <tr>\n",
       "      <th>RXN-6021</th>\n",
       "      <td>1.749244</td>\n",
       "      <td>0.915640</td>\n",
       "      <td>3.452080</td>\n",
       "      <td>0.294740</td>\n",
       "    </tr>\n",
       "    <tr>\n",
       "      <th>DEOXYRIBOSE-P-ALD-RXN</th>\n",
       "      <td>1.883541</td>\n",
       "      <td>0.734648</td>\n",
       "      <td>2.542757</td>\n",
       "      <td>0.390754</td>\n",
       "    </tr>\n",
       "    <tr>\n",
       "      <th>THREONINE-ALDOLASE-RXN</th>\n",
       "      <td>0.271842</td>\n",
       "      <td>1.000000</td>\n",
       "      <td>0.271842</td>\n",
       "      <td>1.000000</td>\n",
       "    </tr>\n",
       "    <tr>\n",
       "      <th>R00945</th>\n",
       "      <td>1.435783</td>\n",
       "      <td>0.816750</td>\n",
       "      <td>2.287620</td>\n",
       "      <td>0.741109</td>\n",
       "    </tr>\n",
       "    <tr>\n",
       "      <th>R00945_REV</th>\n",
       "      <td>0.698970</td>\n",
       "      <td>1.000000</td>\n",
       "      <td>0.698970</td>\n",
       "      <td>1.000000</td>\n",
       "    </tr>\n",
       "  </tbody>\n",
       "</table>\n",
       "</div>"
      ],
      "text/plain": [
       "                        log10_kcat_mean  log10_kcat_std  log10_kcat_max  \\\n",
       "RXN-6021                       1.749244        0.915640        3.452080   \n",
       "DEOXYRIBOSE-P-ALD-RXN          1.883541        0.734648        2.542757   \n",
       "THREONINE-ALDOLASE-RXN         0.271842        1.000000        0.271842   \n",
       "R00945                         1.435783        0.816750        2.287620   \n",
       "R00945_REV                     0.698970        1.000000        0.698970   \n",
       "\n",
       "                        log10_kcat_max_std  \n",
       "RXN-6021                          0.294740  \n",
       "DEOXYRIBOSE-P-ALD-RXN             0.390754  \n",
       "THREONINE-ALDOLASE-RXN            1.000000  \n",
       "R00945                            0.741109  \n",
       "R00945_REV                        1.000000  "
      ]
     },
     "execution_count": 16,
     "metadata": {},
     "output_type": "execute_result"
    }
   ],
   "source": [
    "df_enz_kcat.head(5)"
   ]
  },
  {
   "cell_type": "code",
   "execution_count": 17,
   "metadata": {},
   "outputs": [],
   "source": [
    "kcat_dict = ecpy.prepare_kcats_dict(irrModel,df_enz_kcat,'log10_kcat_max')\n",
    "# In this dictionary, all kcats are in the unit of 1/h "
   ]
  },
  {
   "cell_type": "code",
   "execution_count": 18,
   "metadata": {},
   "outputs": [],
   "source": [
    "\n",
    "#for k,v in kcat_dict.items(): kcat_dict[k] = 1e8"
   ]
  },
  {
   "cell_type": "code",
   "execution_count": 19,
   "metadata": {},
   "outputs": [
    {
     "data": {
      "text/plain": [
       "(array([  8.,  26., 116., 177., 418., 697., 482., 180.,  99., 292.]),\n",
       " array([-0.32051158,  0.75451998,  1.82955154,  2.9045831 ,  3.97961466,\n",
       "         5.05464622,  6.12967778,  7.20470933,  8.27974089,  9.35477245,\n",
       "        10.42980401]),\n",
       " <a list of 10 Patch objects>)"
      ]
     },
     "execution_count": 19,
     "metadata": {},
     "output_type": "execute_result"
    },
    {
     "data": {
      "image/png": "[encoded data removed]",
      "text/plain": [
       "<Figure size 432x288 with 1 Axes>"
      ]
     },
     "metadata": {
      "needs_background": "light"
     },
     "output_type": "display_data"
    }
   ],
   "source": [
    "plt.hist(np.log10(list(kcat_dict.values())))"
   ]
  },
  {
   "cell_type": "markdown",
   "metadata": {},
   "source": [
    "##### 3.2 add enzymes into reactions"
   ]
  },
  {
   "cell_type": "code",
   "execution_count": 20,
   "metadata": {},
   "outputs": [
    {
     "name": "stdout",
     "output_type": "stream",
     "text": [
      "Number of enzymes: 1169\n"
     ]
    }
   ],
   "source": [
    "eModel = ecpy.convertToEnzymeModel(irrModel,kcat_dict)"
   ]
  },
  {
   "cell_type": "code",
   "execution_count": 21,
   "metadata": {},
   "outputs": [
    {
     "name": "stdout",
     "output_type": "stream",
     "text": [
      "Reactions: 4681\n",
      "Metabolites: 3833\n"
     ]
    }
   ],
   "source": [
    "utils.report_model(eModel)"
   ]
  },
  {
   "cell_type": "code",
   "execution_count": null,
   "metadata": {},
   "outputs": [],
   "source": []
  },
  {
   "cell_type": "code",
   "execution_count": 22,
   "metadata": {},
   "outputs": [
    {
     "data": {
      "text/plain": [
       "(<Solution 0.604 at 0x7ff2c3e38c18>, <Solution 13.419 at 0x7ff2c3e38860>)"
      ]
     },
     "execution_count": 22,
     "metadata": {},
     "output_type": "execute_result"
    }
   ],
   "source": [
    "utils.test_biomass_production(eModel)"
   ]
  },
  {
   "cell_type": "markdown",
   "metadata": {},
   "source": [
    "#### 4. add proteomics"
   ]
  },
  {
   "cell_type": "code",
   "execution_count": 23,
   "metadata": {},
   "outputs": [],
   "source": [
    "dfomics = pd.read_csv('../proteomics/protein_abandance.csv',index_col=0)\n",
    "dftot = pd.read_csv('../proteomics/total_protein_abandance.csv',index_col=0)"
   ]
  },
  {
   "cell_type": "code",
   "execution_count": 24,
   "metadata": {},
   "outputs": [],
   "source": [
    "def prepare_omics_for_one_condition(dfomics,dftot,dfmws,condition_id,model):\n",
    "    ''' \n",
    "    dfomics: a pandas.DataFrame that uses protein id as index and condition ids as coloumns, mmol/gdDW\n",
    "    dftot  : a pandas.DataFrame that contains total protein abandance, gprotein/gDW\n",
    "    dfmws  : a pandas.DataFrame that contains protein molecular weights, kDa\n",
    "    model  : eModel\n",
    "    \n",
    "    \n",
    "    Return \n",
    "    * non_measured, a list which contains a list of enzyme ids\n",
    "    * measured, a dictionary with enzyme id as key and abandance as value\n",
    "    * prot_pool, a value to define the total sum abandance of enzymes without proteomics\n",
    "    * prot_pool was calculated as follows\n",
    "        fracton_enzyme = tot_measured_enzyme/tot_measured_proteins\n",
    "        tot_non_measured = Ptot-tot_measured_proteins\n",
    "        prot_pool = tot_non_measured*fracton_enzyme\n",
    "    \n",
    "    Usage: measured, non_measured, prot_pool = prepare_omics_for_one_condition(dfomics,\n",
    "    dftot,dfmws,condition_id,model)\n",
    "    \n",
    "    Gang Li\n",
    "    20200806\n",
    "    \n",
    "    '''\n",
    "    \n",
    "    non_measured = []\n",
    "    measured = {}\n",
    "    \n",
    "    assert condition_id in dfomics.columns\n",
    "    for enz in model.enzymes:\n",
    "        try: ab = dfomics.loc[enz,condition_id]\n",
    "        except: ab = np.nan\n",
    "        \n",
    "        if np.isnan(ab): non_measured.append(enz)\n",
    "        else: measured[enz] = ab\n",
    "    \n",
    "    tot_measured_proteins = np.sum([0 if np.isnan(dfomics.loc[ind,condition_id]) \n",
    "                                    else dfomics.loc[ind,condition_id]*dfmws.loc[ind,'MW'] \n",
    "                                    for ind in dfomics.index])\n",
    "    \n",
    "    tot_measured_enzymes  = np.sum([measured[ind]*dfmws.loc[ind,'MW'] for ind in measured.keys()])\n",
    "    tot_non_measured      = dftot.loc[condition_id,'Ptot'] - tot_measured_proteins\n",
    "    prot_pool = tot_non_measured*tot_measured_enzymes/tot_measured_proteins\n",
    "    \n",
    "    print('tot_proteins         :',dftot.loc[condition_id,'Ptot'])\n",
    "    print('tot_measured_proteins:',tot_measured_proteins)\n",
    "    print('tot_measured_enzymes :',tot_measured_enzymes)\n",
    "    print('tot_non_measured     :',tot_non_measured)\n",
    "    print('fracton_enzyme       :',tot_measured_enzymes/tot_measured_proteins)\n",
    "    print('prot_pool            :',prot_pool)\n",
    "    \n",
    "    return measured, non_measured, prot_pool "
   ]
  },
  {
   "cell_type": "code",
   "execution_count": 25,
   "metadata": {},
   "outputs": [
    {
     "data": {
      "text/html": [
       "<div>\n",
       "<style scoped>\n",
       "    .dataframe tbody tr th:only-of-type {\n",
       "        vertical-align: middle;\n",
       "    }\n",
       "\n",
       "    .dataframe tbody tr th {\n",
       "        vertical-align: top;\n",
       "    }\n",
       "\n",
       "    .dataframe thead th {\n",
       "        text-align: right;\n",
       "    }\n",
       "</style>\n",
       "<table border=\"1\" class=\"dataframe\">\n",
       "  <thead>\n",
       "    <tr style=\"text-align: right;\">\n",
       "      <th></th>\n",
       "      <th>MW</th>\n",
       "    </tr>\n",
       "    <tr>\n",
       "      <th>ID</th>\n",
       "      <th></th>\n",
       "    </tr>\n",
       "  </thead>\n",
       "  <tbody>\n",
       "    <tr>\n",
       "      <th>TD01GL000001</th>\n",
       "      <td>54.948718</td>\n",
       "    </tr>\n",
       "    <tr>\n",
       "      <th>TD01GL000002</th>\n",
       "      <td>40.456656</td>\n",
       "    </tr>\n",
       "    <tr>\n",
       "      <th>TD01GL000003</th>\n",
       "      <td>47.207877</td>\n",
       "    </tr>\n",
       "    <tr>\n",
       "      <th>TD01GL000004</th>\n",
       "      <td>89.687742</td>\n",
       "    </tr>\n",
       "    <tr>\n",
       "      <th>TD01GL000005</th>\n",
       "      <td>20.772206</td>\n",
       "    </tr>\n",
       "  </tbody>\n",
       "</table>\n",
       "</div>"
      ],
      "text/plain": [
       "                     MW\n",
       "ID                     \n",
       "TD01GL000001  54.948718\n",
       "TD01GL000002  40.456656\n",
       "TD01GL000003  47.207877\n",
       "TD01GL000004  89.687742\n",
       "TD01GL000005  20.772206"
      ]
     },
     "execution_count": 25,
     "metadata": {},
     "output_type": "execute_result"
    }
   ],
   "source": [
    "dfmws = pd.read_csv('../Results/protein_mws.csv',index_col=0)\n",
    "dfmws = dfmws/1000\n",
    "dfmws.head()"
   ]
  },
  {
   "cell_type": "code",
   "execution_count": 26,
   "metadata": {},
   "outputs": [
    {
     "name": "stdout",
     "output_type": "stream",
     "text": [
      "tot_proteins         : 0.31\n",
      "tot_measured_proteins: 0.020083409599586016\n",
      "tot_measured_enzymes : 0.010338818033780854\n",
      "tot_non_measured     : 0.28991659040041395\n",
      "fracton_enzyme       : 0.5147939637696763\n",
      "prot_pool            : 0.1492473107348188\n"
     ]
    }
   ],
   "source": [
    "measured, non_measured, prot_pool = prepare_omics_for_one_condition(dfomics,\n",
    "                                                                    dftot,\n",
    "                                                                    dfmws,\n",
    "                                                                    'MU',\n",
    "                                                                    eModel)"
   ]
  },
  {
   "cell_type": "markdown",
   "metadata": {},
   "source": [
    "#### 4. add protein pool"
   ]
  },
  {
   "cell_type": "code",
   "execution_count": 27,
   "metadata": {},
   "outputs": [
    {
     "data": {
      "text/html": [
       "<div>\n",
       "<style scoped>\n",
       "    .dataframe tbody tr th:only-of-type {\n",
       "        vertical-align: middle;\n",
       "    }\n",
       "\n",
       "    .dataframe tbody tr th {\n",
       "        vertical-align: top;\n",
       "    }\n",
       "\n",
       "    .dataframe thead th {\n",
       "        text-align: right;\n",
       "    }\n",
       "</style>\n",
       "<table border=\"1\" class=\"dataframe\">\n",
       "  <thead>\n",
       "    <tr style=\"text-align: right;\">\n",
       "      <th></th>\n",
       "      <th>mw</th>\n",
       "    </tr>\n",
       "  </thead>\n",
       "  <tbody>\n",
       "    <tr>\n",
       "      <th>TD01GL003014</th>\n",
       "      <td>52.741747</td>\n",
       "    </tr>\n",
       "    <tr>\n",
       "      <th>TD01GL002195</th>\n",
       "      <td>41.955186</td>\n",
       "    </tr>\n",
       "    <tr>\n",
       "      <th>TD01GL002914</th>\n",
       "      <td>36.324269</td>\n",
       "    </tr>\n",
       "    <tr>\n",
       "      <th>TD01GL002389</th>\n",
       "      <td>38.308468</td>\n",
       "    </tr>\n",
       "    <tr>\n",
       "      <th>TD01GL002360</th>\n",
       "      <td>38.500459</td>\n",
       "    </tr>\n",
       "  </tbody>\n",
       "</table>\n",
       "</div>"
      ],
      "text/plain": [
       "                     mw\n",
       "TD01GL003014  52.741747\n",
       "TD01GL002195  41.955186\n",
       "TD01GL002914  36.324269\n",
       "TD01GL002389  38.308468\n",
       "TD01GL002360  38.500459"
      ]
     },
     "execution_count": 27,
     "metadata": {},
     "output_type": "execute_result"
    }
   ],
   "source": [
    "df_enz_mw = pd.read_csv('../Results/enzyme_MWs.csv',index_col=0)\n",
    "df_enz_mw.head(5)"
   ]
  },
  {
   "cell_type": "code",
   "execution_count": 28,
   "metadata": {},
   "outputs": [],
   "source": [
    "MWs = {ind:df_enz_mw.loc[ind,'mw'] for ind in df_enz_mw.index}"
   ]
  },
  {
   "cell_type": "code",
   "execution_count": 29,
   "metadata": {},
   "outputs": [
    {
     "name": "stdout",
     "output_type": "stream",
     "text": [
      "Read LP format model from file /var/folders/dx/ghtq02dx2w307xx_5hncb421qny3_w/T/tmphx_e7jx5.lp\n",
      "Reading time = 0.04 seconds\n",
      ": 3833 rows, 9362 columns, 36608 nonzeros\n"
     ]
    }
   ],
   "source": [
    "ecModel = ecpy.constrainPool(eModel,MWs, measured, non_measured,prot_pool)"
   ]
  },
  {
   "cell_type": "code",
   "execution_count": 30,
   "metadata": {},
   "outputs": [
    {
     "name": "stderr",
     "output_type": "stream",
     "text": [
      "cobra/util/solver.py:416 \u001b[1;31mUserWarning\u001b[0m: solver status is 'infeasible'\n"
     ]
    },
    {
     "data": {
      "text/plain": [
       "(<Solution infeasible at 0x7ff2a5da45c0>,\n",
       " <Solution infeasible at 0x7ff2a5da44a8>)"
      ]
     },
     "execution_count": 30,
     "metadata": {},
     "output_type": "execute_result"
    }
   ],
   "source": [
    "utils.test_biomass_production(ecModel)"
   ]
  },
  {
   "cell_type": "code",
   "execution_count": 31,
   "metadata": {},
   "outputs": [
    {
     "name": "stdout",
     "output_type": "stream",
     "text": [
      "0.1492473107348188\n"
     ]
    }
   ],
   "source": [
    "rxn_pool = ecModel.reactions.get_by_id('prot_pool_exchange')\n",
    "print(rxn_pool.upper_bound)"
   ]
  },
  {
   "cell_type": "code",
   "execution_count": 32,
   "metadata": {},
   "outputs": [],
   "source": [
    "ecModel.reactions.NGAM.upper_bound = 0"
   ]
  },
  {
   "cell_type": "code",
   "execution_count": 33,
   "metadata": {},
   "outputs": [
    {
     "name": "stderr",
     "output_type": "stream",
     "text": [
      "cobra/util/solver.py:416 \u001b[1;31mUserWarning\u001b[0m: solver status is 'infeasible'\n"
     ]
    },
    {
     "data": {
      "text/plain": [
       "(<Solution infeasible at 0x7ff2a5d18630>,\n",
       " <Solution infeasible at 0x7ff2a5d18128>)"
      ]
     },
     "execution_count": 33,
     "metadata": {},
     "output_type": "execute_result"
    }
   ],
   "source": [
    "utils.test_biomass_production(ecModel)"
   ]
  },
  {
   "cell_type": "code",
   "execution_count": 34,
   "metadata": {},
   "outputs": [
    {
     "data": {
      "text/plain": [
       "inf"
      ]
     },
     "execution_count": 34,
     "metadata": {},
     "output_type": "execute_result"
    }
   ],
   "source": [
    "ecModel.reactions.Exchange_Glucopyranose.upper_bound"
   ]
  },
  {
   "cell_type": "code",
   "execution_count": 35,
   "metadata": {},
   "outputs": [
    {
     "name": "stderr",
     "output_type": "stream",
     "text": [
      "cobra/util/solver.py:416 \u001b[1;31mUserWarning\u001b[0m: solver status is 'infeasible'\n"
     ]
    }
   ],
   "source": [
    "pools = np.arange(0,0.3,0.005)\n",
    "r1s, r2s = [],[]\n",
    "for pool in pools:\n",
    "    rxn_pool.upper_bound = pool\n",
    "    s1,s2 = utils.test_biomass_production(ecModel,show=False)\n",
    "    r1s.append(s1.objective_value)\n",
    "    r2s.append(s2.objective_value)"
   ]
  },
  {
   "cell_type": "code",
   "execution_count": 36,
   "metadata": {},
   "outputs": [
    {
     "data": {
      "image/png": "[encoded data removed]",
      "text/plain": [
       "<Figure size 432x288 with 1 Axes>"
      ]
     },
     "metadata": {
      "needs_background": "light"
     },
     "output_type": "display_data"
    }
   ],
   "source": [
    "plt.scatter(pools,r1s)\n",
    "plt.scatter(pools,r2s)\n",
    "plt.show()"
   ]
  },
  {
   "cell_type": "code",
   "execution_count": null,
   "metadata": {},
   "outputs": [],
   "source": []
  }
 ],
 "metadata": {
  "kernelspec": {
   "display_name": "Python 3",
   "language": "python",
   "name": "python3"
  },
  "language_info": {
   "codemirror_mode": {
    "name": "ipython",
    "version": 3
   },
   "file_extension": ".py",
   "mimetype": "text/x-python",
   "name": "python",
   "nbconvert_exporter": "python",
   "pygments_lexer": "ipython3",
   "version": "3.7.2"
  }
 },
 "nbformat": 4,
 "nbformat_minor": 2
}
