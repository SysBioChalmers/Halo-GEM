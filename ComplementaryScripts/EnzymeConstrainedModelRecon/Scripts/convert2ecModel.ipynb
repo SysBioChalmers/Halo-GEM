{
 "cells": [
  {
   "cell_type": "code",
   "execution_count": 1,
   "metadata": {},
   "outputs": [],
   "source": [
    "import cobra\n",
    "import os \n",
    "import sys\n",
    "import pandas as pd\n",
    "import numpy as np"
   ]
  },
  {
   "cell_type": "code",
   "execution_count": 2,
   "metadata": {},
   "outputs": [],
   "source": [
    "ecpy_path = '../../../ecpy/'\n",
    "sys.path.append(os.path.abspath(ecpy_path))\n",
    "import utils\n",
    "import ecpy"
   ]
  },
  {
   "cell_type": "code",
   "execution_count": 3,
   "metadata": {},
   "outputs": [
    {
     "data": {
      "text/plain": [
       "<module 'ecpy' from '/Users/gangl/Documents/GitHub/Halo-GEM/ecpy/ecpy.py'>"
      ]
     },
     "execution_count": 3,
     "metadata": {},
     "output_type": "execute_result"
    }
   ],
   "source": [
    "import importlib\n",
    "importlib.reload(utils)\n",
    "importlib.reload(ecpy)"
   ]
  },
  {
   "cell_type": "markdown",
   "metadata": {},
   "source": [
    "#### 1. Load the GEM model"
   ]
  },
  {
   "cell_type": "code",
   "execution_count": 4,
   "metadata": {},
   "outputs": [
    {
     "name": "stdout",
     "output_type": "stream",
     "text": [
      "Using license file /Users/gangl/gurobi.lic\n",
      "Academic license - for non-commercial use only\n"
     ]
    }
   ],
   "source": [
    "model_file = '../../../ModelFiles/json/Halo_GEM_v1.json'\n",
    "model = cobra.io.load_json_model(model_file)"
   ]
  },
  {
   "cell_type": "code",
   "execution_count": 5,
   "metadata": {},
   "outputs": [
    {
     "name": "stdout",
     "output_type": "stream",
     "text": [
      "Reactions: 2269\n",
      "Metabolites: 2339\n"
     ]
    }
   ],
   "source": [
    "utils.report_model(model)"
   ]
  },
  {
   "cell_type": "code",
   "execution_count": null,
   "metadata": {},
   "outputs": [],
   "source": [
    "utils.set_bound()"
   ]
  },
  {
   "cell_type": "code",
   "execution_count": 6,
   "metadata": {},
   "outputs": [
    {
     "name": "stderr",
     "output_type": "stream",
     "text": [
      "cobra/util/solver.py:416 \u001b[1;31mUserWarning\u001b[0m: solver status is 'infeasible'\n"
     ]
    },
    {
     "data": {
      "text/plain": [
       "(<Solution infeasible at 0x13296872b0>, <Solution 1.342 at 0x132968e4a8>)"
      ]
     },
     "execution_count": 6,
     "metadata": {},
     "output_type": "execute_result"
    }
   ],
   "source": [
    "utils.test_biomass_production(model)"
   ]
  },
  {
   "cell_type": "markdown",
   "metadata": {},
   "source": [
    "#### 2. Convert to irreversible model"
   ]
  },
  {
   "cell_type": "code",
   "execution_count": 38,
   "metadata": {},
   "outputs": [],
   "source": [
    "irrModel = ecpy.convertToIrrev(model)"
   ]
  },
  {
   "cell_type": "code",
   "execution_count": 39,
   "metadata": {},
   "outputs": [
    {
     "name": "stdout",
     "output_type": "stream",
     "text": [
      "Reactions: 2689\n",
      "Metabolites: 2339\n"
     ]
    }
   ],
   "source": [
    "utils.report_model(irrModel)"
   ]
  },
  {
   "cell_type": "code",
   "execution_count": 40,
   "metadata": {},
   "outputs": [
    {
     "name": "stderr",
     "output_type": "stream",
     "text": [
      "cobra/util/solver.py:416 \u001b[1;31mUserWarning\u001b[0m: solver status is 'infeasible'\n"
     ]
    },
    {
     "data": {
      "text/plain": [
       "(<Solution infeasible at 0x1328596fd0>, <Solution 1.342 at 0x13284c5198>)"
      ]
     },
     "execution_count": 40,
     "metadata": {},
     "output_type": "execute_result"
    }
   ],
   "source": [
    "utils.test_biomass_production(irrModel)"
   ]
  },
  {
   "cell_type": "markdown",
   "metadata": {},
   "source": [
    "#### 3. Add enzymes into model: eModel, need kcat values"
   ]
  },
  {
   "cell_type": "markdown",
   "metadata": {},
   "source": [
    "##### 3.1 prepare a dictionary with (enz_id,rxn_id) as keys and kcasts as values\n",
    "In this reconstruction, kcats for reactions were matched only at the reaction level, meaning that all iso-enzymes that catalyze the same reaction have the same kcat."
   ]
  },
  {
   "cell_type": "code",
   "execution_count": 41,
   "metadata": {},
   "outputs": [],
   "source": [
    "df_enz_kcat = pd.read_csv('../Results/mapped_kcats.csv',index_col=0)\n",
    "# In this file, all kcats are in the unit of 1/s and log10 transformed"
   ]
  },
  {
   "cell_type": "code",
   "execution_count": 42,
   "metadata": {},
   "outputs": [
    {
     "data": {
      "text/html": [
       "<div>\n",
       "<style scoped>\n",
       "    .dataframe tbody tr th:only-of-type {\n",
       "        vertical-align: middle;\n",
       "    }\n",
       "\n",
       "    .dataframe tbody tr th {\n",
       "        vertical-align: top;\n",
       "    }\n",
       "\n",
       "    .dataframe thead th {\n",
       "        text-align: right;\n",
       "    }\n",
       "</style>\n",
       "<table border=\"1\" class=\"dataframe\">\n",
       "  <thead>\n",
       "    <tr style=\"text-align: right;\">\n",
       "      <th></th>\n",
       "      <th>log10_kcat_mean</th>\n",
       "      <th>log10_kcat_std</th>\n",
       "      <th>log10_kcat_max</th>\n",
       "      <th>log10_kcat_max_std</th>\n",
       "    </tr>\n",
       "  </thead>\n",
       "  <tbody>\n",
       "    <tr>\n",
       "      <th>RXN-6021</th>\n",
       "      <td>1.749244</td>\n",
       "      <td>0.915640</td>\n",
       "      <td>3.463043</td>\n",
       "      <td>0.285781</td>\n",
       "    </tr>\n",
       "    <tr>\n",
       "      <th>DEOXYRIBOSE-P-ALD-RXN</th>\n",
       "      <td>1.883541</td>\n",
       "      <td>0.734648</td>\n",
       "      <td>2.592954</td>\n",
       "      <td>0.319713</td>\n",
       "    </tr>\n",
       "    <tr>\n",
       "      <th>THREONINE-ALDOLASE-RXN</th>\n",
       "      <td>0.271842</td>\n",
       "      <td>1.000000</td>\n",
       "      <td>0.271842</td>\n",
       "      <td>1.000000</td>\n",
       "    </tr>\n",
       "    <tr>\n",
       "      <th>R02300_copy1</th>\n",
       "      <td>1.223489</td>\n",
       "      <td>0.118440</td>\n",
       "      <td>1.298665</td>\n",
       "      <td>0.052214</td>\n",
       "    </tr>\n",
       "    <tr>\n",
       "      <th>R02300_copy2</th>\n",
       "      <td>1.223489</td>\n",
       "      <td>0.118440</td>\n",
       "      <td>1.305291</td>\n",
       "      <td>0.034038</td>\n",
       "    </tr>\n",
       "  </tbody>\n",
       "</table>\n",
       "</div>"
      ],
      "text/plain": [
       "                        log10_kcat_mean  log10_kcat_std  log10_kcat_max  \\\n",
       "RXN-6021                       1.749244        0.915640        3.463043   \n",
       "DEOXYRIBOSE-P-ALD-RXN          1.883541        0.734648        2.592954   \n",
       "THREONINE-ALDOLASE-RXN         0.271842        1.000000        0.271842   \n",
       "R02300_copy1                   1.223489        0.118440        1.298665   \n",
       "R02300_copy2                   1.223489        0.118440        1.305291   \n",
       "\n",
       "                        log10_kcat_max_std  \n",
       "RXN-6021                          0.285781  \n",
       "DEOXYRIBOSE-P-ALD-RXN             0.319713  \n",
       "THREONINE-ALDOLASE-RXN            1.000000  \n",
       "R02300_copy1                      0.052214  \n",
       "R02300_copy2                      0.034038  "
      ]
     },
     "execution_count": 42,
     "metadata": {},
     "output_type": "execute_result"
    }
   ],
   "source": [
    "df_enz_kcat.head(5)"
   ]
  },
  {
   "cell_type": "code",
   "execution_count": 62,
   "metadata": {},
   "outputs": [],
   "source": [
    "kcat_dict = ecpy.prepare_kcats_dict(irrModel,df_enz_kcat,'log10_kcat_mean')\n",
    "# In this dictionary, all kcats are in the unit of 1/h "
   ]
  },
  {
   "cell_type": "code",
   "execution_count": 63,
   "metadata": {},
   "outputs": [
    {
     "data": {
      "text/plain": [
       "2495"
      ]
     },
     "execution_count": 63,
     "metadata": {},
     "output_type": "execute_result"
    }
   ],
   "source": [
    "len(kcat_dict)"
   ]
  },
  {
   "cell_type": "markdown",
   "metadata": {},
   "source": [
    "##### 3.2 add enzymes into reactions"
   ]
  },
  {
   "cell_type": "code",
   "execution_count": 64,
   "metadata": {},
   "outputs": [],
   "source": [
    "eModel = ecpy.convertToEnzymeModel(irrModel,kcat_dict)"
   ]
  },
  {
   "cell_type": "code",
   "execution_count": 65,
   "metadata": {},
   "outputs": [
    {
     "name": "stdout",
     "output_type": "stream",
     "text": [
      "Reactions: 4678\n",
      "Metabolites: 3832\n"
     ]
    }
   ],
   "source": [
    "utils.report_model(eModel)"
   ]
  },
  {
   "cell_type": "code",
   "execution_count": 66,
   "metadata": {},
   "outputs": [
    {
     "name": "stderr",
     "output_type": "stream",
     "text": [
      "cobra/util/solver.py:416 \u001b[1;31mUserWarning\u001b[0m: solver status is 'infeasible'\n"
     ]
    },
    {
     "data": {
      "text/plain": [
       "(<Solution infeasible at 0x132b0a9f98>, <Solution 1.342 at 0x132b0c4160>)"
      ]
     },
     "execution_count": 66,
     "metadata": {},
     "output_type": "execute_result"
    }
   ],
   "source": [
    "utils.test_biomass_production(eModel)"
   ]
  },
  {
   "cell_type": "markdown",
   "metadata": {},
   "source": [
    "#### 4. add protein pool"
   ]
  },
  {
   "cell_type": "code",
   "execution_count": 67,
   "metadata": {},
   "outputs": [
    {
     "data": {
      "text/html": [
       "<div>\n",
       "<style scoped>\n",
       "    .dataframe tbody tr th:only-of-type {\n",
       "        vertical-align: middle;\n",
       "    }\n",
       "\n",
       "    .dataframe tbody tr th {\n",
       "        vertical-align: top;\n",
       "    }\n",
       "\n",
       "    .dataframe thead th {\n",
       "        text-align: right;\n",
       "    }\n",
       "</style>\n",
       "<table border=\"1\" class=\"dataframe\">\n",
       "  <thead>\n",
       "    <tr style=\"text-align: right;\">\n",
       "      <th></th>\n",
       "      <th>mw</th>\n",
       "    </tr>\n",
       "  </thead>\n",
       "  <tbody>\n",
       "    <tr>\n",
       "      <th>TD01GL003599</th>\n",
       "      <td>35.419836</td>\n",
       "    </tr>\n",
       "    <tr>\n",
       "      <th>TD01GL000170</th>\n",
       "      <td>67.223844</td>\n",
       "    </tr>\n",
       "    <tr>\n",
       "      <th>TD01GL002075</th>\n",
       "      <td>33.944536</td>\n",
       "    </tr>\n",
       "    <tr>\n",
       "      <th>TD01GL002983</th>\n",
       "      <td>81.953455</td>\n",
       "    </tr>\n",
       "    <tr>\n",
       "      <th>TD01GL000394</th>\n",
       "      <td>20.907750</td>\n",
       "    </tr>\n",
       "  </tbody>\n",
       "</table>\n",
       "</div>"
      ],
      "text/plain": [
       "                     mw\n",
       "TD01GL003599  35.419836\n",
       "TD01GL000170  67.223844\n",
       "TD01GL002075  33.944536\n",
       "TD01GL002983  81.953455\n",
       "TD01GL000394  20.907750"
      ]
     },
     "execution_count": 67,
     "metadata": {},
     "output_type": "execute_result"
    }
   ],
   "source": [
    "df_enz_mw = pd.read_csv('../Results/enzyme_MWs.csv',index_col=0)\n",
    "df_enz_mw.head(5)"
   ]
  },
  {
   "cell_type": "code",
   "execution_count": 68,
   "metadata": {},
   "outputs": [],
   "source": [
    "MWs = {ind:df_enz_mw.loc[ind,'mw'] for ind in df_enz_mw.index}"
   ]
  },
  {
   "cell_type": "code",
   "execution_count": 69,
   "metadata": {},
   "outputs": [
    {
     "name": "stdout",
     "output_type": "stream",
     "text": [
      "Read LP format model from file /var/folders/dx/ghtq02dx2w307xx_5hncb421qny3_w/T/tmpc9w4vo1i.lp\n",
      "Reading time = 0.04 seconds\n",
      ": 3832 rows, 9356 columns, 36598 nonzeros\n"
     ]
    }
   ],
   "source": [
    "ecModel = ecpy.constrainPool(eModel,MWs,list(MWs.keys()),0.018)"
   ]
  },
  {
   "cell_type": "code",
   "execution_count": 70,
   "metadata": {},
   "outputs": [
    {
     "name": "stdout",
     "output_type": "stream",
     "text": [
      "0.018\n"
     ]
    }
   ],
   "source": [
    "rxn_pool = ecModel.reactions.get_by_id('prot_pool_exchange')\n",
    "print(rxn_pool.upper_bound)"
   ]
  },
  {
   "cell_type": "code",
   "execution_count": 72,
   "metadata": {},
   "outputs": [
    {
     "data": {
      "text/plain": [
       "(<Solution 0.440 at 0x132b9866d8>, <Solution 0.906 at 0x132b7c0a20>)"
      ]
     },
     "execution_count": 72,
     "metadata": {},
     "output_type": "execute_result"
    }
   ],
   "source": [
    "rxn_pool.upper_bound = 1\n",
    "utils.test_biomass_production(ecModel)"
   ]
  },
  {
   "cell_type": "code",
   "execution_count": 57,
   "metadata": {},
   "outputs": [
    {
     "data": {
      "text/plain": [
       "inf"
      ]
     },
     "execution_count": 57,
     "metadata": {},
     "output_type": "execute_result"
    }
   ],
   "source": [
    "ecModel.reactions.Exchange_Glucopyranose.upper_bound"
   ]
  }
 ],
 "metadata": {
  "kernelspec": {
   "display_name": "Python 3",
   "language": "python",
   "name": "python3"
  },
  "language_info": {
   "codemirror_mode": {
    "name": "ipython",
    "version": 3
   },
   "file_extension": ".py",
   "mimetype": "text/x-python",
   "name": "python",
   "nbconvert_exporter": "python",
   "pygments_lexer": "ipython3",
   "version": "3.7.2"
  }
 },
 "nbformat": 4,
 "nbformat_minor": 2
}
