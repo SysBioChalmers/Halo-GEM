{
 "cells": [
  {
   "cell_type": "code",
   "execution_count": 277,
   "metadata": {},
   "outputs": [],
   "source": [
    "import pandas as pd\n",
    "import numpy as np\n",
    "import operations as op\n",
    "import cobra\n",
    "from matplotlib import pyplot as plt\n",
    "\n",
    "import sys\n",
    "import os"
   ]
  },
  {
   "cell_type": "code",
   "execution_count": 307,
   "metadata": {},
   "outputs": [],
   "source": [
    "ecpy_path = '../../../ecpy/'\n",
    "sys.path.append(os.path.abspath(ecpy_path))\n",
    "import utils\n",
    "import ecpy"
   ]
  },
  {
   "cell_type": "code",
   "execution_count": 310,
   "metadata": {},
   "outputs": [
    {
     "data": {
      "text/plain": [
       "<module 'ecpy' from '/Users/gangl/Documents/GitHub/Halo-GEM/ecpy/ecpy.py'>"
      ]
     },
     "execution_count": 310,
     "metadata": {},
     "output_type": "execute_result"
    }
   ],
   "source": [
    "import importlib\n",
    "importlib.reload(utils)\n",
    "importlib.reload(ecpy)"
   ]
  },
  {
   "cell_type": "markdown",
   "metadata": {},
   "source": [
    "#### 1. Only use  those kcats from bacteria"
   ]
  },
  {
   "cell_type": "code",
   "execution_count": 280,
   "metadata": {},
   "outputs": [
    {
     "name": "stdout",
     "output_type": "stream",
     "text": [
      "(30162, 5)\n"
     ]
    }
   ],
   "source": [
    "kcat_file = '../../../../GECKO/databases/max_KCAT.txt'\n",
    "dfkcat = pd.read_csv(kcat_file,sep='\\t',header=None)\n",
    "dfkcat.columns = ['ec','substrate','species','kcat','comments']\n",
    "print(dfkcat.shape)"
   ]
  },
  {
   "cell_type": "code",
   "execution_count": 281,
   "metadata": {},
   "outputs": [
    {
     "data": {
      "image/png": "[encoded data removed]",
      "text/plain": [
       "<Figure size 288x216 with 1 Axes>"
      ]
     },
     "metadata": {
      "needs_background": "light"
     },
     "output_type": "display_data"
    }
   ],
   "source": [
    "utils.plot_kcat_dist(dfkcat)"
   ]
  },
  {
   "cell_type": "code",
   "execution_count": 282,
   "metadata": {},
   "outputs": [
    {
     "name": "stdout",
     "output_type": "stream",
     "text": [
      "10284\n"
     ]
    }
   ],
   "source": [
    "sel_ind = [ind for ind in dfkcat.index if 'bacteria' in dfkcat.loc[ind,'species']]\n",
    "print(len(sel_ind))"
   ]
  },
  {
   "cell_type": "code",
   "execution_count": 283,
   "metadata": {},
   "outputs": [],
   "source": [
    "dfkcat = dfkcat.loc[sel_ind,:]"
   ]
  },
  {
   "cell_type": "code",
   "execution_count": 284,
   "metadata": {},
   "outputs": [
    {
     "data": {
      "image/png": "[encoded data removed]",
      "text/plain": [
       "<Figure size 288x216 with 1 Axes>"
      ]
     },
     "metadata": {
      "needs_background": "light"
     },
     "output_type": "display_data"
    }
   ],
   "source": [
    "utils.plot_kcat_dist(dfkcat)"
   ]
  },
  {
   "cell_type": "markdown",
   "metadata": {},
   "source": [
    "#### 2. match"
   ]
  },
  {
   "cell_type": "code",
   "execution_count": 285,
   "metadata": {},
   "outputs": [],
   "source": [
    "model_file = '../../../ModelFiles/json/Halo_GEM_v1.json'\n",
    "model = cobra.io.load_json_model(model_file)"
   ]
  },
  {
   "cell_type": "code",
   "execution_count": 286,
   "metadata": {},
   "outputs": [],
   "source": [
    "irrModel = ecpy.convertToIrrev(model)"
   ]
  },
  {
   "cell_type": "code",
   "execution_count": 287,
   "metadata": {},
   "outputs": [
    {
     "name": "stdout",
     "output_type": "stream",
     "text": [
      "1734 / 2325 have been assigned with at least one ec number\n",
      "           ec                substrate  \\\n",
      "9   EC1.1.1.1        (s)-(+)-1-indanol   \n",
      "10  EC1.1.1.1    (s)-(+)-alpha-tetraol   \n",
      "11  EC1.1.1.1  (s)-(-)-1-phenylethanol   \n",
      "13  EC1.1.1.1            (s)-1-indanol   \n",
      "14  EC1.1.1.1      (s)-1-phenylethanol   \n",
      "\n",
      "                                              species  kcat comments  \n",
      "9   thermus thermophilus//prokaryotes;bacteria;dei...  61.4        *  \n",
      "10  thermus thermophilus//prokaryotes;bacteria;dei...  57.0        *  \n",
      "11  thermus thermophilus//prokaryotes;bacteria;dei...   1.1        *  \n",
      "13  thermus thermophilus//prokaryotes;bacteria;dei...  61.4        *  \n",
      "14  thermus thermophilus//prokaryotes;bacteria;dei...   1.1        *  \n",
      "Searching with 0 wildcard(s)\n"
     ]
    },
    {
     "name": "stderr",
     "output_type": "stream",
     "text": [
      "/Users/gangl/anaconda3/lib/python3.7/site-packages/pandas/core/indexing.py:1472 \u001b[1;31mPerformanceWarning\u001b[0m: indexing past lexsort depth may impact performance.\n"
     ]
    },
    {
     "name": "stdout",
     "output_type": "stream",
     "text": [
      "Number of kcats found so far: 1013 \n",
      "\n",
      "           ec                substrate  \\\n",
      "9   EC1.1.1.X        (s)-(+)-1-indanol   \n",
      "10  EC1.1.1.X    (s)-(+)-alpha-tetraol   \n",
      "11  EC1.1.1.X  (s)-(-)-1-phenylethanol   \n",
      "13  EC1.1.1.X            (s)-1-indanol   \n",
      "14  EC1.1.1.X      (s)-1-phenylethanol   \n",
      "\n",
      "                                              species  kcat comments  \n",
      "9   thermus thermophilus//prokaryotes;bacteria;dei...  61.4        *  \n",
      "10  thermus thermophilus//prokaryotes;bacteria;dei...  57.0        *  \n",
      "11  thermus thermophilus//prokaryotes;bacteria;dei...   1.1        *  \n",
      "13  thermus thermophilus//prokaryotes;bacteria;dei...  61.4        *  \n",
      "14  thermus thermophilus//prokaryotes;bacteria;dei...   1.1        *  \n",
      "Searching with 1 wildcard(s)\n",
      "Number of kcats found so far: 1666 \n",
      "\n",
      "           ec                substrate  \\\n",
      "9   EC1.1.X.X        (s)-(+)-1-indanol   \n",
      "10  EC1.1.X.X    (s)-(+)-alpha-tetraol   \n",
      "11  EC1.1.X.X  (s)-(-)-1-phenylethanol   \n",
      "13  EC1.1.X.X            (s)-1-indanol   \n",
      "14  EC1.1.X.X      (s)-1-phenylethanol   \n",
      "\n",
      "                                              species  kcat comments  \n",
      "9   thermus thermophilus//prokaryotes;bacteria;dei...  61.4        *  \n",
      "10  thermus thermophilus//prokaryotes;bacteria;dei...  57.0        *  \n",
      "11  thermus thermophilus//prokaryotes;bacteria;dei...   1.1        *  \n",
      "13  thermus thermophilus//prokaryotes;bacteria;dei...  61.4        *  \n",
      "14  thermus thermophilus//prokaryotes;bacteria;dei...   1.1        *  \n",
      "Searching with 2 wildcard(s)\n",
      "Number of kcats found so far: 1675 \n",
      "\n",
      "           ec                substrate  \\\n",
      "9   EC1.X.X.X        (s)-(+)-1-indanol   \n",
      "10  EC1.X.X.X    (s)-(+)-alpha-tetraol   \n",
      "11  EC1.X.X.X  (s)-(-)-1-phenylethanol   \n",
      "13  EC1.X.X.X            (s)-1-indanol   \n",
      "14  EC1.X.X.X      (s)-1-phenylethanol   \n",
      "\n",
      "                                              species  kcat comments  \n",
      "9   thermus thermophilus//prokaryotes;bacteria;dei...  61.4        *  \n",
      "10  thermus thermophilus//prokaryotes;bacteria;dei...  57.0        *  \n",
      "11  thermus thermophilus//prokaryotes;bacteria;dei...   1.1        *  \n",
      "13  thermus thermophilus//prokaryotes;bacteria;dei...  61.4        *  \n",
      "14  thermus thermophilus//prokaryotes;bacteria;dei...   1.1        *  \n",
      "Searching with 3 wildcard(s)\n",
      "Number of kcats found so far: 1677 \n",
      "\n",
      "           ec                substrate  \\\n",
      "9   ECX.X.X.X        (s)-(+)-1-indanol   \n",
      "10  ECX.X.X.X    (s)-(+)-alpha-tetraol   \n",
      "11  ECX.X.X.X  (s)-(-)-1-phenylethanol   \n",
      "13  ECX.X.X.X            (s)-1-indanol   \n",
      "14  ECX.X.X.X      (s)-1-phenylethanol   \n",
      "\n",
      "                                              species  kcat comments  \n",
      "9   thermus thermophilus//prokaryotes;bacteria;dei...  61.4        *  \n",
      "10  thermus thermophilus//prokaryotes;bacteria;dei...  57.0        *  \n",
      "11  thermus thermophilus//prokaryotes;bacteria;dei...   1.1        *  \n",
      "13  thermus thermophilus//prokaryotes;bacteria;dei...  61.4        *  \n",
      "14  thermus thermophilus//prokaryotes;bacteria;dei...   1.1        *  \n",
      "Searching with 4 wildcard(s)\n",
      "Number of kcats found so far: 1734 \n",
      "\n"
     ]
    }
   ],
   "source": [
    "rxn_kcats, case_count = ecpy.match_kcats(irrModel,dfkcat)"
   ]
  },
  {
   "cell_type": "code",
   "execution_count": 299,
   "metadata": {},
   "outputs": [
    {
     "name": "stdout",
     "output_type": "stream",
     "text": [
      "(1734, 2)\n"
     ]
    },
    {
     "data": {
      "text/html": [
       "<div>\n",
       "<style scoped>\n",
       "    .dataframe tbody tr th:only-of-type {\n",
       "        vertical-align: middle;\n",
       "    }\n",
       "\n",
       "    .dataframe tbody tr th {\n",
       "        vertical-align: top;\n",
       "    }\n",
       "\n",
       "    .dataframe thead th {\n",
       "        text-align: right;\n",
       "    }\n",
       "</style>\n",
       "<table border=\"1\" class=\"dataframe\">\n",
       "  <thead>\n",
       "    <tr style=\"text-align: right;\">\n",
       "      <th></th>\n",
       "      <th>log10_kcat_mean</th>\n",
       "      <th>log10_kcat_std</th>\n",
       "    </tr>\n",
       "  </thead>\n",
       "  <tbody>\n",
       "    <tr>\n",
       "      <th>CHOLD</th>\n",
       "      <td>1.026202</td>\n",
       "      <td>1.026202</td>\n",
       "    </tr>\n",
       "    <tr>\n",
       "      <th>DEOXYRIBOSE-P-ALD-RXN</th>\n",
       "      <td>1.108909</td>\n",
       "      <td>1.108909</td>\n",
       "    </tr>\n",
       "    <tr>\n",
       "      <th>RXN-6321</th>\n",
       "      <td>1.223489</td>\n",
       "      <td>1.223489</td>\n",
       "    </tr>\n",
       "    <tr>\n",
       "      <th>GLYOHMETRANS-RXN</th>\n",
       "      <td>1.435783</td>\n",
       "      <td>1.435783</td>\n",
       "    </tr>\n",
       "    <tr>\n",
       "      <th>GLYOHMETRANS-RXN_REV</th>\n",
       "      <td>0.698970</td>\n",
       "      <td>1.000000</td>\n",
       "    </tr>\n",
       "    <tr>\n",
       "      <th>THREONINE-ALDOLASE-RXN</th>\n",
       "      <td>0.271842</td>\n",
       "      <td>1.000000</td>\n",
       "    </tr>\n",
       "    <tr>\n",
       "      <th>RXN0-1461</th>\n",
       "      <td>-2.522879</td>\n",
       "      <td>1.000000</td>\n",
       "    </tr>\n",
       "    <tr>\n",
       "      <th>GLUTATHIONE-REDUCT-NADPH-RXN</th>\n",
       "      <td>2.069349</td>\n",
       "      <td>2.069349</td>\n",
       "    </tr>\n",
       "    <tr>\n",
       "      <th>GLUTATHIONE-REDUCT-NADPH-RXN_REV</th>\n",
       "      <td>2.017161</td>\n",
       "      <td>2.017161</td>\n",
       "    </tr>\n",
       "    <tr>\n",
       "      <th>RXN0-2382</th>\n",
       "      <td>0.861223</td>\n",
       "      <td>0.861223</td>\n",
       "    </tr>\n",
       "  </tbody>\n",
       "</table>\n",
       "</div>"
      ],
      "text/plain": [
       "                                  log10_kcat_mean  log10_kcat_std\n",
       "CHOLD                                    1.026202        1.026202\n",
       "DEOXYRIBOSE-P-ALD-RXN                    1.108909        1.108909\n",
       "RXN-6321                                 1.223489        1.223489\n",
       "GLYOHMETRANS-RXN                         1.435783        1.435783\n",
       "GLYOHMETRANS-RXN_REV                     0.698970        1.000000\n",
       "THREONINE-ALDOLASE-RXN                   0.271842        1.000000\n",
       "RXN0-1461                               -2.522879        1.000000\n",
       "GLUTATHIONE-REDUCT-NADPH-RXN             2.069349        2.069349\n",
       "GLUTATHIONE-REDUCT-NADPH-RXN_REV         2.017161        2.017161\n",
       "RXN0-2382                                0.861223        0.861223"
      ]
     },
     "execution_count": 299,
     "metadata": {},
     "output_type": "execute_result"
    }
   ],
   "source": [
    "df_model_kcat = pd.DataFrame()\n",
    "for rxn_id,kcats in rxn_kcats.items():\n",
    "    mean_log10_kcat = np.mean(np.log10(kcats))\n",
    "    if len(kcats)>1: std_log10_kcat = np.mean(np.log10(kcats))\n",
    "    else: std_log10_kcat = 1 #introduce a variance of 1 magnitude\n",
    "    \n",
    "    df_model_kcat.loc[rxn_id,'log10_kcat_mean'] = mean_log10_kcat\n",
    "    df_model_kcat.loc[rxn_id,'log10_kcat_std'] = std_log10_kcat\n",
    "        \n",
    "        \n",
    "print(df_model_kcat.shape)\n",
    "df_model_kcat.head(n=10)"
   ]
  },
  {
   "cell_type": "code",
   "execution_count": 303,
   "metadata": {},
   "outputs": [],
   "source": [
    "df_model_kcat.to_csv('../Results/mapped_kcats.csv')"
   ]
  },
  {
   "cell_type": "code",
   "execution_count": 311,
   "metadata": {},
   "outputs": [
    {
     "data": {
      "image/png": "[encoded data removed]",
      "text/plain": [
       "<Figure size 288x216 with 1 Axes>"
      ]
     },
     "metadata": {
      "needs_background": "light"
     },
     "output_type": "display_data"
    }
   ],
   "source": [
    "utils.plot_kcat_dist(df_model_kcat,'log10_kcat_mean','Mean',True)"
   ]
  },
  {
   "cell_type": "code",
   "execution_count": 312,
   "metadata": {},
   "outputs": [
    {
     "data": {
      "image/png": "[encoded data removed]",
      "text/plain": [
       "<Figure size 288x216 with 1 Axes>"
      ]
     },
     "metadata": {
      "needs_background": "light"
     },
     "output_type": "display_data"
    }
   ],
   "source": [
    "utils.plot_kcat_dist(df_model_kcat,'log10_kcat_std','STD',True)"
   ]
  },
  {
   "cell_type": "code",
   "execution_count": 306,
   "metadata": {},
   "outputs": [
    {
     "data": {
      "text/plain": [
       "{'0_0': 540,\n",
       " '0_1': 473,\n",
       " '1_0': 244,\n",
       " '1_1': 409,\n",
       " '2_0': 4,\n",
       " '2_1': 5,\n",
       " '3_1': 2,\n",
       " '4_1': 1,\n",
       " '4_0': 56}"
      ]
     },
     "execution_count": 306,
     "metadata": {},
     "output_type": "execute_result"
    }
   ],
   "source": [
    "case_count"
   ]
  }
 ],
 "metadata": {
  "kernelspec": {
   "display_name": "Python 3",
   "language": "python",
   "name": "python3"
  },
  "language_info": {
   "codemirror_mode": {
    "name": "ipython",
    "version": 3
   },
   "file_extension": ".py",
   "mimetype": "text/x-python",
   "name": "python",
   "nbconvert_exporter": "python",
   "pygments_lexer": "ipython3",
   "version": "3.7.2"
  }
 },
 "nbformat": 4,
 "nbformat_minor": 2
}
