{
 "cells": [
  {
   "cell_type": "code",
   "execution_count": 1,
   "metadata": {},
   "outputs": [],
   "source": [
    "import cobra\n",
    "import pandas as pd\n",
    "import numpy as np\n",
    "import matplotlib.pyplot as plt\n",
    "from Bio.SeqUtils.ProtParam import ProteinAnalysis\n",
    "from Bio import SeqIO\n",
    "import xlrd"
   ]
  },
  {
   "cell_type": "code",
   "execution_count": 2,
   "metadata": {},
   "outputs": [],
   "source": [
    "def get_protein_mw(infile):\n",
    "    mws = {} # {protein_id: Da}\n",
    "    for rec in SeqIO.parse(open(infile),'fasta'):\n",
    "        seq = str(rec.seq)\n",
    "        seq = seq.replace('*','')\n",
    "        pa = ProteinAnalysis(seq)\n",
    "        \n",
    "        mws[rec.id] = pa.molecular_weight()\n",
    "        \n",
    "    print(len(mws))\n",
    "    return mws"
   ]
  },
  {
   "cell_type": "code",
   "execution_count": 3,
   "metadata": {},
   "outputs": [],
   "source": [
    "def load_met_enzymes(modelfile):\n",
    "    model = cobra.io.load_json_model(modelfile)\n",
    "    is_metabolic_gene = {gene.id:True for gene in model.genes}\n",
    "    return is_metabolic_gene"
   ]
  },
  {
   "cell_type": "code",
   "execution_count": 4,
   "metadata": {},
   "outputs": [],
   "source": [
    "def calculate_total_measured(df,mws):\n",
    "    Pm = dict()\n",
    "    for col in df.columns:\n",
    "        for protein in df.index:\n",
    "            pab = df.loc[protein,col]\n",
    "            if np.isnan(pab): continue   \n",
    "            Pm[col] = Pm.get(col,0) + pab*mws[protein]*1e-3\n",
    "    return Pm"
   ]
  },
  {
   "cell_type": "code",
   "execution_count": 5,
   "metadata": {},
   "outputs": [],
   "source": [
    "def calculate_enzyme_measured(df,mws,is_metabolic_gene):\n",
    "    Pm = dict()\n",
    "    for col in df.columns:\n",
    "        for protein in df.index:\n",
    "            if not is_metabolic_gene.get(protein,False): continue\n",
    "            pab = df.loc[protein,col]\n",
    "            if np.isnan(pab): continue   \n",
    "            Pm[col] = Pm.get(col,0) + pab*mws[protein]*1e-3\n",
    "    return Pm"
   ]
  },
  {
   "cell_type": "code",
   "execution_count": 6,
   "metadata": {},
   "outputs": [],
   "source": [
    "def plot_log_transformed_abandance(df,figsize=None):\n",
    "    dflog = df.copy()\n",
    "    for col in dflog.columns: dflog[col] = np.log10(dflog[col].values)\n",
    "    dflog.hist(bins=20,figsize=figsize)\n",
    "    plt.tight_layout()\n",
    "    plt.show()"
   ]
  },
  {
   "cell_type": "code",
   "execution_count": 11,
   "metadata": {},
   "outputs": [],
   "source": [
    "modelfile = '../../../ModelFiles/json/Halo_GEM_v1.json'\n",
    "protein_ab_file = '../proteomics/protein_abandance.csv'\n",
    "protein_seq_file = '../../../ComplementaryData/protein_sequences_v3.0.fasta'"
   ]
  },
  {
   "cell_type": "markdown",
   "metadata": {},
   "source": [
    "#### 1. look at the total measured protein amount\n",
    "* protein abandance (pab) is in the unit of mmol/gDW\n",
    "* mw: g/mol  \n",
    "* 1e-3 x pab x mw = g/gDw"
   ]
  },
  {
   "cell_type": "code",
   "execution_count": 8,
   "metadata": {},
   "outputs": [
    {
     "name": "stdout",
     "output_type": "stream",
     "text": [
      "3927\n"
     ]
    }
   ],
   "source": [
    "mws = get_protein_mw(protein_seq_file)"
   ]
  },
  {
   "cell_type": "code",
   "execution_count": 9,
   "metadata": {},
   "outputs": [],
   "source": [
    "fhand = open('../Results/protein_mws.csv','w')\n",
    "fhand.write('ID,MW\\n')\n",
    "for k,v in mws.items(): fhand.write('{0},{1}\\n'.format(k,v))\n",
    "fhand.close()"
   ]
  },
  {
   "cell_type": "code",
   "execution_count": 12,
   "metadata": {},
   "outputs": [],
   "source": [
    "df = pd.read_csv(protein_ab_file,index_col=0)\n",
    "Pm = calculate_total_measured(df,mws)"
   ]
  },
  {
   "cell_type": "code",
   "execution_count": 13,
   "metadata": {},
   "outputs": [
    {
     "data": {
      "text/plain": [
       "{'NACL60': 0.16479422582096273,\n",
       " 'NACL20': 0.049594525304013065,\n",
       " 'NACL100': 0.04175929307813453,\n",
       " 'HN': 0.1650430025074488,\n",
       " 'MU': 0.020083409599586016}"
      ]
     },
     "execution_count": 13,
     "metadata": {},
     "output_type": "execute_result"
    }
   ],
   "source": [
    "Pm"
   ]
  },
  {
   "cell_type": "code",
   "execution_count": 14,
   "metadata": {},
   "outputs": [],
   "source": [
    "a = set()"
   ]
  },
  {
   "cell_type": "code",
   "execution_count": 16,
   "metadata": {},
   "outputs": [],
   "source": [
    "a.add('a')"
   ]
  },
  {
   "cell_type": "code",
   "execution_count": 17,
   "metadata": {},
   "outputs": [
    {
     "data": {
      "text/plain": [
       "{'a'}"
      ]
     },
     "execution_count": 17,
     "metadata": {},
     "output_type": "execute_result"
    }
   ],
   "source": [
    "a"
   ]
  },
  {
   "cell_type": "code",
   "execution_count": 18,
   "metadata": {},
   "outputs": [
    {
     "data": {
      "text/plain": [
       "{'a'}"
      ]
     },
     "execution_count": 18,
     "metadata": {},
     "output_type": "execute_result"
    }
   ],
   "source": [
    "a.add('a')\n",
    "a"
   ]
  },
  {
   "cell_type": "markdown",
   "metadata": {},
   "source": [
    "### Yeast data\n",
    "protein seq data was downloaded from http://sgd-archive.yeastgenome.org/sequence/S288C_reference/orf_protein/orf_trans_all.fasta.gz\n",
    "\n",
    "\n",
    "proteomics data was from Petri"
   ]
  },
  {
   "cell_type": "code",
   "execution_count": 12,
   "metadata": {},
   "outputs": [],
   "source": [
    "def load_yeast_protemics():\n",
    "    book = xlrd.open_workbook('../YeastData/SI_Tables.xlsx')\n",
    "    sh = book.sheet_by_name('SI_Table3')\n",
    "    df = pd.DataFrame()\n",
    "    for i in range(sh.nrows):\n",
    "        if i<4: continue\n",
    "        seq_id = sh.cell(i,0).value\n",
    "        for j in range(10):\n",
    "            col = sh.cell(2,j+1).value\n",
    "            num = sh.cell(i,j+1).value\n",
    "            if str(num) == 'NA': num = np.nan\n",
    "            df.loc[seq_id,col] = num*10**3/6.02/1e23/1e-12\n",
    "    print(df.shape)\n",
    "    return df"
   ]
  },
  {
   "cell_type": "code",
   "execution_count": null,
   "metadata": {},
   "outputs": [],
   "source": []
  },
  {
   "cell_type": "code",
   "execution_count": 13,
   "metadata": {},
   "outputs": [
    {
     "name": "stdout",
     "output_type": "stream",
     "text": [
      "(2139, 10)\n"
     ]
    }
   ],
   "source": [
    "dfyeast = load_yeast_protemics()"
   ]
  },
  {
   "cell_type": "code",
   "execution_count": 14,
   "metadata": {},
   "outputs": [],
   "source": [
    "mws_yeast = get_protein_mw('../YeastData/orf_trans_all.fasta')"
   ]
  },
  {
   "cell_type": "code",
   "execution_count": 15,
   "metadata": {},
   "outputs": [],
   "source": [
    "Pm_yeast =  calculate_total_measured(dfyeast,mws_yeast)"
   ]
  },
  {
   "cell_type": "code",
   "execution_count": 16,
   "metadata": {},
   "outputs": [
    {
     "data": {
      "text/plain": [
       "{'REF': 0.47870160138276774,\n",
       " 'EtOH  20g/L': 0.4705435667157299,\n",
       " 'EtOH  40g/L': 0.45679541145301883,\n",
       " 'EtOH  60g/L': 0.4310456249670661,\n",
       " 'Osmo 0.2 M (NaCl)': 0.5016325569122959,\n",
       " 'Osmo 0.4 M (NaCl)': 0.4989402887269554,\n",
       " 'Osmo 0.6 M (NaCl)': 0.5057316457004101,\n",
       " 'Temp 33C': 0.4967188963363541,\n",
       " 'Temp 36C': 0.495122242543668,\n",
       " 'Temp 38C': 0.4505315425126893}"
      ]
     },
     "execution_count": 16,
     "metadata": {},
     "output_type": "execute_result"
    }
   ],
   "source": [
    "Pm_yeast"
   ]
  },
  {
   "cell_type": "code",
   "execution_count": 17,
   "metadata": {},
   "outputs": [
    {
     "data": {
      "image/png": "[encoded data removed]",
      "text/plain": [
       "<Figure size 720x720 with 6 Axes>"
      ]
     },
     "metadata": {
      "needs_background": "light"
     },
     "output_type": "display_data"
    }
   ],
   "source": [
    "plot_log_transformed_abandance(df,figsize=(10,10))"
   ]
  },
  {
   "cell_type": "code",
   "execution_count": 18,
   "metadata": {},
   "outputs": [
    {
     "data": {
      "image/png": "[encoded data removed]",
      "text/plain": [
       "<Figure size 720x720 with 12 Axes>"
      ]
     },
     "metadata": {
      "needs_background": "light"
     },
     "output_type": "display_data"
    }
   ],
   "source": [
    "plot_log_transformed_abandance(dfyeast,figsize=(10,10))"
   ]
  },
  {
   "cell_type": "code",
   "execution_count": 19,
   "metadata": {},
   "outputs": [
    {
     "data": {
      "image/png": "[encoded data removed]",
      "text/plain": [
       "<Figure size 432x288 with 1 Axes>"
      ]
     },
     "metadata": {
      "needs_background": "light"
     },
     "output_type": "display_data"
    }
   ],
   "source": [
    "plt.hist(mws.values(),label='Halo',bins=50,alpha=0.5)\n",
    "plt.hist(mws_yeast.values(),label='yeast',bins=50,alpha=0.5)\n",
    "plt.legend()\n",
    "plt.show()"
   ]
  },
  {
   "cell_type": "markdown",
   "metadata": {},
   "source": [
    "#### percentage of enzymes"
   ]
  },
  {
   "cell_type": "code",
   "execution_count": 22,
   "metadata": {},
   "outputs": [
    {
     "name": "stdout",
     "output_type": "stream",
     "text": [
      "Using license file /Users/gangl/gurobi.lic\n",
      "Academic license - for non-commercial use only\n"
     ]
    }
   ],
   "source": [
    "Pmenzyme = calculate_enzyme_measured(df,mws,load_met_enzymes(modelfile))"
   ]
  },
  {
   "cell_type": "code",
   "execution_count": 23,
   "metadata": {},
   "outputs": [
    {
     "data": {
      "text/plain": [
       "{'NACL60': 0.1304131943095682,\n",
       " 'NACL20': 0.007574482763001577,\n",
       " 'NACL100': 0.035263241852085674,\n",
       " 'HN': 0.13061214457348444,\n",
       " 'MU': 0.010759811390797652}"
      ]
     },
     "execution_count": 23,
     "metadata": {},
     "output_type": "execute_result"
    }
   ],
   "source": [
    "Pmenzyme"
   ]
  },
  {
   "cell_type": "code",
   "execution_count": 24,
   "metadata": {},
   "outputs": [
    {
     "data": {
      "text/plain": [
       "{'NACL60': 0.2617338227689495,\n",
       " 'NACL20': 0.02010555409726972,\n",
       " 'NACL100': 0.06915325405426205,\n",
       " 'HN': 0.25630349262794194,\n",
       " 'MU': 0.020083409599586016}"
      ]
     },
     "execution_count": 24,
     "metadata": {},
     "output_type": "execute_result"
    }
   ],
   "source": [
    "Pm"
   ]
  }
 ],
 "metadata": {
  "kernelspec": {
   "display_name": "Python 3",
   "language": "python",
   "name": "python3"
  },
  "language_info": {
   "codemirror_mode": {
    "name": "ipython",
    "version": 3
   },
   "file_extension": ".py",
   "mimetype": "text/x-python",
   "name": "python",
   "nbconvert_exporter": "python",
   "pygments_lexer": "ipython3",
   "version": "3.7.2"
  }
 },
 "nbformat": 4,
 "nbformat_minor": 2
}
