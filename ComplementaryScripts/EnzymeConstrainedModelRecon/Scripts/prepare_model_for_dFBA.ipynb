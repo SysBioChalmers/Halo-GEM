{
 "cells": [
  {
   "cell_type": "code",
   "execution_count": 1,
   "metadata": {},
   "outputs": [],
   "source": [
    "import cobra\n",
    "import pickle\n",
    "import numpy as np"
   ]
  },
  {
   "cell_type": "code",
   "execution_count": 12,
   "metadata": {},
   "outputs": [],
   "source": [
    "def test_growth(model):\n",
    "    model.objective = 'Biomass_v1'\n",
    "    model.objective_direction = 'max'\n",
    "    s = model.optimize()\n",
    "    r = s.objective_value if s.status == 'optimal' else -1\n",
    "    print('Results:')\n",
    "    print('  Status        :',s.status)\n",
    "    print('  growth_rate   :',r)\n",
    "    print('  glucose uptake:',s.fluxes['Exchange_Glucopyranose'])\n",
    "    print('  PHA           :',s.fluxes['PHA_secretion'])\n",
    "    print('  NGAM lb:',model.reactions.NGAM.lower_bound)\n",
    "    print('  PHA lb:',model.reactions.PHA_secretion.lower_bound)\n",
    "    \n",
    "    print()\n",
    "            "
   ]
  },
  {
   "cell_type": "markdown",
   "metadata": {},
   "source": [
    "### For Batch"
   ]
  },
  {
   "cell_type": "code",
   "execution_count": 13,
   "metadata": {},
   "outputs": [],
   "source": [
    "from curate_kcat_light_goslim_asc_step2 import *\n",
    "posterior = pickle.load(open('../Results/smc_abc_light_go_and_one_asc_step_2.pkl','rb'))"
   ]
  },
  {
   "cell_type": "code",
   "execution_count": 15,
   "metadata": {},
   "outputs": [
    {
     "name": "stdout",
     "output_type": "stream",
     "text": [
      "Results:\n",
      "  Status        : optimal\n",
      "  growth_rate   : 0.15271857512943499\n",
      "  glucose uptake: 0.522515443016676\n",
      "  PHA           : 0.0\n",
      "  NGAM lb: 6.86\n",
      "  PHA lb: 0.0\n",
      "\n",
      "Results:\n",
      "  Status        : optimal\n",
      "  growth_rate   : 0.14839696094570626\n",
      "  glucose uptake: 0.5141488778437546\n",
      "  PHA           : 14.131294810581624\n",
      "  NGAM lb: 6.86\n",
      "  PHA lb: 0.0\n",
      "\n",
      "Results:\n",
      "  Status        : optimal\n",
      "  growth_rate   : 0.13171648240062506\n",
      "  glucose uptake: 0.3484343369798035\n",
      "  PHA           : 0.0\n",
      "  NGAM lb: 6.86\n",
      "  PHA lb: 0.0\n",
      "\n",
      "Results:\n",
      "  Status        : optimal\n",
      "  growth_rate   : 0.14663255850952778\n",
      "  glucose uptake: 0.266910197879376\n",
      "  PHA           : 0.0\n",
      "  NGAM lb: 6.86\n",
      "  PHA lb: 0.0\n",
      "\n",
      "Results:\n",
      "  Status        : optimal\n",
      "  growth_rate   : 0.15049913558454545\n",
      "  glucose uptake: 0.289001664505746\n",
      "  PHA           : 0.0\n",
      "  NGAM lb: 6.86\n",
      "  PHA lb: 0.0\n",
      "\n",
      "Results:\n",
      "  Status        : optimal\n",
      "  growth_rate   : 0.150536358079175\n",
      "  glucose uptake: 0.23689675015175155\n",
      "  PHA           : 0.0\n",
      "  NGAM lb: 6.86\n",
      "  PHA lb: 0.0\n",
      "\n",
      "Results:\n",
      "  Status        : optimal\n",
      "  growth_rate   : 0.14894906515037393\n",
      "  glucose uptake: 0.15373329421936385\n",
      "  PHA           : 0.0\n",
      "  NGAM lb: 6.86\n",
      "  PHA lb: 0.0\n",
      "\n",
      "Results:\n",
      "  Status        : optimal\n",
      "  growth_rate   : 0.1406190916909933\n",
      "  glucose uptake: 0.4649466926728429\n",
      "  PHA           : 0.0\n",
      "  NGAM lb: 6.86\n",
      "  PHA lb: 0.0\n",
      "\n"
     ]
    },
    {
     "ename": "KeyboardInterrupt",
     "evalue": "",
     "output_type": "error",
     "traceback": [
      "\u001b[0;31m---------------------------------------------------------------------------\u001b[0m",
      "\u001b[0;31mKeyboardInterrupt\u001b[0m                         Traceback (most recent call last)",
      "\u001b[0;32m<ipython-input-15-ba5a8f4f7290>\u001b[0m in \u001b[0;36m<module>\u001b[0;34m\u001b[0m\n\u001b[1;32m     11\u001b[0m \u001b[0mmodels\u001b[0m \u001b[0;34m=\u001b[0m \u001b[0;34m[\u001b[0m\u001b[0;34m]\u001b[0m\u001b[0;34m\u001b[0m\u001b[0;34m\u001b[0m\u001b[0m\n\u001b[1;32m     12\u001b[0m \u001b[0;32mfor\u001b[0m \u001b[0mkcat_dct\u001b[0m \u001b[0;32min\u001b[0m \u001b[0mposterior\u001b[0m\u001b[0;34m.\u001b[0m\u001b[0mpopulation\u001b[0m\u001b[0;34m:\u001b[0m \u001b[0;31m# there are 100 kcat sets in the population\u001b[0m\u001b[0;34m\u001b[0m\u001b[0;34m\u001b[0m\u001b[0m\n\u001b[0;32m---> 13\u001b[0;31m     \u001b[0mmodel\u001b[0m \u001b[0;34m=\u001b[0m \u001b[0mtmp_model\u001b[0m\u001b[0;34m.\u001b[0m\u001b[0mcopy\u001b[0m\u001b[0;34m(\u001b[0m\u001b[0;34m)\u001b[0m\u001b[0;34m\u001b[0m\u001b[0;34m\u001b[0m\u001b[0m\n\u001b[0m\u001b[1;32m     14\u001b[0m     \u001b[0mupdateKcats\u001b[0m\u001b[0;34m(\u001b[0m\u001b[0mmodel\u001b[0m\u001b[0;34m,\u001b[0m\u001b[0mkcat_dct\u001b[0m\u001b[0;34m)\u001b[0m\u001b[0;34m\u001b[0m\u001b[0;34m\u001b[0m\u001b[0m\n\u001b[1;32m     15\u001b[0m     \u001b[0mupdateProteinConstraints\u001b[0m\u001b[0;34m(\u001b[0m\u001b[0mmodel\u001b[0m\u001b[0;34m,\u001b[0m\u001b[0mpools\u001b[0m\u001b[0;34m)\u001b[0m\u001b[0;34m\u001b[0m\u001b[0;34m\u001b[0m\u001b[0m\n",
      "\u001b[0;32m~/Tools/my_python3_vera/lib/python3.6/site-packages/cobra/core/model.py\u001b[0m in \u001b[0;36mcopy\u001b[0;34m(self)\u001b[0m\n\u001b[1;32m    364\u001b[0m             \u001b[0;31m# update awareness\u001b[0m\u001b[0;34m\u001b[0m\u001b[0;34m\u001b[0m\u001b[0;34m\u001b[0m\u001b[0m\n\u001b[1;32m    365\u001b[0m             \u001b[0;32mfor\u001b[0m \u001b[0mmetabolite\u001b[0m\u001b[0;34m,\u001b[0m \u001b[0mstoic\u001b[0m \u001b[0;32min\u001b[0m \u001b[0miteritems\u001b[0m\u001b[0;34m(\u001b[0m\u001b[0mreaction\u001b[0m\u001b[0;34m.\u001b[0m\u001b[0m_metabolites\u001b[0m\u001b[0;34m)\u001b[0m\u001b[0;34m:\u001b[0m\u001b[0;34m\u001b[0m\u001b[0;34m\u001b[0m\u001b[0m\n\u001b[0;32m--> 366\u001b[0;31m                 \u001b[0mnew_met\u001b[0m \u001b[0;34m=\u001b[0m \u001b[0mnew\u001b[0m\u001b[0;34m.\u001b[0m\u001b[0mmetabolites\u001b[0m\u001b[0;34m.\u001b[0m\u001b[0mget_by_id\u001b[0m\u001b[0;34m(\u001b[0m\u001b[0mmetabolite\u001b[0m\u001b[0;34m.\u001b[0m\u001b[0mid\u001b[0m\u001b[0;34m)\u001b[0m\u001b[0;34m\u001b[0m\u001b[0;34m\u001b[0m\u001b[0m\n\u001b[0m\u001b[1;32m    367\u001b[0m                 \u001b[0mnew_reaction\u001b[0m\u001b[0;34m.\u001b[0m\u001b[0m_metabolites\u001b[0m\u001b[0;34m[\u001b[0m\u001b[0mnew_met\u001b[0m\u001b[0;34m]\u001b[0m \u001b[0;34m=\u001b[0m \u001b[0mstoic\u001b[0m\u001b[0;34m\u001b[0m\u001b[0;34m\u001b[0m\u001b[0m\n\u001b[1;32m    368\u001b[0m                 \u001b[0mnew_met\u001b[0m\u001b[0;34m.\u001b[0m\u001b[0m_reaction\u001b[0m\u001b[0;34m.\u001b[0m\u001b[0madd\u001b[0m\u001b[0;34m(\u001b[0m\u001b[0mnew_reaction\u001b[0m\u001b[0;34m)\u001b[0m\u001b[0;34m\u001b[0m\u001b[0;34m\u001b[0m\u001b[0m\n",
      "\u001b[0;32m~/Tools/my_python3_vera/lib/python3.6/site-packages/cobra/core/dictlist.py\u001b[0m in \u001b[0;36mget_by_id\u001b[0;34m(self, id)\u001b[0m\n\u001b[1;32m     56\u001b[0m     \u001b[0;32mdef\u001b[0m \u001b[0mget_by_id\u001b[0m\u001b[0;34m(\u001b[0m\u001b[0mself\u001b[0m\u001b[0;34m,\u001b[0m \u001b[0mid\u001b[0m\u001b[0;34m)\u001b[0m\u001b[0;34m:\u001b[0m\u001b[0;34m\u001b[0m\u001b[0;34m\u001b[0m\u001b[0m\n\u001b[1;32m     57\u001b[0m         \u001b[0;34m\"\"\"return the element with a matching id\"\"\"\u001b[0m\u001b[0;34m\u001b[0m\u001b[0;34m\u001b[0m\u001b[0m\n\u001b[0;32m---> 58\u001b[0;31m         \u001b[0;32mreturn\u001b[0m \u001b[0mlist\u001b[0m\u001b[0;34m.\u001b[0m\u001b[0m__getitem__\u001b[0m\u001b[0;34m(\u001b[0m\u001b[0mself\u001b[0m\u001b[0;34m,\u001b[0m \u001b[0mself\u001b[0m\u001b[0;34m.\u001b[0m\u001b[0m_dict\u001b[0m\u001b[0;34m[\u001b[0m\u001b[0mid\u001b[0m\u001b[0;34m]\u001b[0m\u001b[0;34m)\u001b[0m\u001b[0;34m\u001b[0m\u001b[0;34m\u001b[0m\u001b[0m\n\u001b[0m\u001b[1;32m     59\u001b[0m \u001b[0;34m\u001b[0m\u001b[0m\n\u001b[1;32m     60\u001b[0m     \u001b[0;32mdef\u001b[0m \u001b[0mlist_attr\u001b[0m\u001b[0;34m(\u001b[0m\u001b[0mself\u001b[0m\u001b[0;34m,\u001b[0m \u001b[0mattribute\u001b[0m\u001b[0;34m)\u001b[0m\u001b[0;34m:\u001b[0m\u001b[0;34m\u001b[0m\u001b[0;34m\u001b[0m\u001b[0m\n",
      "\u001b[0;31mKeyboardInterrupt\u001b[0m: "
     ]
    }
   ],
   "source": [
    "# prepare models with kcats from step2, but only constrain total protein content\n",
    "tmp_model_file = '../Results/template_ecModel_goslim_pools.pkl'\n",
    "tmp_model = pickle.load(open(tmp_model_file,'rb'))\n",
    "\n",
    "dffrac = pd.read_csv('../Results/protein_abundance_go_slim_level_uniq_asc.csv',index_col=0)\n",
    "dftot = pd.read_csv('../proteomics/total_protein_abandance_mean.csv',index_col=0)\n",
    "dfpheno = pd.read_csv('../proteomics/phynotype.csv',index_col=0,comment='#')\n",
    "\n",
    "_,pools = buildPoolDict(dffrac,'NACL60',dftot.loc['NACL60','Ptot'],sigma=0.5)\n",
    "\n",
    "models = []\n",
    "for kcat_dct in posterior.population: # there are 100 kcat sets in the population\n",
    "    model = tmp_model.copy()\n",
    "    updateKcats(model,kcat_dct)\n",
    "    updateProteinConstraints(model,pools)\n",
    "    \n",
    "    test_growth(model)\n",
    "    models.append(model)\n"
   ]
  },
  {
   "cell_type": "code",
   "execution_count": null,
   "metadata": {},
   "outputs": [],
   "source": []
  },
  {
   "cell_type": "markdown",
   "metadata": {},
   "source": [
    "### For fed-batch"
   ]
  },
  {
   "cell_type": "code",
   "execution_count": 19,
   "metadata": {},
   "outputs": [
    {
     "name": "stdout",
     "output_type": "stream",
     "text": [
      "Results:\n",
      "  Status        : optimal\n",
      "  growth_rate   : 0.1247495349644616\n",
      "  glucose uptake: 0.0932124704824853\n",
      "  PHA           : 0.0\n",
      "  NGAM lb: 6.86\n",
      "  PHA lb: 0.0\n",
      "\n",
      "Results:\n",
      "  Status        : optimal\n",
      "  growth_rate   : 0.11834784222961711\n",
      "  glucose uptake: 0.08847313861844991\n",
      "  PHA           : 13.304448860635302\n",
      "  NGAM lb: 6.86\n",
      "  PHA lb: 0.0\n",
      "\n",
      "Results:\n",
      "  Status        : optimal\n",
      "  growth_rate   : 0.1102951236873927\n",
      "  glucose uptake: 0.08245391385564273\n",
      "  PHA           : 0.0\n",
      "  NGAM lb: 6.86\n",
      "  PHA lb: 0.0\n",
      "\n",
      "Results:\n",
      "  Status        : optimal\n",
      "  growth_rate   : 0.10422178677567565\n",
      "  glucose uptake: 0.08283752425654076\n",
      "  PHA           : 7.824547247054047\n",
      "  NGAM lb: 6.86\n",
      "  PHA lb: 0.0\n",
      "\n",
      "Results:\n",
      "  Status        : optimal\n",
      "  growth_rate   : 0.12738656659005365\n",
      "  glucose uptake: 0.09523021990119351\n",
      "  PHA           : 0.0\n",
      "  NGAM lb: 6.86\n",
      "  PHA lb: 0.0\n",
      "\n"
     ]
    },
    {
     "ename": "KeyboardInterrupt",
     "evalue": "",
     "output_type": "error",
     "traceback": [
      "\u001b[0;31m---------------------------------------------------------------------------\u001b[0m",
      "\u001b[0;31mKeyboardInterrupt\u001b[0m                         Traceback (most recent call last)",
      "\u001b[0;32m<ipython-input-19-5e917fb24fb0>\u001b[0m in \u001b[0;36m<module>\u001b[0;34m\u001b[0m\n\u001b[1;32m     13\u001b[0m \u001b[0;32mfor\u001b[0m \u001b[0mkcat_dct\u001b[0m \u001b[0;32min\u001b[0m \u001b[0mposterior\u001b[0m\u001b[0;34m.\u001b[0m\u001b[0mpopulation\u001b[0m\u001b[0;34m:\u001b[0m \u001b[0;31m# there are 100 kcat sets in the population\u001b[0m\u001b[0;34m\u001b[0m\u001b[0;34m\u001b[0m\u001b[0m\n\u001b[1;32m     14\u001b[0m     \u001b[0mmodel\u001b[0m \u001b[0;34m=\u001b[0m \u001b[0mtmp_model\u001b[0m\u001b[0;34m.\u001b[0m\u001b[0mcopy\u001b[0m\u001b[0;34m(\u001b[0m\u001b[0;34m)\u001b[0m\u001b[0;34m\u001b[0m\u001b[0;34m\u001b[0m\u001b[0m\n\u001b[0;32m---> 15\u001b[0;31m     \u001b[0mupdateKcats\u001b[0m\u001b[0;34m(\u001b[0m\u001b[0mmodel\u001b[0m\u001b[0;34m,\u001b[0m\u001b[0mkcat_dct\u001b[0m\u001b[0;34m)\u001b[0m\u001b[0;34m\u001b[0m\u001b[0;34m\u001b[0m\u001b[0m\n\u001b[0m\u001b[1;32m     16\u001b[0m     \u001b[0mupdateProteinConstraints\u001b[0m\u001b[0;34m(\u001b[0m\u001b[0mmodel\u001b[0m\u001b[0;34m,\u001b[0m\u001b[0mpools\u001b[0m\u001b[0;34m)\u001b[0m\u001b[0;34m\u001b[0m\u001b[0;34m\u001b[0m\u001b[0m\n\u001b[1;32m     17\u001b[0m \u001b[0;34m\u001b[0m\u001b[0m\n",
      "\u001b[0;32m/cephyr/NOBACKUP/groups/snic2020-8-46/GitHub/Halo-GEM/ComplementaryScripts/EnzymeConstrainedModelRecon/Scripts/curate_kcat_light_goslim_asc_step2.py\u001b[0m in \u001b[0;36mupdateKcats\u001b[0;34m(ecmodel, kcats)\u001b[0m\n\u001b[1;32m    142\u001b[0m         \u001b[0mnew_coeff\u001b[0m \u001b[0;34m=\u001b[0m \u001b[0;34m-\u001b[0m\u001b[0;36m1.\u001b[0m\u001b[0;34m/\u001b[0m\u001b[0mkcat\u001b[0m\u001b[0;34m\u001b[0m\u001b[0;34m\u001b[0m\u001b[0m\n\u001b[1;32m    143\u001b[0m \u001b[0;34m\u001b[0m\u001b[0m\n\u001b[0;32m--> 144\u001b[0;31m         \u001b[0mecpy\u001b[0m\u001b[0;34m.\u001b[0m\u001b[0mchange_rxn_coeff\u001b[0m\u001b[0;34m(\u001b[0m\u001b[0mrxn\u001b[0m\u001b[0;34m,\u001b[0m\u001b[0mprot_met\u001b[0m\u001b[0;34m,\u001b[0m\u001b[0mnew_coeff\u001b[0m\u001b[0;34m)\u001b[0m\u001b[0;34m\u001b[0m\u001b[0;34m\u001b[0m\u001b[0m\n\u001b[0m\u001b[1;32m    145\u001b[0m \u001b[0;34m\u001b[0m\u001b[0m\n\u001b[1;32m    146\u001b[0m \u001b[0;34m\u001b[0m\u001b[0m\n",
      "\u001b[0;32m/cephyr/NOBACKUP/groups/snic2020-8-46/GitHub/Halo-GEM/ecpy/ecpy.py\u001b[0m in \u001b[0;36mchange_rxn_coeff\u001b[0;34m(rxn, met, new_coeff)\u001b[0m\n\u001b[1;32m    655\u001b[0m \u001b[0;34m\u001b[0m\u001b[0m\n\u001b[1;32m    656\u001b[0m     \u001b[0mdiff_coeff\u001b[0m \u001b[0;34m=\u001b[0m \u001b[0mnew_coeff\u001b[0m\u001b[0;34m-\u001b[0m\u001b[0mrxn\u001b[0m\u001b[0;34m.\u001b[0m\u001b[0mmetabolites\u001b[0m\u001b[0;34m[\u001b[0m\u001b[0mmet\u001b[0m\u001b[0;34m]\u001b[0m\u001b[0;34m\u001b[0m\u001b[0;34m\u001b[0m\u001b[0m\n\u001b[0;32m--> 657\u001b[0;31m     \u001b[0mrxn\u001b[0m\u001b[0;34m.\u001b[0m\u001b[0madd_metabolites\u001b[0m\u001b[0;34m(\u001b[0m\u001b[0;34m{\u001b[0m\u001b[0mmet\u001b[0m\u001b[0;34m:\u001b[0m\u001b[0mdiff_coeff\u001b[0m\u001b[0;34m}\u001b[0m\u001b[0;34m)\u001b[0m\u001b[0;34m\u001b[0m\u001b[0;34m\u001b[0m\u001b[0m\n\u001b[0m",
      "\u001b[0;32m~/Tools/my_python3_vera/lib/python3.6/site-packages/cobra/core/reaction.py\u001b[0m in \u001b[0;36madd_metabolites\u001b[0;34m(self, metabolites_to_add, combine, reversibly)\u001b[0m\n\u001b[1;32m    843\u001b[0m                     \u001b[0mmetabolite\u001b[0m\u001b[0;34m.\u001b[0m\u001b[0mid\u001b[0m\u001b[0;34m]\u001b[0m\u001b[0;34m.\u001b[0m\u001b[0mset_linear_coefficients\u001b[0m\u001b[0;34m(\u001b[0m\u001b[0;34m\u001b[0m\u001b[0;34m\u001b[0m\u001b[0m\n\u001b[1;32m    844\u001b[0m                     {self.forward_variable: coefficient,\n\u001b[0;32m--> 845\u001b[0;31m                      \u001b[0mself\u001b[0m\u001b[0;34m.\u001b[0m\u001b[0mreverse_variable\u001b[0m\u001b[0;34m:\u001b[0m \u001b[0;34m-\u001b[0m\u001b[0mcoefficient\u001b[0m\u001b[0;34m\u001b[0m\u001b[0;34m\u001b[0m\u001b[0m\n\u001b[0m\u001b[1;32m    846\u001b[0m                      })\n\u001b[1;32m    847\u001b[0m \u001b[0;34m\u001b[0m\u001b[0m\n",
      "\u001b[0;32m~/Tools/my_python3_vera/lib/python3.6/site-packages/optlang/gurobi_interface.py\u001b[0m in \u001b[0;36mset_linear_coefficients\u001b[0;34m(self, coefficients)\u001b[0m\n\u001b[1;32m    186\u001b[0m         \u001b[0;32mif\u001b[0m \u001b[0mself\u001b[0m\u001b[0;34m.\u001b[0m\u001b[0mproblem\u001b[0m \u001b[0;32mis\u001b[0m \u001b[0;32mnot\u001b[0m \u001b[0;32mNone\u001b[0m\u001b[0;34m:\u001b[0m\u001b[0;34m\u001b[0m\u001b[0;34m\u001b[0m\u001b[0m\n\u001b[1;32m    187\u001b[0m             \u001b[0mself\u001b[0m\u001b[0;34m.\u001b[0m\u001b[0mproblem\u001b[0m\u001b[0;34m.\u001b[0m\u001b[0mupdate\u001b[0m\u001b[0;34m(\u001b[0m\u001b[0;34m)\u001b[0m\u001b[0;34m\u001b[0m\u001b[0;34m\u001b[0m\u001b[0m\n\u001b[0;32m--> 188\u001b[0;31m             \u001b[0mgrb_constraint\u001b[0m \u001b[0;34m=\u001b[0m \u001b[0mself\u001b[0m\u001b[0;34m.\u001b[0m\u001b[0mproblem\u001b[0m\u001b[0;34m.\u001b[0m\u001b[0mproblem\u001b[0m\u001b[0;34m.\u001b[0m\u001b[0mgetConstrByName\u001b[0m\u001b[0;34m(\u001b[0m\u001b[0mself\u001b[0m\u001b[0;34m.\u001b[0m\u001b[0mname\u001b[0m\u001b[0;34m)\u001b[0m\u001b[0;34m\u001b[0m\u001b[0;34m\u001b[0m\u001b[0m\n\u001b[0m\u001b[1;32m    189\u001b[0m             \u001b[0;32mfor\u001b[0m \u001b[0mvar\u001b[0m\u001b[0;34m,\u001b[0m \u001b[0mcoeff\u001b[0m \u001b[0;32min\u001b[0m \u001b[0msix\u001b[0m\u001b[0;34m.\u001b[0m\u001b[0miteritems\u001b[0m\u001b[0;34m(\u001b[0m\u001b[0mcoefficients\u001b[0m\u001b[0;34m)\u001b[0m\u001b[0;34m:\u001b[0m\u001b[0;34m\u001b[0m\u001b[0;34m\u001b[0m\u001b[0m\n\u001b[1;32m    190\u001b[0m                 \u001b[0mself\u001b[0m\u001b[0;34m.\u001b[0m\u001b[0mproblem\u001b[0m\u001b[0;34m.\u001b[0m\u001b[0mproblem\u001b[0m\u001b[0;34m.\u001b[0m\u001b[0mchgCoeff\u001b[0m\u001b[0;34m(\u001b[0m\u001b[0mgrb_constraint\u001b[0m\u001b[0;34m,\u001b[0m \u001b[0mself\u001b[0m\u001b[0;34m.\u001b[0m\u001b[0mproblem\u001b[0m\u001b[0;34m.\u001b[0m\u001b[0mproblem\u001b[0m\u001b[0;34m.\u001b[0m\u001b[0mgetVarByName\u001b[0m\u001b[0;34m(\u001b[0m\u001b[0mvar\u001b[0m\u001b[0;34m.\u001b[0m\u001b[0mname\u001b[0m\u001b[0;34m)\u001b[0m\u001b[0;34m,\u001b[0m \u001b[0mfloat\u001b[0m\u001b[0;34m(\u001b[0m\u001b[0mcoeff\u001b[0m\u001b[0;34m)\u001b[0m\u001b[0;34m)\u001b[0m\u001b[0;34m\u001b[0m\u001b[0;34m\u001b[0m\u001b[0m\n",
      "\u001b[0;32m~/Tools/my_python3_vera/lib/python3.6/site-packages/optlang/interface.py\u001b[0m in \u001b[0;36mname\u001b[0;34m(self)\u001b[0m\n\u001b[1;32m    430\u001b[0m     \u001b[0;32mdef\u001b[0m \u001b[0mname\u001b[0m\u001b[0;34m(\u001b[0m\u001b[0mself\u001b[0m\u001b[0;34m)\u001b[0m\u001b[0;34m:\u001b[0m\u001b[0;34m\u001b[0m\u001b[0;34m\u001b[0m\u001b[0m\n\u001b[1;32m    431\u001b[0m         \u001b[0;34m\"\"\"The name of the object\"\"\"\u001b[0m\u001b[0;34m\u001b[0m\u001b[0;34m\u001b[0m\u001b[0m\n\u001b[0;32m--> 432\u001b[0;31m         \u001b[0;32mreturn\u001b[0m \u001b[0mself\u001b[0m\u001b[0;34m.\u001b[0m\u001b[0m_name\u001b[0m\u001b[0;34m\u001b[0m\u001b[0;34m\u001b[0m\u001b[0m\n\u001b[0m\u001b[1;32m    433\u001b[0m \u001b[0;34m\u001b[0m\u001b[0m\n\u001b[1;32m    434\u001b[0m     \u001b[0;34m@\u001b[0m\u001b[0mname\u001b[0m\u001b[0;34m.\u001b[0m\u001b[0msetter\u001b[0m\u001b[0;34m\u001b[0m\u001b[0;34m\u001b[0m\u001b[0m\n",
      "\u001b[0;31mKeyboardInterrupt\u001b[0m: "
     ]
    }
   ],
   "source": [
    "# prepare models with kcats from step2, but only constrain total protein content\n",
    "tmp_model_file = '../Results/template_ecModel_goslim_pools.pkl'\n",
    "tmp_model = pickle.load(open(tmp_model_file,'rb'))\n",
    "\n",
    "dffrac = pd.read_csv('../Results/protein_abundance_go_slim_level_uniq_asc.csv',index_col=0)\n",
    "dftot = pd.read_csv('../proteomics/total_protein_abandance_mean.csv',index_col=0)\n",
    "dfpheno = pd.read_csv('../proteomics/phynotype.csv',index_col=0,comment='#')\n",
    "\n",
    "Ptot = np.mean(dftot.loc[['Fermentation-9h','Fermentation-19h','Fermentation-30h'],:].values)\n",
    "_,pools = buildPoolDict(dffrac,'Fermentation-19h',Ptot,sigma=0.5)\n",
    "\n",
    "models = []\n",
    "for kcat_dct in posterior.population: # there are 100 kcat sets in the population\n",
    "    model = tmp_model.copy()\n",
    "    updateKcats(model,kcat_dct)\n",
    "    updateProteinConstraints(model,pools)\n",
    "    \n",
    "    test_growth(model)\n",
    "    models.append(model)\n"
   ]
  }
 ],
 "metadata": {
  "kernelspec": {
   "display_name": "Python 3",
   "language": "python",
   "name": "python3"
  },
  "language_info": {
   "codemirror_mode": {
    "name": "ipython",
    "version": 3
   },
   "file_extension": ".py",
   "mimetype": "text/x-python",
   "name": "python",
   "nbconvert_exporter": "python",
   "pygments_lexer": "ipython3",
   "version": "3.6.7"
  }
 },
 "nbformat": 4,
 "nbformat_minor": 4
}
