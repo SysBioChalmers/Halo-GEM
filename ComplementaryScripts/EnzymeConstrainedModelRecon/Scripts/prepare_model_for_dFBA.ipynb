{
 "cells": [
  {
   "cell_type": "code",
   "execution_count": 1,
   "metadata": {},
   "outputs": [],
   "source": [
    "import pickle\n",
    "import sys\n",
    "\n",
    "import pandas as pd\n",
    "sys.path.insert(0, '/Users/lhao/Documents/Git/py_Halo-GEM/ecpy')\n",
    "\n",
    "import dfba_functions\n",
    "import numpy as np"
   ]
  },
  {
   "cell_type": "code",
   "execution_count": 2,
   "metadata": {},
   "outputs": [],
   "source": [
    "def test_growth(model):\n",
    "    model.objective = 'Biomass_v1'\n",
    "    model.objective_direction = 'max'\n",
    "    s = model.optimize()\n",
    "    r = s.objective_value if s.status == 'optimal' else -1\n",
    "    print('Results:')\n",
    "    print('  Status        :',s.status)\n",
    "    print('  growth_rate   :',r)\n",
    "    print('  glucose uptake:',s.fluxes['Exchange_Glucopyranose'])\n",
    "    print('  PHA           :',s.fluxes['PHA_secretion'])\n",
    "    print('  NGAM lb:',model.reactions.NGAM.lower_bound)\n",
    "    print('  PHA lb:',model.reactions.PHA_secretion.lower_bound)\n",
    "    \n",
    "    print()\n",
    "            \n",
    "\n",
    "def do_dfba_defalut(model):\n",
    "    biomass_id = 'Biomass_v1'\n",
    "    glc_id = 'Exchange_Glucopyranose'\n",
    "    d_model = dfba_functions.dfba_model('test_model')\n",
    "    d_model.tspan = np.linspace(0, 50, 101)\n",
    "    d_model.cobra_model = model.copy()\n",
    "\n",
    "    d_model.products_rxns = [biomass_id, 'PHA_secretion',\n",
    "                             'Exchange_ACET']  # 'PHA_secretion', 'Exchange_ACET', 'Exchange_PYRUVATE',\n",
    "    d_model.substrate_rxns = [glc_id]\n",
    "    d_model.substrate_bounds = ['upper_bound']\n",
    "    d_model.opt_list = d_model.products_rxns + d_model.substrate_rxns  # [biomass_id, 'EX_co2_e', 'EX_ac_e', 'EX_pyr_e', 'EX_glc__D_e']\n",
    "    d_model.opt_list_direction = ['max', ] * (len(d_model.opt_list) - 1) + ['min']\n",
    "    d_model.opt_list_multiply_by = np.array([1] * (len(d_model.opt_list) - 1) + [-1])\n",
    "    d_model.y0 = [0.07446502] + [0] * (len(d_model.opt_list) - 2) + [28]\n",
    "    d_model.options = 'only_FBA'  # not_add_lp_feasibility\n",
    "    d_model.bound_method = 'actual_substrate_uptake'  # 'basic_Michaelis_Menten'\n",
    "    d_model.growth_tol = 1E-6\n",
    "\n",
    "    d_model.cobra_model = model.copy()\n",
    "    sol_solve_ivp = dfba_functions.do_dfba_solve_ivp(d_model, bool_tqdm=False, terminal=True)\n",
    "    # dfba_functions.draw(sol_solve_ivp, d_model)\n",
    "    return sol_solve_ivp\n",
    "\n",
    "\n"
   ]
  },
  {
   "cell_type": "markdown",
   "metadata": {},
   "source": [
    "### For Batch"
   ]
  },
  {
   "cell_type": "code",
   "execution_count": 3,
   "metadata": {},
   "outputs": [],
   "source": [
    "from curate_kcat_light_goslim_asc_step2 import *\n",
    "posterior = pickle.load(open('../Results/smc_abc_light_go_and_one_asc_step_2.pkl','rb'))"
   ]
  },
  {
   "cell_type": "code",
   "execution_count": 4,
   "metadata": {},
   "outputs": [
    {
     "name": "stdout",
     "output_type": "stream",
     "text": [
      "Using license file /Users/lhao/gurobi.lic\n",
      "Academic license - for non-commercial use only\n",
      "Read LP format model from file /var/folders/f_/qxjgggy53kgf53y_ytc_6nt1s_zp5x/T/tmpp9w5jjfh.lp\n",
      "Reading time = 0.04 seconds\n",
      ": 3871 rows, 9656 columns, 39458 nonzeros\n",
      "Read LP format model from file /var/folders/f_/qxjgggy53kgf53y_ytc_6nt1s_zp5x/T/tmpen1o641y.lp\n",
      "Reading time = 0.04 seconds\n",
      ": 3871 rows, 9656 columns, 39458 nonzeros\n",
      "Results:\n",
      "  Status        : optimal\n",
      "  growth_rate   : 0.15271508311216384\n",
      "  glucose uptake: 0.5218257958290589\n",
      "  PHA           : 0.0\n",
      "  NGAM lb: 6.86\n",
      "  PHA lb: 0.0\n",
      "\n",
      "Read LP format model from file /var/folders/f_/qxjgggy53kgf53y_ytc_6nt1s_zp5x/T/tmpt6vgb6d6.lp\n",
      "Reading time = 0.03 seconds\n",
      ": 3871 rows, 9656 columns, 39458 nonzeros\n",
      "Read LP format model from file /var/folders/f_/qxjgggy53kgf53y_ytc_6nt1s_zp5x/T/tmpmx_2xw3y.lp\n",
      "Reading time = 0.04 seconds\n",
      ": 3871 rows, 9656 columns, 39458 nonzeros\n",
      "\n",
      "---------- Dynamic Flux Balance Analysis (dFBA) solve_ivp ... ---------- \n",
      "original_bounds: [1000.]\n"
     ]
    },
    {
     "name": "stderr",
     "output_type": "stream",
     "text": [
      "t = 28.807: : 46it [00:09,  4.04it/s]/Users/lhao/opt/anaconda3/lib/python3.7/site-packages/cobra/util/solver.py:430: UserWarning: solver status is 'infeasible'\n",
      "  warn(\"solver status is '{}'\".format(status), UserWarning)\n",
      "t = 50.000: : 294it [01:02,  4.74it/s]\n"
     ]
    }
   ],
   "source": [
    "# prepare models with kcats from step2, but only constrain total protein content\n",
    "tmp_model_file = '../Results/template_ecModel_goslim_pools.pkl'\n",
    "tmp_model = pickle.load(open(tmp_model_file,'rb'))\n",
    "\n",
    "dffrac = pd.read_csv('../Results/protein_abundance_go_slim_level_uniq_asc.csv',index_col=0)\n",
    "dftot = pd.read_csv('../proteomics/total_protein_abandance_mean.csv',index_col=0)\n",
    "dfpheno = pd.read_csv('../proteomics/phynotype.csv',index_col=0,comment='#')\n",
    "\n",
    "_,pools = buildPoolDict(dffrac,'NACL60',dftot.loc['NACL60','Ptot'],sigma=0.5)\n",
    "\n",
    "models_1 = []\n",
    "sols_1 = []\n",
    "for kcat_dct in posterior.population: # there are 100 kcat sets in the population\n",
    "    model = tmp_model.copy()\n",
    "    updateKcats(model,kcat_dct)\n",
    "    updateProteinConstraints(model,pools)\n",
    "    \n",
    "    test_growth(model)\n",
    "    models_1.append(model)\n",
    "    sol_solve_ivp = do_dfba_defalut(model)\n",
    "    sols_1.append(sol_solve_ivp)\n",
    "\n",
    "file = open('sols_1.pickle', 'wb')\n",
    "pickle.dump(sols_1, file)\n",
    "file.close()"
   ]
  },
  {
   "cell_type": "code",
   "execution_count": 4,
   "metadata": {},
   "outputs": [],
   "source": []
  },
  {
   "cell_type": "markdown",
   "metadata": {},
   "source": [
    "### For fed-batch"
   ]
  },
  {
   "cell_type": "code",
   "execution_count": 6,
   "metadata": {},
   "outputs": [
    {
     "name": "stdout",
     "output_type": "stream",
     "text": [
      "Read LP format model from file /var/folders/f_/qxjgggy53kgf53y_ytc_6nt1s_zp5x/T/tmp5mz4si0v.lp\n",
      "Reading time = 0.08 seconds\n",
      ": 3871 rows, 9656 columns, 39458 nonzeros\n",
      "Read LP format model from file /var/folders/f_/qxjgggy53kgf53y_ytc_6nt1s_zp5x/T/tmpssjcfx9s.lp\n",
      "Reading time = 0.04 seconds\n",
      ": 3871 rows, 9656 columns, 39458 nonzeros\n",
      "Results:\n",
      "  Status        : optimal\n",
      "  growth_rate   : 0.1242373374372529\n",
      "  glucose uptake: 0.09283163541027567\n",
      "  PHA           : 0.0\n",
      "  NGAM lb: 6.86\n",
      "  PHA lb: 0.0\n",
      "\n",
      "Read LP format model from file /var/folders/f_/qxjgggy53kgf53y_ytc_6nt1s_zp5x/T/tmpwxko3mn6.lp\n",
      "Reading time = 0.03 seconds\n",
      ": 3871 rows, 9656 columns, 39458 nonzeros\n",
      "Read LP format model from file /var/folders/f_/qxjgggy53kgf53y_ytc_6nt1s_zp5x/T/tmpjeeu7oqj.lp\n",
      "Reading time = 0.05 seconds\n",
      ": 3871 rows, 9656 columns, 39458 nonzeros\n",
      "\n",
      "---------- Dynamic Flux Balance Analysis (dFBA) solve_ivp ... ---------- \n",
      "original_bounds: [1000.]\n"
     ]
    },
    {
     "name": "stderr",
     "output_type": "stream",
     "text": [
      "t = 50.000: : 112it [00:23,  4.68it/s]\n"
     ]
    }
   ],
   "source": [
    "# prepare models with kcats from step2, but only constrain total protein content\n",
    "tmp_model_file = '../Results/template_ecModel_goslim_pools.pkl'\n",
    "tmp_model = pickle.load(open(tmp_model_file,'rb'))\n",
    "\n",
    "dffrac = pd.read_csv('../Results/protein_abundance_go_slim_level_uniq_asc.csv',index_col=0)\n",
    "dftot = pd.read_csv('../proteomics/total_protein_abandance_mean.csv',index_col=0)\n",
    "dfpheno = pd.read_csv('../proteomics/phynotype.csv',index_col=0,comment='#')\n",
    "\n",
    "Ptot = np.mean(dftot.loc[['Fermentation-9h','Fermentation-19h','Fermentation-30h'],:].values)\n",
    "_,pools = buildPoolDict(dffrac,'Fermentation-19h',Ptot,sigma=0.5)\n",
    "\n",
    "models_2 = []\n",
    "sols_2 = []\n",
    "for kcat_dct in posterior.population: # there are 100 kcat sets in the population\n",
    "    model = tmp_model.copy()\n",
    "    updateKcats(model,kcat_dct)\n",
    "    updateProteinConstraints(model,pools)\n",
    "    \n",
    "    test_growth(model)\n",
    "    models_2.append(model)\n",
    "    sol_solve_ivp = do_dfba_defalut(model)\n",
    "    sols_2.append(sol_solve_ivp)\n",
    "\n",
    "file = open('sols_2.pickle', 'wb')\n",
    "pickle.dump(sols_2, file)\n",
    "file.close()"
   ]
  }
 ],
 "metadata": {
  "kernelspec": {
   "display_name": "Python 3",
   "language": "python",
   "name": "python3"
  },
  "language_info": {
   "codemirror_mode": {
    "name": "ipython",
    "version": 3
   },
   "file_extension": ".py",
   "mimetype": "text/x-python",
   "name": "python",
   "nbconvert_exporter": "python",
   "pygments_lexer": "ipython3",
   "version": "3.6.7"
  }
 },
 "nbformat": 4,
 "nbformat_minor": 4
}