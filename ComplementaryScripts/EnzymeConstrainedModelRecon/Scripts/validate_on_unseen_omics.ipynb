{
 "cells": [
  {
   "cell_type": "code",
   "execution_count": 1,
   "metadata": {},
   "outputs": [],
   "source": [
    "import pickle\n",
    "from matplotlib import pyplot as plt\n",
    "import pandas as pd\n",
    "from curate_kcat import *\n",
    "\n",
    "from multiprocessing import Process,cpu_count,Manager"
   ]
  },
  {
   "cell_type": "code",
   "execution_count": 2,
   "metadata": {},
   "outputs": [],
   "source": [
    "import curate_kcat_light_goslim_asc_step02 as step02\n",
    "import curate_kcat_light_goslim_asc_step03 as step03"
   ]
  },
  {
   "cell_type": "code",
   "execution_count": 3,
   "metadata": {},
   "outputs": [
    {
     "ename": "ModuleNotFoundError",
     "evalue": "No module named 'curate_kcat_light_goslim_asc_step1'",
     "output_type": "error",
     "traceback": [
      "\u001B[0;31m---------------------------------------------------------------------------\u001B[0m",
      "\u001B[0;31mModuleNotFoundError\u001B[0m                       Traceback (most recent call last)",
      "\u001B[0;32m<ipython-input-3-bbff84b48cc4>\u001B[0m in \u001B[0;36m<module>\u001B[0;34m\u001B[0m\n\u001B[0;32m----> 1\u001B[0;31m \u001B[0;32mfrom\u001B[0m \u001B[0mcurate_kcat_light_goslim_asc_step1\u001B[0m \u001B[0;32mimport\u001B[0m \u001B[0;34m*\u001B[0m\u001B[0;34m\u001B[0m\u001B[0;34m\u001B[0m\u001B[0m\n\u001B[0m\u001B[1;32m      2\u001B[0m \u001B[0mresults02\u001B[0m \u001B[0;34m=\u001B[0m \u001B[0mpickle\u001B[0m\u001B[0;34m.\u001B[0m\u001B[0mload\u001B[0m\u001B[0;34m(\u001B[0m\u001B[0mopen\u001B[0m\u001B[0;34m(\u001B[0m\u001B[0;34m'../Results/smc_abc_light_step_02.pkl'\u001B[0m\u001B[0;34m,\u001B[0m\u001B[0;34m'rb'\u001B[0m\u001B[0;34m)\u001B[0m\u001B[0;34m)\u001B[0m\u001B[0;34m\u001B[0m\u001B[0;34m\u001B[0m\u001B[0m\n\u001B[1;32m      3\u001B[0m \u001B[0;34m\u001B[0m\u001B[0m\n\u001B[1;32m      4\u001B[0m \u001B[0mresults03\u001B[0m \u001B[0;34m=\u001B[0m \u001B[0mpickle\u001B[0m\u001B[0;34m.\u001B[0m\u001B[0mload\u001B[0m\u001B[0;34m(\u001B[0m\u001B[0mopen\u001B[0m\u001B[0;34m(\u001B[0m\u001B[0;34m'../Results/smc_abc_light_step_03.pkl'\u001B[0m\u001B[0;34m,\u001B[0m\u001B[0;34m'rb'\u001B[0m\u001B[0;34m)\u001B[0m\u001B[0;34m)\u001B[0m\u001B[0;34m\u001B[0m\u001B[0;34m\u001B[0m\u001B[0m\n\u001B[1;32m      5\u001B[0m \u001B[0;34m\u001B[0m\u001B[0m\n",
      "\u001B[0;31mModuleNotFoundError\u001B[0m: No module named 'curate_kcat_light_goslim_asc_step1'"
     ]
    }
   ],
   "source": [
    "from curate_kcat_light_goslim_asc_step1 import *\n",
    "results02 = pickle.load(open('../Results/smc_abc_light_step_02.pkl','rb'))\n",
    "\n",
    "results03 = pickle.load(open('../Results/smc_abc_light_step_03.pkl','rb'))"
   ]
  },
  {
   "cell_type": "code",
   "execution_count": null,
   "metadata": {},
   "outputs": [],
   "source": [
    "dffrac = pd.read_csv('../Results/protein_abundance_go_slim_level_uniq_asc.csv',index_col=0)\n",
    "dftot = pd.read_csv('../proteomics/total_protein_abandance_mean.csv',index_col=0)\n",
    "dfpheno = pd.read_csv('../proteomics/phynotype.csv',index_col=0,comment='#')\n",
    "dfomics = pd.read_csv('../proteomics/protein_abandance_mean.csv',index_col=0)\n",
    "dfmws = pd.read_csv('../Results/protein_mws.csv',index_col=0)\n",
    "dfmws = dfmws/1000"
   ]
  },
  {
   "cell_type": "code",
   "execution_count": null,
   "metadata": {},
   "outputs": [],
   "source": [
    "test_conds = []\n",
    "for cond_id in dftot.index:\n",
    "    if cond_id not in dfpheno.index:\n",
    "        test_conds.append(cond_id)\n",
    "        dfpheno.loc[cond_id,'P3HB'] = 0\n",
    "print(test_conds)"
   ]
  },
  {
   "cell_type": "code",
   "execution_count": null,
   "metadata": {},
   "outputs": [],
   "source": [
    "model_go_pools_file = '../Results/template_ecModel_goslim_pools.pkl'\n",
    "model_go_pools = pickle.load(open(model_go_pools_file,'rb'))\n",
    "    \n",
    "eModel_file = '../Results/template_eModel.pkl'\n",
    "eModel = pickle.load(open(eModel_file,'rb'))"
   ]
  },
  {
   "cell_type": "code",
   "execution_count": null,
   "metadata": {},
   "outputs": [],
   "source": [
    "step02_results = dict() # {cond_id:[]*100}\n",
    "for kcat in results02.population:\n",
    "    for cond_id in test_conds:\n",
    "        r = step02.test_model(\n",
    "                       model_go_pools,\n",
    "                       kcat,          # kcats: dict() {(rxn_id, prot_met_id): kcat in h-1}\n",
    "                       dftot,          # contains the total protein abandance, in the unit of gram protein/gram CDW\n",
    "                       dfpheno,        # contains the P3HB specific synthetic rate\n",
    "                       dffrac,\n",
    "                       cond_id)\n",
    "        step02_results[cond_id] = step02_results.get(cond_id,[]) + [r[1]]\n"
   ]
  },
  {
   "cell_type": "code",
   "execution_count": null,
   "metadata": {},
   "outputs": [],
   "source": [
    "step03_results = dict() # {cond_id:[]*100}\n",
    "for kcat in results03.population:\n",
    "    for cond_id in test_conds:\n",
    "        r = step03.test_model(#model_one_pool,      # json format\n",
    "               eModel,\n",
    "               kcat,          # kcats: dict() {(rxn_id, prot_met_id): kcat in h-1}\n",
    "               dftot,          # contains the total protein abandance, in the unit of gram protein/gram CDW\n",
    "               dfpheno,        # contains the P3HB specific synthetic rate\n",
    "               cond_id,   # condition id\n",
    "               dfomics,\n",
    "               dfmws\n",
    "                )\n",
    "        step03_results[cond_id] = step03_results.get(cond_id,[]) + [r[1]]\n"
   ]
  },
  {
   "cell_type": "code",
   "execution_count": null,
   "metadata": {},
   "outputs": [],
   "source": [
    "pickle.dump([step02_results,step03_results],open('../Results/validation_growth_on_unused_conditions.pkl','wb'))"
   ]
  },
  {
   "cell_type": "code",
   "execution_count": null,
   "metadata": {},
   "outputs": [],
   "source": [
    "data1 = [step02_results[item] for item in test_conds]\n",
    "data2 = [step03_results[item] for item in test_conds]\n",
    "pos = np.arange(len(data1))*3"
   ]
  },
  {
   "cell_type": "code",
   "execution_count": null,
   "metadata": {},
   "outputs": [],
   "source": [
    "plt.boxplot(data1,positions=pos)\n",
    "plt.boxplot(data2,positions=pos+1)\n",
    "plt.show()"
   ]
  },
  {
   "cell_type": "markdown",
   "metadata": {},
   "source": [
    "### Prior models"
   ]
  },
  {
   "cell_type": "code",
   "execution_count": null,
   "metadata": {},
   "outputs": [],
   "source": [
    "step02_results_prior = dict() # {cond_id:[]*100}\n",
    "for kcat in results02.population_t0:\n",
    "    for cond_id in test_conds:\n",
    "        r = step02.test_model(\n",
    "                       model_go_pools,\n",
    "                       kcat,          # kcats: dict() {(rxn_id, prot_met_id): kcat in h-1}\n",
    "                       dftot,          # contains the total protein abandance, in the unit of gram protein/gram CDW\n",
    "                       dfpheno,        # contains the P3HB specific synthetic rate\n",
    "                       dffrac,\n",
    "                       cond_id)\n",
    "        step02_results_prior[cond_id] = step02_results_prior.get(cond_id,[]) + [r[1]]\n"
   ]
  },
  {
   "cell_type": "code",
   "execution_count": null,
   "metadata": {},
   "outputs": [],
   "source": [
    "step03_results_prior = dict() # {cond_id:[]*100}\n",
    "for kcat in results03.population_t0:\n",
    "    for cond_id in test_conds:\n",
    "        r = step03.test_model(#model_one_pool,      # json format\n",
    "               eModel,\n",
    "               kcat,          # kcats: dict() {(rxn_id, prot_met_id): kcat in h-1}\n",
    "               dftot,          # contains the total protein abandance, in the unit of gram protein/gram CDW\n",
    "               dfpheno,        # contains the P3HB specific synthetic rate\n",
    "               cond_id,   # condition id\n",
    "               dfomics,\n",
    "               dfmws\n",
    "                )\n",
    "        step03_results_prior[cond_id] = step03_results_prior.get(cond_id,[]) + [r[1]]\n"
   ]
  },
  {
   "cell_type": "code",
   "execution_count": null,
   "metadata": {},
   "outputs": [],
   "source": [
    "pickle.dump([step02_results_prior,step03_results_prior],open('../Results/validation_growth_on_unused_conditions_prior.pkl','wb'))"
   ]
  },
  {
   "cell_type": "code",
   "execution_count": null,
   "metadata": {},
   "outputs": [],
   "source": []
  },
  {
   "cell_type": "code",
   "execution_count": null,
   "metadata": {},
   "outputs": [],
   "source": []
  },
  {
   "cell_type": "code",
   "execution_count": null,
   "metadata": {},
   "outputs": [],
   "source": []
  }
 ],
 "metadata": {
  "kernelspec": {
   "display_name": "Python 3",
   "language": "python",
   "name": "python3"
  },
  "language_info": {
   "codemirror_mode": {
    "name": "ipython",
    "version": 3
   },
   "file_extension": ".py",
   "mimetype": "text/x-python",
   "name": "python",
   "nbconvert_exporter": "python",
   "pygments_lexer": "ipython3",
   "version": "3.6.7"
  }
 },
 "nbformat": 4,
 "nbformat_minor": 4
}