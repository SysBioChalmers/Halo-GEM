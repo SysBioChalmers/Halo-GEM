{
 "cells": [
  {
   "cell_type": "code",
   "execution_count": 2,
   "metadata": {},
   "outputs": [],
   "source": [
    "import cobra\n",
    "import xlwt\n",
    "from Bio.PDB import Polypeptide as pp\n",
    "import pandas as pd\n",
    "import os"
   ]
  },
  {
   "cell_type": "code",
   "execution_count": 3,
   "metadata": {},
   "outputs": [],
   "source": [
    "DATA_DIR = '../../../ComplementaryData/'"
   ]
  },
  {
   "cell_type": "code",
   "execution_count": 4,
   "metadata": {},
   "outputs": [
    {
     "name": "stdout",
     "output_type": "stream",
     "text": [
      "Academic license - for non-commercial use only\n"
     ]
    }
   ],
   "source": [
    "model = cobra.io.read_sbml_model(os.path.join(DATA_DIR,'iML1515.xml'))"
   ]
  },
  {
   "cell_type": "code",
   "execution_count": 5,
   "metadata": {},
   "outputs": [
    {
     "name": "stdout",
     "output_type": "stream",
     "text": [
      "b2551 b2551 {'uniprot': 'P0A825', 'asap': 'ABE-0008389', 'ecogene': 'EG10408', 'ncbigene': '947022', 'ncbigi': 'gi:16130476'}\n"
     ]
    }
   ],
   "source": [
    "g = model.genes[0]\n",
    "print(g.id,g.name,g.annotation)"
   ]
  },
  {
   "cell_type": "markdown",
   "metadata": {},
   "source": [
    "#### 1. Biomass equation"
   ]
  },
  {
   "cell_type": "code",
   "execution_count": 6,
   "metadata": {},
   "outputs": [],
   "source": [
    "BOFs = list()\n",
    "for rxn in model.reactions:\n",
    "    try:\n",
    "        if 'biomass' in rxn.name.lower(): \n",
    "            BOFs.append(rxn)\n",
    "    except:None"
   ]
  },
  {
   "cell_type": "code",
   "execution_count": 13,
   "metadata": {},
   "outputs": [
    {
     "name": "stdout",
     "output_type": "stream",
     "text": [
      "E. coli biomass objective function (iML1515) - core - with 75.37 GAM estimate 70\n",
      "E. coli biomass objective function (iML1515) - WT - with 75.37 GAM estimate 99\n"
     ]
    }
   ],
   "source": [
    "for rxn in BOFs:\n",
    "    print(rxn.name,len(rxn.metabolites))\n",
    "    #print(rxn.reaction)"
   ]
  },
  {
   "cell_type": "code",
   "execution_count": 7,
   "metadata": {},
   "outputs": [
    {
     "name": "stdout",
     "output_type": "stream",
     "text": [
      "99\n"
     ]
    }
   ],
   "source": [
    "print(len(BOFs[1].metabolites))"
   ]
  },
  {
   "cell_type": "code",
   "execution_count": 14,
   "metadata": {},
   "outputs": [
    {
     "name": "stdout",
     "output_type": "stream",
     "text": [
      "2dmmql8_c\n",
      "5mthf_c\n",
      "accoa_c\n",
      "adocbl_c\n",
      "chor_c\n",
      "clpn160_p\n",
      "clpn161_p\n",
      "clpn181_p\n",
      "colipa_e\n",
      "enter_c\n",
      "glycogen_c\n",
      "gthrd_c\n",
      "hemeO_c\n",
      "lipopb_c\n",
      "malcoa_c\n",
      "mococdp_c\n",
      "mocogdp_c\n",
      "mql8_c\n",
      "murein3p3p_p\n",
      "murein3px4p_p\n",
      "murein4p4p_p\n",
      "murein4px4p_p\n",
      "murein4px4px4p_p\n",
      "nadh_c\n",
      "nadph_c\n",
      "pe181_p\n",
      "pg160_p\n",
      "pg161_p\n",
      "pg181_p\n",
      "ptrc_c\n",
      "q8h2_c\n",
      "spmd_c\n"
     ]
    }
   ],
   "source": [
    "for met in BOFs[1].metabolites:\n",
    "    if met not in BOFs[0].metabolites: \n",
    "        print(met)"
   ]
  },
  {
   "cell_type": "code",
   "execution_count": 15,
   "metadata": {},
   "outputs": [],
   "source": [
    "def save_biomass_xlsx(sh,rxn):\n",
    "    # write head\n",
    "    head = ['name','id','coeff']\n",
    "    for met in rxn.metabolites:\n",
    "        for anno in met.annotation.keys():\n",
    "            if anno not in head: head.append(anno)\n",
    "    \n",
    "    for i in range(len(head)): sh.write(0,i,head[i])\n",
    "    \n",
    "    k = 1\n",
    "    for met in rxn.metabolites:\n",
    "        sh.write(k,0,met.name)\n",
    "        sh.write(k,1,met.id)\n",
    "        sh.write(k,2,rxn.get_coefficient(met))\n",
    "        \n",
    "        j = 3\n",
    "        for anno in head[3:]:\n",
    "            sh.write(k,j,met.annotation.get(anno,None))\n",
    "            j += 1\n",
    "        k += 1"
   ]
  },
  {
   "cell_type": "code",
   "execution_count": 16,
   "metadata": {},
   "outputs": [],
   "source": [
    "def save_medium(sh,met_ids,model):\n",
    "    mets = dict()\n",
    "    for met in model.metabolites: \n",
    "        if met.id in met_ids:\n",
    "            mets[met.id] = met\n",
    "    \n",
    "    head = ['name','id']\n",
    "    for met in mets.values():\n",
    "        for anno in met.annotation.keys():\n",
    "            if anno not in head: head.append(anno)\n",
    "    \n",
    "    for i in range(len(head)): sh.write(0,i,head[i])\n",
    "    \n",
    "    k = 1\n",
    "    for met_id in met_ids:\n",
    "        met = mets[met_id]\n",
    "        sh.write(k,0,met.name)\n",
    "        sh.write(k,1,met.id)\n",
    "        \n",
    "        j = 2\n",
    "        for anno in head[2:]:\n",
    "            sh.write(k,j,met.annotation.get(anno,None))\n",
    "            j += 1\n",
    "        k += 1"
   ]
  },
  {
   "cell_type": "code",
   "execution_count": 21,
   "metadata": {},
   "outputs": [],
   "source": [
    "book = xlwt.Workbook()\n",
    "sh1 = book.add_sheet('WT')\n",
    "sh2 = book.add_sheet('Core')\n",
    "save_biomass_xlsx(sh1,BOFs[1])\n",
    "save_biomass_xlsx(sh2,BOFs[0])\n",
    "\n",
    "book.save('../Results/biomass_iML1515.xls')"
   ]
  },
  {
   "cell_type": "markdown",
   "metadata": {},
   "source": [
    "medium = pd.read_excel('../Results/biomass_iJO1366.xls','WT')\n",
    "medium.to_csv('../Results/biomass_WT_iJO1366.tsv',sep='\\t')\n",
    "\n",
    "medium = pd.read_excel('../Results/biomass_iJO1366.xls','Core')\n",
    "medium.to_csv('../Results/biomass_Core_iJO1366.tsv',sep='\\t')"
   ]
  },
  {
   "cell_type": "markdown",
   "metadata": {},
   "source": [
    "#### 2.find ids for medium"
   ]
  },
  {
   "cell_type": "code",
   "execution_count": 18,
   "metadata": {},
   "outputs": [],
   "source": [
    "medium_ids = ['na1_e','cl_e', # NaCl\n",
    "              'glc__D_e', # Glucose\n",
    "              'urea_e', # Urea\n",
    "              'mg2_e','so4_e', # MgSO4\n",
    "              'pi_c',# instead of HPO4, PO4 is used\n",
    "              'fe3_e','nh4_e','cit_e', # Fe(III)-NH4-Citrate\n",
    "              'fe2_e',\n",
    "              'ca2_e', # CaCl2\n",
    "              'zn2_e', # ZnSo4\n",
    "              'mn2_e', # MnCl2\n",
    "              'cobalt2_c',# CoCl2\n",
    "              'k_c',   #KH2PO4\n",
    "              # H3BO3 is missing\n",
    "              'cu2_e', #CuSO4\n",
    "              'ni2_e', # NiCl2\n",
    "              'mobd_e', # NaMoO4,\n",
    "              'o2_e'#O2\n",
    "             ]\n",
    "# add 20 amino acids\n",
    "for aa in pp.aa3: \n",
    "    if aa == 'GLY':medium_ids.append('gly_e')\n",
    "    else:medium_ids.append('{}__L_e'.format(aa.lower()))\n",
    "    \n",
    "# according to paper https://onlinelibrary.wiley.com/doi/epdf/10.1002/bit.10608, \n",
    "# yeast extract contains adenine, trehalose and lactate \n",
    "medium_ids += ['ade_e', # adenine\n",
    "               'tre_e', # trehalose\n",
    "               'lac__L_e',#lac__L_e\n",
    "              ]\n",
    "# a question for 19 amino acids (except Glycine) and lactate, should we consider D-type as well?"
   ]
  },
  {
   "cell_type": "code",
   "execution_count": 19,
   "metadata": {},
   "outputs": [],
   "source": [
    "# secreted metabolites, Known secretion metabolites: \n",
    "# citrate, acetate and pyruvate\n",
    "\n",
    "sec_ids = [ #citrate is already in medium\n",
    "           'ac_e',#acetate\n",
    "           'pyr_e',#Pyruvate\n",
    "           'co2_e',#co2\n",
    "           'h2o_e' # water\n",
    "             ]"
   ]
  },
  {
   "cell_type": "code",
   "execution_count": 20,
   "metadata": {},
   "outputs": [],
   "source": [
    "book = xlwt.Workbook()\n",
    "sh = book.add_sheet('medium')\n",
    "save_medium(sh,medium_ids,model)\n",
    "\n",
    "sh = book.add_sheet('secretion')\n",
    "save_medium(sh,sec_ids,model)\n",
    "\n",
    "book.save('../Results/medium.xls')"
   ]
  },
  {
   "cell_type": "markdown",
   "metadata": {},
   "source": [
    "medium = pd.read_excel('../Results/medium.xls','medium')\n",
    "medium.to_csv('../Results/medium.tsv',sep='\\t')\n",
    "\n",
    "medium = pd.read_excel('../Results/medium.xls','secretion')\n",
    "medium.to_csv('../Results/secretion.tsv',sep='\\t')"
   ]
  },
  {
   "cell_type": "code",
   "execution_count": null,
   "metadata": {},
   "outputs": [],
   "source": []
  }
 ],
 "metadata": {
  "kernelspec": {
   "display_name": "Python 3",
   "language": "python",
   "name": "python3"
  },
  "language_info": {
   "codemirror_mode": {
    "name": "ipython",
    "version": 3
   },
   "file_extension": ".py",
   "mimetype": "text/x-python",
   "name": "python",
   "nbconvert_exporter": "python",
   "pygments_lexer": "ipython3",
   "version": "3.7.2"
  }
 },
 "nbformat": 4,
 "nbformat_minor": 2
}
