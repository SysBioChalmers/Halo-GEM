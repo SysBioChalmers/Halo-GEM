{
 "cells": [
  {
   "cell_type": "code",
   "execution_count": 1,
   "metadata": {},
   "outputs": [],
   "source": [
    "from tools import *"
   ]
  },
  {
   "cell_type": "markdown",
   "metadata": {},
   "source": [
    "## Create draft model from template iML1515\n",
    "* 1. use Bi-directional Best Hit to identify the ortholog pairs between halomonas and E coli\n",
    "* 2. get all reactions associated with all these genes\n",
    "* 3. For those reactions with missing genes in the gr rule, try to find homologes in _H.TD01_ based on the same identity and coverage thresholds (Not BBH). The coverage threshold used in this study is 45%\n",
    "* 4. resolve gr rules."
   ]
  },
  {
   "cell_type": "code",
   "execution_count": 2,
   "metadata": {},
   "outputs": [],
   "source": [
    "### Run pipeline for reconstruction of draft model from template model "
   ]
  },
  {
   "cell_type": "code",
   "execution_count": 3,
   "metadata": {},
   "outputs": [
    {
     "name": "stdout",
     "output_type": "stream",
     "text": [
      "Using license file /Users/gangl/gurobi.lic\n",
      "Academic license - for non-commercial use only\n"
     ]
    }
   ],
   "source": [
    "template_model = load_ecoli_model('../../../ComplementaryData/iML1515.mat',\n",
    "                                  '../../../ComplementaryData/iML1515.xml')"
   ]
  },
  {
   "cell_type": "raw",
   "metadata": {},
   "source": [
    "# download enzyme sequences in the template model\n",
    "download_genes(template_model,outname='../../../ComplementaryData/orf_iML1515.fasta')\n",
    "update_fasta_format(template_model,'../../../ComplementaryData/orf_iML1515.fasta')"
   ]
  },
  {
   "cell_type": "code",
   "execution_count": 4,
   "metadata": {},
   "outputs": [],
   "source": [
    "# blast\n",
    "do_blast('../../../ComplementaryData/protein_sequences_v3.0.fasta',\n",
    "         '../../../ComplementaryData/orf_iML1515_formated.fasta')"
   ]
  },
  {
   "cell_type": "code",
   "execution_count": 5,
   "metadata": {},
   "outputs": [
    {
     "data": {
      "image/png": "[encoded data removed]",
      "text/plain": [
       "<Figure size 288x216 with 1 Axes>"
      ]
     },
     "metadata": {
      "needs_background": "light"
     },
     "output_type": "display_data"
    }
   ],
   "source": [
    "# BBH, try different evalues\n",
    "evalues =  np.arange(0,110,10,dtype=float)\n",
    "BBH_nums = list()\n",
    "for evalue in evalues:\n",
    "    BBH = extract_BBHs('../Results/bidirectional_blast.tab',10**(-evalue))\n",
    "    BBH_nums.append(len(BBH))\n",
    "plt.figure(figsize=(4,3))\n",
    "plt.plot(evalues,BBH_nums)\n",
    "plt.xlabel('-log$_{10}$(evalue)')\n",
    "plt.ylabel('Number of BBHs')\n",
    "plt.tight_layout()\n",
    "plt.show()"
   ]
  },
  {
   "cell_type": "code",
   "execution_count": 6,
   "metadata": {},
   "outputs": [
    {
     "name": "stdout",
     "output_type": "stream",
     "text": [
      "Number of homologs for query genes (evalue = 0.001): 1288\n",
      "Number of homologs for target genes (evalue = 0.001): 1120\n",
      "Number of BBHs (evalue = 0.001): 774\n"
     ]
    }
   ],
   "source": [
    "BBHs = extract_BBHs('../Results/bidirectional_blast.tab',1e-3,True)"
   ]
  },
  {
   "cell_type": "code",
   "execution_count": 7,
   "metadata": {},
   "outputs": [
    {
     "name": "stdout",
     "output_type": "stream",
     "text": [
      "Number of candiate reactions: 1290\n",
      "Number of reactions: 1290\n",
      "Number of metabolits: 1242\n",
      "Number of compartments: 3 {'c': '', 'p': '', 'e': ''}\n",
      "Number of genes: 900\n",
      "Number of missing genes: 133\n",
      "Number of reactions with missing genes: 122\n",
      "\n"
     ]
    }
   ],
   "source": [
    "# Build first template model\n",
    "candidate_rxns = get_all_rxns_in_BBH(template_model, BBHs)\n",
    "model_from_template = build_model_from_template(candidate_rxns,BBHs,True)"
   ]
  },
  {
   "cell_type": "code",
   "execution_count": 8,
   "metadata": {},
   "outputs": [
    {
     "data": {
      "image/png": "[encoded data removed]",
      "text/plain": [
       "<Figure size 288x216 with 1 Axes>"
      ]
     },
     "metadata": {
      "needs_background": "light"
     },
     "output_type": "display_data"
    }
   ],
   "source": [
    "# test different evalues to update missing genes\n",
    "evalues =  np.arange(0,110,10,dtype=float)\n",
    "missing_genes = list()\n",
    "rxns_with_missing_genes = list()\n",
    "for evalue in evalues:\n",
    "    model_from_template2 = update_missing_genes(model_from_template,10**(-evalue))\n",
    "    missing_genes.append(len([gene for gene in model_from_template2.genes if 'missing' in gene.id]))\n",
    "    rxns_with_missing_genes.append(len([rxn for rxn in model_from_template2.reactions if 'missing' in rxn.gene_reaction_rule]))\n",
    "plt.figure(figsize=(4,3))\n",
    "plt.plot(evalues,missing_genes,label='missing genes')\n",
    "plt.plot(evalues,rxns_with_missing_genes,label='rxns with missing genes')\n",
    "plt.xlabel('-log$_{10}$(evalue)')\n",
    "plt.ylabel('Number of missing genes')\n",
    "plt.legend()\n",
    "plt.tight_layout()\n",
    "plt.show()"
   ]
  },
  {
   "cell_type": "code",
   "execution_count": 9,
   "metadata": {},
   "outputs": [
    {
     "name": "stdout",
     "output_type": "stream",
     "text": [
      "Number of reactions: 1290\n",
      "Number of metabolits: 1242\n",
      "Number of compartments: 3 {'c': '', 'p': '', 'e': ''}\n",
      "Number of genes: 859\n",
      "Number of missing genes: 73\n",
      "Number of reactions with missing genes: 75\n",
      "\n"
     ]
    }
   ],
   "source": [
    "model_from_template2 = update_missing_genes(model_from_template,1e-3,True)"
   ]
  },
  {
   "cell_type": "code",
   "execution_count": 10,
   "metadata": {},
   "outputs": [
    {
     "name": "stdout",
     "output_type": "stream",
     "text": [
      "Number of reactions with MetaCyc id: 567 / 1290\n",
      "Number of reactions with KEGG id: 527 / 1290\n",
      "Number of reactions with both Metacyc and KEGG id: 462 / 1290\n"
     ]
    }
   ],
   "source": [
    "k = 0\n",
    "g = 0\n",
    "b = 0\n",
    "for rxn in model_from_template2.reactions:\n",
    "    if rxn.annotation.get('biocyc') is not None: k += 1\n",
    "    if rxn.annotation.get('kegg.reaction') is not None: g += 1\n",
    "    if rxn.annotation.get('biocyc') is not None and rxn.annotation.get('kegg.reaction') is not None: b += 1\n",
    "print('Number of reactions with MetaCyc id:',k,'/',len(model_from_template2.reactions))\n",
    "print('Number of reactions with KEGG id:',g,'/',len(model_from_template2.reactions))\n",
    "print('Number of reactions with both Metacyc and KEGG id:',b,'/',len(model_from_template2.reactions))"
   ]
  },
  {
   "cell_type": "code",
   "execution_count": 11,
   "metadata": {
    "scrolled": false
   },
   "outputs": [
    {
     "name": "stdout",
     "output_type": "stream",
     "text": [
      "FEENTERabcpp TD01GL002874 and TD01GL002875 and TD01GL002876 and b0592_missing\n",
      "atp_c + feenter_p + h2o_c --> adp_c + feenter_c + h_c + pi_c\n",
      "\n",
      "DHBSZ3FEabcpp TD01GL002874 and TD01GL002875 and TD01GL002876 and b0592_missing\n",
      "atp_c + fe3dhbzs3_p + h2o_c --> adp_c + fe3dhbzs3_c + h_c + pi_c\n",
      "\n",
      "PFL ( TD01GL002632 and b3114_missing ) or ( TD01GL002632 and b0903_missing ) or ( TD01GL002632 and b0903_missing and b2579_missing )\n",
      "coa_c + pyr_c --> accoa_c + for_c\n",
      "\n",
      "OBTFL ( TD01GL002632 and b3114_missing ) or ( TD01GL002632 and b0903_missing ) or ( TD01GL002632 and b0903_missing and b2579_missing )\n",
      "2obut_c + coa_c --> for_c + ppcoa_c\n",
      "\n",
      "PPPNDO TD01GL000421 and TD01GL003742 and b2539_missing and b2540_missing\n",
      "h_c + nadh_c + o2_c + pppn_c --> cechddd_c + nad_c\n",
      "\n",
      "CINNDO TD01GL000421 and TD01GL003742 and b2539_missing and b2540_missing\n",
      "cinnm_c + h_c + nadh_c + o2_c --> cenchddd_c + nad_c\n",
      "\n",
      "TGBPA TD01GL000048 and b3132_missing\n",
      "tagdp__D_c <=> dhap_c + g3p_c\n",
      "\n",
      "G3PAT160 TD01GL002266 and b4041_missing\n",
      "glyc3p_c + palmACP_c --> 1hdecg3p_c + ACP_c\n",
      "\n",
      "G3PAT140 TD01GL002266 and b4041_missing\n",
      "glyc3p_c + myrsACP_c --> 1tdecg3p_c + ACP_c\n",
      "\n",
      "G3PAT181 TD01GL002266 and b4041_missing\n",
      "glyc3p_c + octeACP_c --> 1odec11eg3p_c + ACP_c\n",
      "\n",
      "G3PAT161 TD01GL002266 and b4041_missing\n",
      "glyc3p_c + hdeACP_c --> 1hdec9eg3p_c + ACP_c\n",
      "\n",
      "G3PAT180 TD01GL002266 and b4041_missing\n",
      "glyc3p_c + ocdcaACP_c --> 1odecg3p_c + ACP_c\n",
      "\n",
      "G3PAT120 TD01GL002266 and b4041_missing\n",
      "ddcaACP_c + glyc3p_c --> 1ddecg3p_c + ACP_c\n",
      "\n",
      "G3PAT141 TD01GL002266 and b4041_missing\n",
      "glyc3p_c + tdeACP_c --> 1tdec7eg3p_c + ACP_c\n",
      "\n",
      "TMAOR1 TD01GL003329 and TD01GL003330 and b1590_missing\n",
      "h_c + mql8_c + tmao_c --> h2o_c + mqn8_c + tma_c\n",
      "\n",
      "DMSOR1 TD01GL003329 and TD01GL003330 and b1590_missing\n",
      "dmso_c + mql8_c --> dms_c + h2o_c + mqn8_c\n",
      "\n",
      "SELR TD01GL003329 and TD01GL003330 and b1590_missing\n",
      "mql8_c + sel_c --> h2o_c + mqn8_c + slnt_c\n",
      "\n",
      "FADRx2 TD01GL001837 and b2764_missing\n",
      "fad_c + h_c + nadph_c --> fadh2_c + nadp_c\n",
      "\n",
      "SULR TD01GL001837 and b2764_missing\n",
      "5.0 h_c + 3.0 nadph_c + so3_c --> 3.0 h2o_c + h2s_c + 3.0 nadp_c\n",
      "\n",
      "ACMUMptspp TD01GL001071 and TD01GL001408 and TD01GL002346 and b2429_missing\n",
      "acmum_p + pep_c --> acmum6p_c + pyr_c\n",
      "\n",
      "CELBpts ( TD01GL001408 and TD01GL002346 and b1736_missing and b1737_missing and b1738_missing ) or ( TD01GL001408 and TD01GL002346 and b2715_missing )\n",
      "cellb_e + pep_c --> 6pgg_c + pyr_c\n",
      "\n",
      "ARBTptspp ( TD01GL001408 and TD01GL002346 and b3722_missing ) or ( TD01GL001408 and TD01GL002346 and b2715_missing )\n",
      "arbt_p + pep_c --> arbt6p_c + pyr_c\n",
      "\n",
      "TREptspp TD01GL001071 and TD01GL001408 and TD01GL002346 and b4240_missing\n",
      "pep_c + tre_p --> pyr_c + tre6p_c\n",
      "\n",
      "SBTptspp TD01GL001408 and TD01GL002346 and b2702_missing and b2703_missing and b2704_missing\n",
      "pep_c + sbt__D_p --> pyr_c + sbt6p_c\n",
      "\n",
      "GAMptspp TD01GL001408 and TD01GL002346 and b1817_missing and b1818_missing and b1819_missing\n",
      "gam_p + pep_c --> gam6p_c + pyr_c\n",
      "\n",
      "MNLptspp ( TD01GL001408 and TD01GL002346 and b3599_missing ) or ( TD01GL001408 and TD01GL002346 and b2933_missing ) or ( TD01GL001408 and TD01GL002346 and b2702_missing and b2703_missing and b2704_missing )\n",
      "mnl_p + pep_c --> mnl1p_c + pyr_c\n",
      "\n",
      "DHAPT TD01GL001408 and TD01GL002346 and b1199_missing and b1200_missing\n",
      "dha_c + pep_c --> dhap_c + pyr_c\n",
      "\n",
      "ACMANAptspp TD01GL001408 and TD01GL002346 and b1817_missing and b1818_missing and b1819_missing\n",
      "acmana_p + pep_c --> acmanap_c + pyr_c\n",
      "\n",
      "2DGLCptspp TD01GL001408 and TD01GL002346 and b1817_missing and b1818_missing and b1819_missing\n",
      "2dglc_p + pep_c --> 2doxg6p_c + pyr_c\n",
      "\n",
      "MANptspp TD01GL001408 and TD01GL002346 and b1817_missing and b1818_missing and b1819_missing\n",
      "man_p + pep_c --> man6p_c + pyr_c\n",
      "\n",
      "CHTBSptspp TD01GL001408 and TD01GL002346 and b1736_missing and b1737_missing and b1738_missing\n",
      "chtbs_p + pep_c --> chtbs6p_c + pyr_c\n",
      "\n",
      "ASCBptspp TD01GL001408 and TD01GL002346 and b4193_missing and b4194_missing\n",
      "ascb__L_p + pep_c --> ascb6p_c + pyr_c\n",
      "\n",
      "FRUpts2pp TD01GL001408 and TD01GL002346 and b1817_missing and b1818_missing and b1819_missing\n",
      "fru_p + pep_c --> f6p_c + pyr_c\n",
      "\n",
      "GALTptspp TD01GL001408 and TD01GL002346 and b2092_missing and b2093_missing and b2094_missing\n",
      "galt_p + pep_c --> galt1p_c + pyr_c\n",
      "\n",
      "SUCptspp TD01GL001071 and TD01GL001408 and TD01GL002346 and b2429_missing\n",
      "pep_c + sucr_p --> pyr_c + suc6p_c\n",
      "\n",
      "NO3R1bpp TD01GL000882 and b2202_missing and b2203_missing and b2204_missing and b2205_missing\n",
      "no3_p + q8h2_c --> h2o_p + no2_p + q8_c\n",
      "\n",
      "NO3R2bpp TD01GL000882 and b2202_missing and b2203_missing\n",
      "mql8_c + no3_p --> h2o_p + mqn8_c + no2_p\n",
      "\n",
      "XYLabcpp TD01GL000478 and TD01GL003418 and b3566_missing\n",
      "atp_c + h2o_c + xyl__D_p --> adp_c + h_c + pi_c + xyl__D_c\n",
      "\n",
      "NHFRBO TD01GL003742 and b2710_missing\n",
      "h_c + nadh_c + 2.0 no_c --> h2o_c + n2o_c + nad_c\n",
      "\n",
      "PIuabcpp TD01GL001287 and TD01GL001288 and TD01GL001289 and b3728_missing\n",
      "atp_c + h2o_c + pi_p --> adp_c + h_c + 2.0 pi_c\n",
      "\n",
      "RIBabcpp ( TD01GL001010 and TD01GL003417 and TD01GL003418 and b3748_missing ) or ( TD01GL003417 and TD01GL003418 and b4227_missing )\n",
      "atp_c + h2o_c + rib__D_p --> adp_c + h_c + pi_c + rib__D_c\n",
      "\n",
      "GALabcpp TD01GL003417 and TD01GL003418 and b4227_missing\n",
      "atp_c + gal_p + h2o_c --> adp_c + gal_c + h_c + pi_c\n",
      "\n",
      "ASR TD01GL001294 and b1064_missing\n",
      "aso4_c + 2.0 gthrd_c --> aso3_c + gthox_c + h2o_c\n",
      "\n",
      "FHL ( TD01GL000420 and TD01GL002642 and TD01GL003329 and TD01GL003333 and b2719_missing and b2721_missing and b2722_missing ) or ( TD01GL000420 and TD01GL002392 and TD01GL002645 and TD01GL002810 and TD01GL003333 and b2481_missing and b2483_missing and b2485_missing and b2487_missing and b2489_missing and b2490_missing )\n",
      "for_c + h_c --> co2_c + h2_c\n",
      "\n",
      "ALPATE160pp TD01GL001172 and b1677_missing\n",
      "alpp_p + pe160_p --> 2agpe160_p + lpp_p\n",
      "\n",
      "ALPATG160pp TD01GL001172 and b1677_missing\n",
      "alpp_p + pg160_p --> 2agpg160_p + lpp_p\n",
      "\n",
      "NADH17pp TD01GL000419 and TD01GL002642 and TD01GL002645 and TD01GL002810 and b2279_missing and b2280_missing and b2281_missing and b2282_missing and b2283_missing and b2286_missing and b2287_missing and b2288_missing\n",
      "4.0 h_c + mqn8_c + nadh_c --> 3.0 h_p + mql8_c + nad_c\n",
      "\n",
      "NADH16pp TD01GL000419 and TD01GL002642 and TD01GL002645 and TD01GL002810 and b2279_missing and b2280_missing and b2281_missing and b2282_missing and b2283_missing and b2286_missing and b2287_missing and b2288_missing\n",
      "4.0 h_c + nadh_c + q8_c --> 3.0 h_p + nad_c + q8h2_c\n",
      "\n",
      "NADH18pp TD01GL000419 and TD01GL002642 and TD01GL002645 and TD01GL002810 and b2279_missing and b2280_missing and b2281_missing and b2282_missing and b2283_missing and b2286_missing and b2287_missing and b2288_missing\n",
      "2dmmq8_c + 4.0 h_c + nadh_c --> 2dmmql8_c + 3.0 h_p + nad_c\n",
      "\n",
      "CLIPAabctex TD01GL000592 and TD01GL000593 and TD01GL002340 and TD01GL002341 and TD01GL002916 and b0641_missing and b3199_missing\n",
      "atp_c + h2o_c + lipa_cold_p --> adp_c + h_c + lipa_cold_e + pi_c\n",
      "\n",
      "K2L4Aabctex TD01GL000592 and TD01GL000593 and TD01GL002340 and TD01GL002341 and TD01GL002916 and b0641_missing and b3199_missing\n",
      "atp_c + h2o_c + kdo2lipid4_p --> adp_c + h_c + kdo2lipid4_e + pi_c\n",
      "\n",
      "ENLIPAabctex TD01GL000592 and TD01GL000593 and TD01GL002340 and TD01GL002341 and TD01GL002916 and b0641_missing and b3199_missing\n",
      "atp_c + enlipa_p + h2o_c --> adp_c + enlipa_e + h_c + pi_c\n",
      "\n",
      "COLIPAabctex TD01GL000592 and TD01GL000593 and TD01GL002340 and TD01GL002341 and TD01GL002916 and b0641_missing and b3199_missing\n",
      "atp_c + colipa_p + h2o_c --> adp_c + colipa_e + h_c + pi_c\n",
      "\n",
      "ECA4COLIPAabctex TD01GL000592 and TD01GL000593 and TD01GL002340 and TD01GL002341 and TD01GL002916 and b0641_missing and b3199_missing\n",
      "atp_c + eca4colipa_p + h2o_c --> adp_c + eca4colipa_e + h_c + pi_c\n",
      "\n",
      "ACOLIPAabctex TD01GL000592 and TD01GL000593 and TD01GL002340 and TD01GL002341 and TD01GL002916 and b0641_missing and b3199_missing\n",
      "acolipa_p + atp_c + h2o_c --> acolipa_e + adp_c + h_c + pi_c\n",
      "\n",
      "LIPAabctex TD01GL000592 and TD01GL000593 and TD01GL002340 and TD01GL002341 and TD01GL002916 and b0641_missing and b3199_missing\n",
      "atp_c + h2o_c + lipa_p --> adp_c + h_c + lipa_e + pi_c\n",
      "\n",
      "O16A4COLIPAabctex TD01GL000592 and TD01GL000593 and TD01GL002340 and TD01GL002341 and TD01GL002916 and b0641_missing and b3199_missing\n",
      "atp_c + h2o_c + o16a4colipa_p --> adp_c + h_c + o16a4colipa_e + pi_c\n",
      "\n",
      "COLIPAPabctex TD01GL000592 and TD01GL000593 and TD01GL002340 and TD01GL002341 and TD01GL002916 and b0641_missing and b3199_missing\n",
      "atp_c + colipap_p + h2o_c --> adp_c + colipap_e + h_c + pi_c\n",
      "\n",
      "I2FE2SS2 TD01GL000663 and b2529_missing\n",
      "fadh2_c + 2.0 fe2_c + 2.0 iscssh_c + iscu_2fe2s_c --> fad_c + 6.0 h_c + 2.0 iscs_c + iscu_2fe2s2_c\n",
      "\n",
      "I2FE2SS TD01GL000663 and b2529_missing\n",
      "fadh2_c + 2.0 fe2_c + 2.0 iscssh_c + iscu_c --> fad_c + 6.0 h_c + 2.0 iscs_c + iscu_2fe2s_c\n",
      "\n",
      "I2FE2SR TD01GL000663 and b2529_missing\n",
      "2fe1s_c + iscssh_c + iscu_c --> 4.0 h_c + iscs_c + iscu_2fe2s_c\n",
      "\n",
      "THZPSN3 TD01GL000663 and TD01GL001192 and TD01GL003669 and b0423_missing and b3990_missing\n",
      "atp_c + dhgly_c + dxyl5p_c + h_c + iscssh_c + nadph_c --> 4mpetz_c + amp_c + co2_c + 2.0 h2o_c + iscs_c + nadp_c + ppi_c\n",
      "\n",
      "I4FE4ST TD01GL000662 and b2529_missing\n",
      "4.0 h_c + iscu_4fe4s_c --> 4fe4s_c + iscu_c\n",
      "\n",
      "I2FE2ST TD01GL000662 and b2529_missing\n",
      "4.0 h_c + iscu_2fe2s_c --> 2fe2s_c + iscu_c\n",
      "\n",
      "MECDPDH5 ( TD01GL000657 and b0684_missing ) or ( TD01GL000657 and b2895_missing )\n",
      "2mecdp_c + 2.0 flxr_c + h_c --> 2.0 flxso_c + h2mb4p_c + h2o_c\n",
      "\n",
      "RNTR3c2 ( TD01GL003656 and b0684_missing and b4237_missing and b4238_missing ) or ( TD01GL003656 and b2895_missing and b4237_missing and b4238_missing )\n",
      "ctp_c + 2.0 flxr_c + 2.0 h_c --> dctp_c + 2.0 flxso_c + h2o_c\n",
      "\n",
      "FLDR2 ( TD01GL003656 and b0684_missing ) or ( TD01GL003656 and b2895_missing )\n",
      "2.0 flxso_c + nadph_c --> 2.0 flxr_c + h_c + nadp_c\n",
      "\n",
      "RNTR2c2 ( TD01GL003656 and b0684_missing and b4237_missing and b4238_missing ) or ( TD01GL003656 and b2895_missing and b4237_missing and b4238_missing )\n",
      "2.0 flxr_c + gtp_c + 2.0 h_c --> dgtp_c + 2.0 flxso_c + h2o_c\n",
      "\n",
      "RNTR4c2 ( TD01GL003656 and b0684_missing and b4237_missing and b4238_missing ) or ( TD01GL003656 and b2895_missing and b4237_missing and b4238_missing )\n",
      "2.0 flxr_c + 2.0 h_c + utp_c --> dutp_c + 2.0 flxso_c + h2o_c\n",
      "\n",
      "RNTR1c2 ( TD01GL003656 and b0684_missing and b4237_missing and b4238_missing ) or ( TD01GL003656 and b2895_missing and b4237_missing and b4238_missing )\n",
      "atp_c + 2.0 flxr_c + 2.0 h_c --> datp_c + 2.0 flxso_c + h2o_c\n",
      "\n",
      "PUACGAMtr TD01GL001853 and b1021_missing\n",
      "puacgam_c --> puacgam_p\n",
      "\n",
      "PUACGAMS TD01GL001853 and b1021_missing\n",
      "puacgam_c + udp_c <=> uacgam_c\n",
      "\n",
      "4HBZt3pp TD01GL003719 and b3240_missing\n",
      "4hbz_c + h_p --> 4hbz_p + h_c\n",
      "\n",
      "MEPNabcpp TD01GL000309 and TD01GL000310 and b4104_missing\n",
      "atp_c + h2o_c + mepn_p --> adp_c + h_c + mepn_c + pi_c\n",
      "\n",
      "VALt3pp TD01GL002833 and b2683_missing\n",
      "h_p + val__L_c --> h_c + val__L_p\n",
      "\n",
      "and or rxns: 31/1290\n",
      "reactions with missing genes: 75/1290\n"
     ]
    }
   ],
   "source": [
    "and_or_rxns = 0\n",
    "rxns_with_missing_genes = 0\n",
    "for rxn in model_from_template2.reactions:\n",
    "    gr = rxn.gene_reaction_rule\n",
    "    if ' and ' in gr and ' or ' in gr: \n",
    "        and_or_rxns += 1\n",
    "    if '_missing' in gr: \n",
    "        rxns_with_missing_genes += 1\n",
    "        print(rxn.id,rxn.gene_reaction_rule)\n",
    "        print(rxn.reaction)\n",
    "        print()\n",
    "        \n",
    "print('and or rxns: {0}/{1}'.format(and_or_rxns,len(model_from_template2.reactions)))\n",
    "print('reactions with missing genes: {0}/{1}'.format(rxns_with_missing_genes,len(model_from_template2.reactions)))"
   ]
  },
  {
   "cell_type": "code",
   "execution_count": 12,
   "metadata": {},
   "outputs": [
    {
     "name": "stdout",
     "output_type": "stream",
     "text": [
      "Number of reactions: 1215\n",
      "Number of metabolits: 1173\n",
      "Number of compartments: 3 {'c': '', 'p': '', 'e': ''}\n",
      "Number of genes: 751\n",
      "Number of missing genes: 0\n",
      "Number of reactions with missing genes: 0\n",
      "\n"
     ]
    }
   ],
   "source": [
    "# remove reactions with missing genes from the draft model\n",
    "model_from_template3 = remove_rxns_with_missing_genes(model_from_template2)\n",
    "\n",
    "cobra.io.save_json_model(model_from_template2,\n",
    "                        '../Results/halo_iML1515_template_with_missing_genes.json')\n",
    "cobra.io.save_json_model(model_from_template3,\n",
    "                    '../Results/halo_iML1515_template_without_missing_genes.json')"
   ]
  },
  {
   "cell_type": "code",
   "execution_count": null,
   "metadata": {},
   "outputs": [],
   "source": []
  }
 ],
 "metadata": {
  "kernelspec": {
   "display_name": "Python 3",
   "language": "python",
   "name": "python3"
  },
  "language_info": {
   "codemirror_mode": {
    "name": "ipython",
    "version": 3
   },
   "file_extension": ".py",
   "mimetype": "text/x-python",
   "name": "python",
   "nbconvert_exporter": "python",
   "pygments_lexer": "ipython3",
   "version": "3.7.2"
  }
 },
 "nbformat": 4,
 "nbformat_minor": 2
}
