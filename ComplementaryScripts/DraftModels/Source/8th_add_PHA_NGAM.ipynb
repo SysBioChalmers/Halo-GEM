{
 "cells": [
  {
   "cell_type": "code",
   "execution_count": 1,
   "metadata": {},
   "outputs": [],
   "source": [
    "import cobra\n",
    "import pandas as pd\n",
    "import numpy as np\n",
    "import os\n",
    "import sys\n",
    "import pickle\n",
    "from tools import save_pickle_model"
   ]
  },
  {
   "cell_type": "code",
   "execution_count": 2,
   "metadata": {},
   "outputs": [],
   "source": [
    "ecpy_path = '../../../ecpy/'\n",
    "sys.path.append(os.path.abspath(ecpy_path))\n",
    "import utils\n",
    "import ecpy"
   ]
  },
  {
   "cell_type": "code",
   "execution_count": 3,
   "metadata": {},
   "outputs": [
    {
     "data": {
      "text/plain": [
       "<module 'utils' from '/Users/gangl/Documents/GitHub/Halo-GEM/ecpy/utils.py'>"
      ]
     },
     "execution_count": 3,
     "metadata": {},
     "output_type": "execute_result"
    }
   ],
   "source": [
    "import importlib\n",
    "importlib.reload(utils)"
   ]
  },
  {
   "cell_type": "markdown",
   "metadata": {},
   "source": [
    "#### 1. Add PHA synthesis reaction\n",
    "(R)-3-Hydroxybutanoyl-CoA  -> CoA + PHA  \n",
    " \n",
    "\n",
    "|Name                     |MetaCyc ID |\n",
    "|:------------------------|-----------|\n",
    "|(R)-3-Hydroxybutanoyl-CoA|CPD-650    |\n",
    "|CoA                      |CO-A       |\n",
    "\n",
    "The reactions is catalyzed by phaC gene. It has two isoforms: **TD01GL001170**, **TD01GL001573**. The first gene palys the major rule in PHA synthesis"
   ]
  },
  {
   "cell_type": "code",
   "execution_count": 4,
   "metadata": {},
   "outputs": [],
   "source": [
    "def add_PHA(model_file):\n",
    "    model = pickle.load(open(model_file,'rb'))\n",
    "    met_cpd = model.metabolites.get_by_id('CPD-650_c')\n",
    "    for rxn in met_cpd.reactions: print(rxn.id, rxn.reaction,rxn.gene_reaction_rule)\n",
    "        \n",
    "    rxn_pha = cobra.Reaction('PHA_synthetase',name='Poly(3-hydroxyalkanoate) synthetase')\n",
    "    met_pha = cobra.Metabolite('PHA_c',name='PHA',compartment='c')\n",
    "    rxn_pha.add_metabolites({\n",
    "                                met_cpd                              :-1,\n",
    "                                model.metabolites.get_by_id('CO-A_c'): 1,\n",
    "                                met_pha                              : 1,\n",
    "                            })\n",
    "    rxn_pha.annotation = {'ec-code':'2.3.1-'} # from kegg annotation \n",
    "    rxn_pha.gene_reaction_rule = 'TD01GL001170 or TD01GL001573'\n",
    "\n",
    "    rxn_pha_sec = cobra.Reaction('PHA_secretion',name='PHA secretion')\n",
    "    rxn_pha_sec.add_metabolites({met_pha:-1})\n",
    "    \n",
    "    print(rxn_pha.reaction)\n",
    "    print(rxn_pha_sec.reaction)\n",
    "    model.add_reactions([rxn_pha,rxn_pha_sec])\n",
    "    \n",
    "    utils.set_yeast_extraction(model,lb=0,ub=0)\n",
    "    model.objective='PHA_secretion'\n",
    "    model.objective_direction = 'max'\n",
    "    s = model.optimize()\n",
    "    \n",
    "    print('Maximizing PHA')\n",
    "    print(s)\n",
    "    \n",
    "    \n",
    "    ## add gene name\n",
    "    utils.correct_genename(model,'TD01GL001170','phaC1')\n",
    "    utils.correct_genename(model,'TD01GL001573','phaC2')\n",
    "    \n",
    "    # phaB\n",
    "    utils.print_reactions_of_gene(model,'TD01GL000448')\n",
    "    utils.correct_genename(model,'TD01GL000448','phaB1')\n",
    "    \n",
    "    # phaA3, only correct gene name for this one\n",
    "    utils.print_reactions_of_gene(model,'TD01GL000367')\n",
    "    utils.correct_genename(model,'TD01GL000367','phaA3')\n",
    "    \n",
    "    return model"
   ]
  },
  {
   "cell_type": "markdown",
   "metadata": {},
   "source": [
    "#### 2. Add Non-Growth Associated ATP maitanance reaction\n",
    "1 ATP + 1 H2o --> 1 ADP + 1Pi + 1 H+  \n",
    "Set the lower bound of the reaction as estimated NGAM, use the value from iML1515 model.\n",
    "\n",
    "In the model, there will be two reactions for ATP hydrolysis, one with gene reaction rule with a lower bound of 0 and the other without gene reaction rule for NGAM."
   ]
  },
  {
   "cell_type": "code",
   "execution_count": 5,
   "metadata": {},
   "outputs": [],
   "source": [
    "def add_NGAM(halo_model):\n",
    "    utils.test_biomass_production(halo_model)\n",
    "    ngam_rxn = cobra.Reaction('NGAM')\n",
    "    ngam_rxn.add_metabolites({\n",
    "        halo_model.metabolites.ATP_c  :-1,\n",
    "        halo_model.metabolites.get_by_id('CPD-15815_c'):-1,\n",
    "        halo_model.metabolites.ADP_c  :1,\n",
    "        halo_model.metabolites.Pi_c   : 1,\n",
    "        halo_model.metabolites.PROTON_c:1,\n",
    "    })\n",
    "\n",
    "    ngam_rxn.lower_bound = 6.86\n",
    "    ngam_rxn.upper_bound = 6.86\n",
    "    ngam_rxn.name = 'Non-Growth Associated ATP maintenance (NGAM)'\n",
    "    print(ngam_rxn)\n",
    "    halo_model.add_reactions([ngam_rxn])\n",
    "    halo_model.repair()\n",
    "    return halo_model"
   ]
  },
  {
   "cell_type": "code",
   "execution_count": 6,
   "metadata": {},
   "outputs": [],
   "source": [
    "def run_pipeline(model_file,outfile):\n",
    "    model = add_PHA(model_file)\n",
    "    model = add_NGAM(model)\n",
    "    save_pickle_model(model,outfile)\n"
   ]
  },
  {
   "cell_type": "code",
   "execution_count": null,
   "metadata": {},
   "outputs": [],
   "source": []
  },
  {
   "cell_type": "code",
   "execution_count": 7,
   "metadata": {},
   "outputs": [
    {
     "name": "stdout",
     "output_type": "stream",
     "text": [
      "Using license file /Users/gangl/gurobi.lic\n",
      "Academic license - for non-commercial use only\n",
      "Read LP format model from file /var/folders/dx/ghtq02dx2w307xx_5hncb421qny3_w/T/tmph8p6bguu.lp\n",
      "Reading time = 0.03 seconds\n",
      ": 2400 rows, 4670 columns, 22078 nonzeros\n",
      "RXN-5901 ACETOACETYL-COA_c + NADPH_c + PROTON_c --> CPD-650_c + NADP_c TD01GL000448 or TD01GL001906\n",
      "3-HYDROXBUTYRYL-COA-DEHYDRATASE-RXN CPD-650_c <=> CPD-15815_c + CROTONYL-COA_c TD01GL003540\n",
      "RXN-14255 CPD-15815_c + CPD-650_c --> CO-A_c + CPD-335_c + PROTON_c TD01GL003102\n",
      "CPD-650_c --> CO-A_c + PHA_c\n",
      "PHA_c --> \n",
      "Maximizing PHA\n",
      "<Solution 0.832 at 0x131fa3fcc0>\n",
      "TD01GL000448 or TD01GL001906\n",
      "Acetoacetyl-CoA + Nicotinamide adenine dinucleotide phosphate - reduced + H+ --> (3R)-3-hydroxybutanoyl-CoA + Nicotinamide adenine dinucleotide phosphate\n",
      "\n",
      "TD01GL000448\n",
      "(3R)-3-hydroxypentanoyl-CoA + Nicotinamide adenine dinucleotide phosphate --> 3-oxopentanoyl-CoA + Nicotinamide adenine dinucleotide phosphate - reduced + H+\n",
      "\n",
      "TD01GL001300 or TD01GL001318 or TD01GL001328 or TD01GL000367\n",
      "2.0 Acetyl-CoA <=> Acetoacetyl-CoA + Coenzyme A\n",
      "\n",
      "NGAM: ATP_c + CPD-15815_c --> ADP_c + PROTON_c + Pi_c\n",
      "Number of reactions: 2338\n",
      "Number of metabolits: 2401\n",
      "Number of compartments: 3 {'c': '', 'p': '', 'e': ''}\n",
      "Number of genes: 1436\n",
      "Number of missing genes: 73\n",
      "Number of reactions with missing genes: 75\n",
      "\n"
     ]
    }
   ],
   "source": [
    "run_pipeline('../Results/halo_metacycmodel_100_curated_compart_with_eco_medium_biomass_gapfilled.pkl',\n",
    "             '../Results/halo_metacycmodel_100_curated_compart_with_eco_medium_biomass_gapfilled_PHA_NGAM.pkl')"
   ]
  },
  {
   "cell_type": "code",
   "execution_count": 8,
   "metadata": {},
   "outputs": [
    {
     "name": "stdout",
     "output_type": "stream",
     "text": [
      "Read LP format model from file /var/folders/dx/ghtq02dx2w307xx_5hncb421qny3_w/T/tmpvcwj7mij.lp\n",
      "Reading time = 0.02 seconds\n",
      ": 3311 rows, 6348 columns, 29580 nonzeros\n",
      "5.1.2.3-RXN S-3-HYDROXYBUTANOYL-COA_c <=> CPD-650_c TD01GL001327\n",
      "3-HYDROXBUTYRYL-COA-DEHYDRATASE-RXN CPD-650_c <=> CPD-15815_c + CROTONYL-COA_c TD01GL003540\n",
      "RXN-5901 ACETOACETYL-COA_c + NADPH_c + PROTON_c --> CPD-650_c + NADP_c TD01GL000448 or TD01GL001906\n",
      "RXN-14255 CPD-15815_c + CPD-650_c --> CO-A_c + CPD-335_c + PROTON_c TD01GL003102\n",
      "CPD-650_c --> CO-A_c + PHA_c\n",
      "PHA_c --> \n",
      "Maximizing PHA\n",
      "<Solution 1.200 at 0x132428c780>\n",
      "TD01GL000448\n",
      "(3R)-3-hydroxypentanoyl-CoA + Nicotinamide adenine dinucleotide phosphate --> 3-oxopentanoyl-CoA + Nicotinamide adenine dinucleotide phosphate - reduced + H+\n",
      "\n",
      "TD01GL000448 or TD01GL002267 or TD01GL002055\n",
      "Nicotinamide adenine dinucleotide phosphate - reduced + H+ + Very-Long-Chain-oxoacyl-CoAs --> Nicotinamide adenine dinucleotide phosphate + Very-Long-Chain-3-Hydroxyacyl-CoAs\n",
      "\n",
      "TD01GL000448 or TD01GL001906\n",
      "Acetoacetyl-CoA + Nicotinamide adenine dinucleotide phosphate - reduced + H+ --> (3R)-3-hydroxybutanoyl-CoA + Nicotinamide adenine dinucleotide phosphate\n",
      "\n",
      "TD01GL001300 or TD01GL001318 or TD01GL001328 or TD01GL000367\n",
      "2.0 Acetyl-CoA <=> Acetoacetyl-CoA + Coenzyme A\n",
      "\n",
      "NGAM: ATP_c + CPD-15815_c --> ADP_c + PROTON_c + Pi_c\n",
      "Number of reactions: 3177\n",
      "Number of metabolits: 3312\n",
      "Number of compartments: 3 {'c': '', 'p': '', 'e': ''}\n",
      "Number of genes: 1483\n",
      "Number of missing genes: 73\n",
      "Number of reactions with missing genes: 75\n",
      "\n"
     ]
    }
   ],
   "source": [
    "run_pipeline('../Results/halo_metacyc_kegg_curated_compart_with_eco_medium_biomass_gapfilled.pkl',\n",
    "             '../Results/halo_metacyc_kegg_curated_compart_with_eco_medium_biomass_gapfilled_PHA_NGAM.pkl')"
   ]
  },
  {
   "cell_type": "code",
   "execution_count": 9,
   "metadata": {},
   "outputs": [
    {
     "name": "stdout",
     "output_type": "stream",
     "text": [
      "Read LP format model from file /var/folders/dx/ghtq02dx2w307xx_5hncb421qny3_w/T/tmp_hn7_9wh.lp\n",
      "Reading time = 0.02 seconds\n",
      ": 2338 rows, 4532 columns, 21360 nonzeros\n",
      "RXN-5901 ACETOACETYL-COA_c + NADPH_c + PROTON_c --> CPD-650_c + NADP_c TD01GL000448 or TD01GL001906\n",
      "RXN-14255 CPD-15815_c + CPD-650_c --> CO-A_c + CPD-335_c + PROTON_c TD01GL003102\n",
      "3-HYDROXBUTYRYL-COA-DEHYDRATASE-RXN CPD-650_c <=> CPD-15815_c + CROTONYL-COA_c TD01GL003540\n",
      "CPD-650_c --> CO-A_c + PHA_c\n",
      "PHA_c --> \n",
      "Maximizing PHA\n",
      "<Solution 0.581 at 0x13255db668>\n",
      "TD01GL000448 or TD01GL001906\n",
      "Acetoacetyl-CoA + Nicotinamide adenine dinucleotide phosphate - reduced + H+ --> (3R)-3-hydroxybutanoyl-CoA + Nicotinamide adenine dinucleotide phosphate\n",
      "\n",
      "TD01GL000448\n",
      "(3R)-3-hydroxypentanoyl-CoA + Nicotinamide adenine dinucleotide phosphate --> 3-oxopentanoyl-CoA + Nicotinamide adenine dinucleotide phosphate - reduced + H+\n",
      "\n",
      "TD01GL001300 or TD01GL001318 or TD01GL001328 or TD01GL000367\n",
      "2.0 Acetyl-CoA <=> Acetoacetyl-CoA + Coenzyme A\n",
      "\n",
      "NGAM: ATP_c + CPD-15815_c --> ADP_c + PROTON_c + Pi_c\n",
      "Number of reactions: 2269\n",
      "Number of metabolits: 2339\n",
      "Number of compartments: 3 {'c': '', 'p': '', 'e': ''}\n",
      "Number of genes: 1358\n",
      "Number of missing genes: 5\n",
      "Number of reactions with missing genes: 3\n",
      "\n"
     ]
    }
   ],
   "source": [
    "run_pipeline('../Results/halo_metacycmodel_100_curated_compart_with_eco_without_missing_medium_biomass_gapfilled.pkl',\n",
    "             '../Results/halo_metacycmodel_100_curated_compart_with_eco_without_missing_medium_biomass_gapfilled_PHA_NGAM.pkl')"
   ]
  },
  {
   "cell_type": "code",
   "execution_count": 10,
   "metadata": {},
   "outputs": [
    {
     "name": "stdout",
     "output_type": "stream",
     "text": [
      "Read LP format model from file /var/folders/dx/ghtq02dx2w307xx_5hncb421qny3_w/T/tmpgc1h2yky.lp\n",
      "Reading time = 0.02 seconds\n",
      ": 3253 rows, 6194 columns, 28780 nonzeros\n",
      "3-HYDROXBUTYRYL-COA-DEHYDRATASE-RXN CPD-650_c <=> CPD-15815_c + CROTONYL-COA_c TD01GL003540\n",
      "RXN-14255 CPD-15815_c + CPD-650_c --> CO-A_c + CPD-335_c + PROTON_c TD01GL003102\n",
      "RXN-5901 ACETOACETYL-COA_c + NADPH_c + PROTON_c --> CPD-650_c + NADP_c TD01GL000448 or TD01GL001906\n",
      "5.1.2.3-RXN S-3-HYDROXYBUTANOYL-COA_c <=> CPD-650_c TD01GL001327\n",
      "CPD-650_c --> CO-A_c + PHA_c\n",
      "PHA_c --> \n",
      "Maximizing PHA\n",
      "<Solution 1.200 at 0x13236935f8>\n",
      "TD01GL000448 or TD01GL002267 or TD01GL002055\n",
      "Nicotinamide adenine dinucleotide phosphate - reduced + H+ + Very-Long-Chain-oxoacyl-CoAs --> Nicotinamide adenine dinucleotide phosphate + Very-Long-Chain-3-Hydroxyacyl-CoAs\n",
      "\n",
      "TD01GL000448 or TD01GL001906\n",
      "Acetoacetyl-CoA + Nicotinamide adenine dinucleotide phosphate - reduced + H+ --> (3R)-3-hydroxybutanoyl-CoA + Nicotinamide adenine dinucleotide phosphate\n",
      "\n",
      "TD01GL000448\n",
      "(3R)-3-hydroxypentanoyl-CoA + Nicotinamide adenine dinucleotide phosphate --> 3-oxopentanoyl-CoA + Nicotinamide adenine dinucleotide phosphate - reduced + H+\n",
      "\n",
      "TD01GL001300 or TD01GL001318 or TD01GL001328 or TD01GL000367\n",
      "2.0 Acetyl-CoA <=> Acetoacetyl-CoA + Coenzyme A\n",
      "\n",
      "NGAM: ATP_c + CPD-15815_c --> ADP_c + PROTON_c + Pi_c\n",
      "Number of reactions: 3100\n",
      "Number of metabolits: 3254\n",
      "Number of compartments: 3 {'c': '', 'p': '', 'e': ''}\n",
      "Number of genes: 1398\n",
      "Number of missing genes: 0\n",
      "Number of reactions with missing genes: 0\n",
      "\n"
     ]
    }
   ],
   "source": [
    "run_pipeline('../Results/halo_metacyc_kegg_curated_compart_with_eco_without_missing_medium_biomass_gapfilled.pkl',\n",
    "             '../Results/halo_metacyc_kegg_curated_compart_with_eco_without_missing_medium_biomass_gapfilled_PHA_NGAM.pkl')"
   ]
  },
  {
   "cell_type": "code",
   "execution_count": null,
   "metadata": {},
   "outputs": [],
   "source": []
  }
 ],
 "metadata": {
  "kernelspec": {
   "display_name": "Python 3",
   "language": "python",
   "name": "python3"
  },
  "language_info": {
   "codemirror_mode": {
    "name": "ipython",
    "version": 3
   },
   "file_extension": ".py",
   "mimetype": "text/x-python",
   "name": "python",
   "nbconvert_exporter": "python",
   "pygments_lexer": "ipython3",
   "version": "3.7.2"
  }
 },
 "nbformat": 4,
 "nbformat_minor": 2
}
