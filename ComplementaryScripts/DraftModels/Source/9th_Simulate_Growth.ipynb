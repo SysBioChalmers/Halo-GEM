{
 "cells": [
  {
   "cell_type": "code",
   "execution_count": 1,
   "metadata": {},
   "outputs": [],
   "source": [
    "import cobra\n",
    "import numpy as np\n",
    "from cobra import *\n",
    "import os\n",
    "import matplotlib.pyplot as plt\n",
    "import pickle\n",
    "from tools import report_model_status"
   ]
  },
  {
   "cell_type": "code",
   "execution_count": 2,
   "metadata": {},
   "outputs": [],
   "source": [
    "ecpy_path = '../../../ecpy/'\n",
    "sys.path.append(os.path.abspath(ecpy_path))\n",
    "import utils\n",
    "import ecpy"
   ]
  },
  {
   "cell_type": "code",
   "execution_count": 3,
   "metadata": {},
   "outputs": [
    {
     "data": {
      "text/plain": [
       "<module 'utils' from '/Users/gangl/Documents/GitHub/Halo-GEM/ecpy/utils.py'>"
      ]
     },
     "execution_count": 3,
     "metadata": {},
     "output_type": "execute_result"
    }
   ],
   "source": [
    "import importlib\n",
    "importlib.reload(utils)"
   ]
  },
  {
   "cell_type": "code",
   "execution_count": 4,
   "metadata": {},
   "outputs": [],
   "source": [
    "infiles = [\n",
    "    #'../Results/halo_metacycmodel_100_curated_compart_with_eco_medium_biomass_gapfilled_PHA_NGAM.pkl',\n",
    "    # '../Results/halo_metacyc_kegg_curated_compart_with_eco_medium_biomass_gapfilled_PHA_NGAM.pkl',\n",
    "    '../Results/halo_metacycmodel_100_curated_compart_with_eco_without_missing_medium_biomass_gapfilled_PHA_NGAM.pkl',\n",
    "     #'../Results/halo_metacyc_kegg_curated_compart_with_eco_without_missing_medium_biomass_gapfilled_PHA_NGAM.pkl'\n",
    "]\n",
    "tags = [\n",
    "    #'WithMissingGene_Metacyc',\n",
    "    #'WithMissingGene_Metacyc_KEGG',\n",
    "    'WithoutMissingGene_Metacyc',\n",
    "    #'WithoutMissingGene_Metacyc_KEGG',\n",
    "]"
   ]
  },
  {
   "cell_type": "markdown",
   "metadata": {},
   "source": [
    "#### 1. Test the effect of glucose uptake\n",
    "NGAM = 6.86"
   ]
  },
  {
   "cell_type": "code",
   "execution_count": 5,
   "metadata": {},
   "outputs": [],
   "source": [
    "def test_glc_uptake_on_growth(model_file,tag):\n",
    "    #print(model_file)\n",
    "    halo_model = pickle.load(open(model_file,'rb'))\n",
    "    print()\n",
    "    print(tag)\n",
    "    report_model_status(halo_model)\n",
    "    \n",
    "    print('NGAM:',halo_model.reactions.NGAM.lower_bound)\n",
    "    print(utils.test_biomass_production(halo_model))\n",
    "    utils.test_glucose(halo_model)"
   ]
  },
  {
   "cell_type": "code",
   "execution_count": 6,
   "metadata": {
    "scrolled": false
   },
   "outputs": [
    {
     "name": "stdout",
     "output_type": "stream",
     "text": [
      "Using license file /Users/gangl/gurobi.lic\n",
      "Academic license - for non-commercial use only\n",
      "Read LP format model from file /var/folders/dx/ghtq02dx2w307xx_5hncb421qny3_w/T/tmp1b8sodag.lp\n",
      "Reading time = 0.04 seconds\n",
      ": 2339 rows, 4538 columns, 21378 nonzeros\n",
      "\n",
      "WithoutMissingGene_Metacyc\n",
      "Number of reactions: 2269\n",
      "Number of metabolits: 2339\n",
      "Number of compartments: 3 {'c': '', 'p': '', 'e': ''}\n",
      "Number of genes: 1358\n",
      "Number of missing genes: 5\n",
      "Number of reactions with missing genes: 3\n",
      "\n",
      "NGAM: 6.86\n"
     ]
    },
    {
     "name": "stderr",
     "output_type": "stream",
     "text": [
      "cobra/util/solver.py:416 \u001b[1;31mUserWarning\u001b[0m: solver status is 'infeasible'\n"
     ]
    },
    {
     "name": "stdout",
     "output_type": "stream",
     "text": [
      "(<Solution infeasible at 0x1327c2d278>, <Solution 1.342 at 0x1327c2d630>)\n"
     ]
    },
    {
     "data": {
      "image/png": "[encoded data removed]",
      "text/plain": [
       "<Figure size 504x216 with 2 Axes>"
      ]
     },
     "metadata": {
      "needs_background": "light"
     },
     "output_type": "display_data"
    }
   ],
   "source": [
    "for i,infile in enumerate(infiles):test_glc_uptake_on_growth(infile,tags[i])"
   ]
  },
  {
   "cell_type": "markdown",
   "metadata": {},
   "source": [
    "#### 2. test the effect of NGAM\n",
    "Fix glucose uptake rate as 10.0"
   ]
  },
  {
   "cell_type": "code",
   "execution_count": 7,
   "metadata": {},
   "outputs": [],
   "source": [
    "def test_NGAM_on_growth(model_file,tag):\n",
    "    halo_model = pickle.load(open(model_file,'rb'))\n",
    "    utils.set_bound(halo_model,'Exchange_Glucopyranose',ub=10.0)\n",
    "    print()\n",
    "    print(tag)\n",
    "    print(utils.test_biomass_production(halo_model))\n",
    "    utils.test_NGAM(halo_model)\n"
   ]
  },
  {
   "cell_type": "code",
   "execution_count": 8,
   "metadata": {},
   "outputs": [
    {
     "name": "stdout",
     "output_type": "stream",
     "text": [
      "Read LP format model from file /var/folders/dx/ghtq02dx2w307xx_5hncb421qny3_w/T/tmpe52oobkz.lp\n",
      "Reading time = 0.02 seconds\n",
      ": 2339 rows, 4538 columns, 21378 nonzeros\n",
      "\n",
      "WithoutMissingGene_Metacyc\n",
      "(<Solution 0.598 at 0x1327dae860>, <Solution 13.419 at 0x1327dae160>)\n"
     ]
    },
    {
     "data": {
      "image/png": "[encoded data removed]",
      "text/plain": [
       "<Figure size 504x216 with 2 Axes>"
      ]
     },
     "metadata": {
      "needs_background": "light"
     },
     "output_type": "display_data"
    }
   ],
   "source": [
    "for i,infile in enumerate(infiles):test_NGAM_on_growth(infile,tags[i])"
   ]
  },
  {
   "cell_type": "markdown",
   "metadata": {},
   "source": [
    "#### 4. PHA production"
   ]
  },
  {
   "cell_type": "code",
   "execution_count": 9,
   "metadata": {},
   "outputs": [],
   "source": [
    "def test_PHA_on_growth(model_file,tag):\n",
    "    halo_model = pickle.load(open(model_file,'rb'))\n",
    "    utils.set_bound(halo_model,'Exchange_Glucopyranose',ub=10.0)\n",
    "    print()\n",
    "    print(tag)\n",
    "    print(utils.test_biomass_production(halo_model))\n",
    "    utils.test_PHA(halo_model,ys=np.arange(0,20))"
   ]
  },
  {
   "cell_type": "code",
   "execution_count": 10,
   "metadata": {},
   "outputs": [
    {
     "name": "stdout",
     "output_type": "stream",
     "text": [
      "Read LP format model from file /var/folders/dx/ghtq02dx2w307xx_5hncb421qny3_w/T/tmp5c0_yhvu.lp\n",
      "Reading time = 0.03 seconds\n",
      ": 2339 rows, 4538 columns, 21378 nonzeros\n",
      "\n",
      "WithoutMissingGene_Metacyc\n",
      "(<Solution 0.598 at 0x13284b7940>, <Solution 13.419 at 0x1327e7e208>)\n"
     ]
    },
    {
     "name": "stderr",
     "output_type": "stream",
     "text": [
      "cobra/util/solver.py:416 \u001b[1;31mUserWarning\u001b[0m: solver status is 'infeasible'\n"
     ]
    },
    {
     "data": {
      "image/png": "[encoded data removed]",
      "text/plain": [
       "<Figure size 504x216 with 2 Axes>"
      ]
     },
     "metadata": {
      "needs_background": "light"
     },
     "output_type": "display_data"
    }
   ],
   "source": [
    "for i,infile in enumerate(infiles):test_PHA_on_growth(infile,tags[i])"
   ]
  },
  {
   "cell_type": "code",
   "execution_count": null,
   "metadata": {},
   "outputs": [],
   "source": []
  },
  {
   "cell_type": "markdown",
   "metadata": {},
   "source": [
    "#### 5. Test ATP production "
   ]
  },
  {
   "cell_type": "code",
   "execution_count": 11,
   "metadata": {},
   "outputs": [],
   "source": [
    "def test_glc_on_atp_sink(model_file,tag):\n",
    "    halo_model = pickle.load(open(model_file,'rb'))\n",
    "    print()\n",
    "    print(tag)\n",
    "    print('NGAM:',halo_model.reactions.NGAM.lower_bound)\n",
    "    print(utils.test_biomass_production(halo_model))\n",
    "    \n",
    "    utils.set_bound(halo_model,'NGAM',eq=0)\n",
    "    print('NGAM:',halo_model.reactions.NGAM.lower_bound)\n",
    "    print(utils.test_biomass_production(halo_model))\n",
    "\n",
    "    utils.test_Glc_to_ATP(halo_model)\n",
    "    del halo_model"
   ]
  },
  {
   "cell_type": "code",
   "execution_count": 12,
   "metadata": {},
   "outputs": [
    {
     "name": "stdout",
     "output_type": "stream",
     "text": [
      "Read LP format model from file /var/folders/dx/ghtq02dx2w307xx_5hncb421qny3_w/T/tmpi7cv6jx4.lp\n",
      "Reading time = 0.02 seconds\n",
      ": 2339 rows, 4538 columns, 21378 nonzeros\n",
      "\n",
      "WithoutMissingGene_Metacyc\n",
      "NGAM: 6.86\n"
     ]
    },
    {
     "name": "stderr",
     "output_type": "stream",
     "text": [
      "cobra/util/solver.py:416 \u001b[1;31mUserWarning\u001b[0m: solver status is 'infeasible'\n"
     ]
    },
    {
     "name": "stdout",
     "output_type": "stream",
     "text": [
      "(<Solution infeasible at 0x1328a0bf28>, <Solution 1.342 at 0x1328a0b320>)\n",
      "NGAM: 0\n",
      "(<Solution 0.031 at 0x1328a0bf28>, <Solution 1.342 at 0x1328a0ba90>)\n"
     ]
    },
    {
     "data": {
      "image/png": "[encoded data removed]",
      "text/plain": [
       "<Figure size 504x216 with 2 Axes>"
      ]
     },
     "metadata": {
      "needs_background": "light"
     },
     "output_type": "display_data"
    }
   ],
   "source": [
    "for i,infile in enumerate(infiles):test_glc_on_atp_sink(infile,tags[i])"
   ]
  },
  {
   "cell_type": "markdown",
   "metadata": {},
   "source": [
    "#### Test NGAM maximization"
   ]
  },
  {
   "cell_type": "code",
   "execution_count": 13,
   "metadata": {},
   "outputs": [],
   "source": [
    "def tset_glc_on_NGAM(model_file,tag):\n",
    "    halo_model = pickle.load(open(model_file,'rb'))\n",
    "    print()\n",
    "    print(tag)\n",
    "    print(utils.test_biomass_production(halo_model))\n",
    "    utils.test_Glc_to_NGAM(halo_model)\n",
    "    del halo_model"
   ]
  },
  {
   "cell_type": "code",
   "execution_count": 14,
   "metadata": {},
   "outputs": [
    {
     "name": "stdout",
     "output_type": "stream",
     "text": [
      "Read LP format model from file /var/folders/dx/ghtq02dx2w307xx_5hncb421qny3_w/T/tmpt5jq5g9c.lp\n",
      "Reading time = 0.03 seconds\n",
      ": 2339 rows, 4538 columns, 21378 nonzeros\n",
      "\n",
      "WithoutMissingGene_Metacyc\n"
     ]
    },
    {
     "name": "stderr",
     "output_type": "stream",
     "text": [
      "cobra/util/solver.py:416 \u001b[1;31mUserWarning\u001b[0m: solver status is 'infeasible'\n"
     ]
    },
    {
     "name": "stdout",
     "output_type": "stream",
     "text": [
      "(<Solution infeasible at 0x132831a048>, <Solution 1.342 at 0x132831aac8>)\n",
      "[[-27.44, 718.7922222222222], [4.069999999999993, 718.9588888888889], [11.569999999999993, 719.1255555555559], [19.069999999999993, 719.2922222222222], [26.570000000001713, 719.4588888888894], [34.069999999999936, 719.6255555555556], [41.56999999999969, 719.7922222222221], [49.06999999999971, 719.9588888888889], [56.569999999999936, 720.1255555555555], [64.06999999999994, 720.2922222222222], [71.56999999999971, 720.4588888888889], [79.07000000000006, 720.6255555555558], [86.57000000000171, 720.7922222222222], [94.07000000000174, 720.9588888888889], [101.56999999999833, 721.1255555555556], [109.06999999999994, 721.2922222222222], [116.56999999999991, 721.458888888889], [124.06999999999971, 721.6255555555556], [131.56999999999985, 721.7922222222221], [139.06999999999994, 721.9588888888889]]\n"
     ]
    },
    {
     "data": {
      "image/png": "[encoded data removed]",
      "text/plain": [
       "<Figure size 504x216 with 2 Axes>"
      ]
     },
     "metadata": {
      "needs_background": "light"
     },
     "output_type": "display_data"
    }
   ],
   "source": [
    "for i,infile in enumerate(infiles):tset_glc_on_NGAM(infile,tags[i])"
   ]
  },
  {
   "cell_type": "markdown",
   "metadata": {},
   "source": [
    "#### Test case in ecoli model"
   ]
  },
  {
   "cell_type": "code",
   "execution_count": null,
   "metadata": {},
   "outputs": [],
   "source": []
  },
  {
   "cell_type": "code",
   "execution_count": 15,
   "metadata": {},
   "outputs": [],
   "source": [
    "eco_model = cobra.io.read_sbml_model('../../../ComplementaryData/iML1515.xml')"
   ]
  },
  {
   "cell_type": "code",
   "execution_count": 16,
   "metadata": {},
   "outputs": [
    {
     "name": "stdout",
     "output_type": "stream",
     "text": [
      "[0.0, 23.50000000000003, 47.00000000000005, 70.50000000000009, 94.0000000000001, 117.5000000000001, 141.00000000000017, 164.50000000000017, 188.0000000000002, 211.5000000000002, 235.0000000000002, 258.50000000000034, 282.00000000000034, 305.5000000000003, 329.00000000000034, 352.5000000000004, 376.0000000000004, 399.5000000000003, 423.0000000000004, 446.5000000000007]\n"
     ]
    },
    {
     "data": {
      "image/png": "[encoded data removed]",
      "text/plain": [
       "<Figure size 288x216 with 1 Axes>"
      ]
     },
     "metadata": {
      "needs_background": "light"
     },
     "output_type": "display_data"
    }
   ],
   "source": [
    "utils.test_Glc_to_NGAM_ecoli(eco_model)"
   ]
  },
  {
   "cell_type": "code",
   "execution_count": 17,
   "metadata": {},
   "outputs": [
    {
     "name": "stdout",
     "output_type": "stream",
     "text": [
      "[0.0, 0.5191897654584202, 1.0383795309168404, 1.5575692963752656, 2.076759061833681, 2.595948827292115, 3.1151385927505313, 3.6343283582089616, 4.153518123667362, 4.672707889125785, 5.19189765458423, 5.711087420042645, 6.230277185501063, 6.749466950959519, 7.268656716417923, 7.78784648187635, 8.307036247334723, 8.826226012793192, 9.34541577825157, 9.864605543710047]\n"
     ]
    },
    {
     "data": {
      "image/png": "[encoded data removed]",
      "text/plain": [
       "<Figure size 288x216 with 1 Axes>"
      ]
     },
     "metadata": {
      "needs_background": "light"
     },
     "output_type": "display_data"
    }
   ],
   "source": [
    "utils.test_Glc_to_ATP_ecoli(eco_model)"
   ]
  },
  {
   "cell_type": "markdown",
   "metadata": {},
   "source": [
    "#### Choose the one as model_v1"
   ]
  },
  {
   "cell_type": "code",
   "execution_count": 18,
   "metadata": {},
   "outputs": [],
   "source": [
    "def remove_missing_genes_in_and(gr):\n",
    "    genes = gr.split('and')\n",
    "    new_gr = ''\n",
    "    for item in genes:\n",
    "        if 'missing' in item: continue\n",
    "        new_gr += item.strip() + ' and '\n",
    "    new_gr = new_gr[:-5].strip()\n",
    "    print('old:',gr)\n",
    "    print('new:',new_gr)\n",
    "    print()\n",
    "    return new_gr"
   ]
  },
  {
   "cell_type": "code",
   "execution_count": 19,
   "metadata": {},
   "outputs": [],
   "source": [
    "def remove_missing_genes_in_model(model):\n",
    "    updated_rxns = list()\n",
    "    for rxn in model.reactions:\n",
    "        if '_missing' in rxn.gene_reaction_rule:\n",
    "            print(rxn.id)\n",
    "            print(rxn.reaction)\n",
    "            old_gr = rxn.gene_reaction_rule\n",
    "            new_gr = remove_missing_genes_in_and(old_gr)\n",
    "            rxn.gene_reaction_rule = new_gr\n",
    "            rxn.notes['old_gr']= old_gr\n",
    "        updated_rxns.append(rxn)\n",
    "\n",
    "    print()\n",
    "    new_model = cobra.Model('model_v1')\n",
    "    new_model.add_reactions(updated_rxns)\n",
    "    report_model_status(new_model)\n",
    "    return new_model"
   ]
  },
  {
   "cell_type": "code",
   "execution_count": 20,
   "metadata": {},
   "outputs": [],
   "source": [
    "def save_chosen_one_as_model_v1(choosen_one):\n",
    "    model = pickle.load(open(choosen_one,'rb'))\n",
    "    report_model_status(model)\n",
    "    \n",
    "    updated_model = remove_missing_genes_in_model(model)\n",
    "    for met in updated_model.metabolites:\n",
    "        try: met.charge = int(met.charge)\n",
    "        except: met.charge=None\n",
    "    utils.save_model_into_formats(updated_model,'../../../ModelFiles/','Halo_GEM_v1')"
   ]
  },
  {
   "cell_type": "code",
   "execution_count": 21,
   "metadata": {},
   "outputs": [],
   "source": [
    "choosen_one = '../Results/halo_metacycmodel_100_curated_compart_with_eco_without_missing_medium_biomass_gapfilled_PHA_NGAM.pkl'"
   ]
  },
  {
   "cell_type": "code",
   "execution_count": 22,
   "metadata": {},
   "outputs": [
    {
     "name": "stdout",
     "output_type": "stream",
     "text": [
      "Read LP format model from file /var/folders/dx/ghtq02dx2w307xx_5hncb421qny3_w/T/tmpdpwfct7z.lp\n",
      "Reading time = 0.02 seconds\n",
      ": 2339 rows, 4538 columns, 21378 nonzeros\n",
      "Number of reactions: 2269\n",
      "Number of metabolits: 2339\n",
      "Number of compartments: 3 {'c': '', 'p': '', 'e': ''}\n",
      "Number of genes: 1358\n",
      "Number of missing genes: 5\n",
      "Number of reactions with missing genes: 3\n",
      "\n",
      "SULFITE-REDUCT-RXN\n",
      "H2SO3_c + 3.0 NADPH_c + 5.0 PROTON_c --> 3.0 CPD-15815_c + CPD-7046_c + 3.0 NADP_c\n",
      "old: TD01GL001837 and b2764_missing\n",
      "new: TD01GL001837\n",
      "\n",
      "K2L4Aabctex\n",
      "ATP_c + CPD-15815_c + KDO2-LIPID-IVA_p --> ADP_c + CPD-16459_c + KDO2-LIPID-IVA_e + PROTON_c\n",
      "old: TD01GL000592 and TD01GL000593 and TD01GL002340 and TD01GL002341 and TD01GL002916 and b0641_missing and b3199_missing\n",
      "new: TD01GL000592 and TD01GL000593 and TD01GL002340 and TD01GL002341 and TD01GL002916\n",
      "\n",
      "THZPSN3\n",
      "ATP_c + CPD-12279_c + DEOXYXYLULOSE-5P_c + NADPH_c + PROTON_c + iscssh_c --> AMP_c + CARBON-DIOXIDE_c + 2.0 CPD-15815_c + NADP_c + PPI_c + THZ-P_c + iscs_c\n",
      "old: TD01GL000663 and TD01GL001192 and TD01GL003669 and b0423_missing and b3990_missing\n",
      "new: TD01GL000663 and TD01GL001192 and TD01GL003669\n",
      "\n",
      "\n",
      "Number of reactions: 2269\n",
      "Number of metabolits: 2339\n",
      "Number of compartments: 3 {'c': '', 'p': '', 'e': ''}\n",
      "Number of genes: 1353\n",
      "Number of missing genes: 0\n",
      "Number of reactions with missing genes: 0\n",
      "\n",
      "Saved ../../../ModelFiles/xml/Halo_GEM_v1.xml\n",
      "Saved ../../../ModelFiles/mat/Halo_GEM_v1.mat\n",
      "Saved ../../../ModelFiles/json/Halo_GEM_v1.json\n",
      "\n"
     ]
    }
   ],
   "source": [
    "save_chosen_one_as_model_v1(choosen_one)"
   ]
  },
  {
   "cell_type": "code",
   "execution_count": null,
   "metadata": {},
   "outputs": [],
   "source": []
  }
 ],
 "metadata": {
  "kernelspec": {
   "display_name": "Python 3",
   "language": "python",
   "name": "python3"
  },
  "language_info": {
   "codemirror_mode": {
    "name": "ipython",
    "version": 3
   },
   "file_extension": ".py",
   "mimetype": "text/x-python",
   "name": "python",
   "nbconvert_exporter": "python",
   "pygments_lexer": "ipython3",
   "version": "3.7.2"
  }
 },
 "nbformat": 4,
 "nbformat_minor": 2
}
