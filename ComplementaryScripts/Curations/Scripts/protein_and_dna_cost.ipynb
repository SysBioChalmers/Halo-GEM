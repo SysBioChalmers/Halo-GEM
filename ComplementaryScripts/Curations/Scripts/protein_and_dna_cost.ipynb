{
 "cells": [
  {
   "cell_type": "markdown",
   "metadata": {},
   "source": [
    "The simulation was done by:  \n",
    "(1) block the free uptake of amino acids  \n",
    "(2) set the glucose uptake as 1 mmol/gDW/h  \n",
    "(3) add reaction --> met, met is one of amino acids or dNTP\n",
    "(4) maximize the flux in (3)  \n",
    "(5) the objective value is the maximal amount of aa or dNTP produced from 1 mmol/gDW/h glucose\n",
    "(6) the cost is defined as the amount of glucose required to produce 1 mmol/gDW/h aa or dNTP. \n"
   ]
  },
  {
   "cell_type": "code",
   "execution_count": 1,
   "metadata": {},
   "outputs": [],
   "source": [
    "import cobra\n",
    "import pandas as pd\n",
    "import sys, os\n",
    "import xlrd\n",
    "from Bio.PDB.Polypeptide import one_to_three"
   ]
  },
  {
   "cell_type": "code",
   "execution_count": 2,
   "metadata": {},
   "outputs": [],
   "source": [
    "ecpy_path = '../../../ecpy/'\n",
    "sys.path.append(os.path.abspath(ecpy_path))\n",
    "import utils\n",
    "import ecpy"
   ]
  },
  {
   "cell_type": "code",
   "execution_count": 3,
   "metadata": {},
   "outputs": [
    {
     "name": "stdout",
     "output_type": "stream",
     "text": [
      "Using license file /Users/gangl/gurobi.lic\n",
      "Academic license - for non-commercial use only\n"
     ]
    }
   ],
   "source": [
    "model_file = '../../../ModelFiles/json/Halo_GEM_v1.json'\n",
    "model = cobra.io.load_json_model(model_file)"
   ]
  },
  {
   "cell_type": "code",
   "execution_count": 4,
   "metadata": {},
   "outputs": [],
   "source": [
    "def get_cost(met_id,model):\n",
    "    with model:\n",
    "        utils.set_yeast_extraction(model,lb=0,ub=0)\n",
    "        # set NGAM as 0\n",
    "        model.reactions.NGAM.lower_bound = 0\n",
    "        model.reactions.NGAM.upper_bound = 0\n",
    "        \n",
    "        # set glucose uptake as 1\n",
    "        model.reactions.Exchange_Glucopyranose.upper_bound = 1\n",
    "        \n",
    "        # add met sink reaction\n",
    "        rxn_id = 'tmp'\n",
    "        rxn_sink = cobra.Reaction(rxn_id)\n",
    "        rxn_sink.add_metabolites({model.metabolites.get_by_id(met_id):-1})\n",
    "        model.add_reaction(rxn_sink)\n",
    "        model.objective = 'tmp'\n",
    "        model.objective_direction = 'max'\n",
    "        f1 = model.optimize().objective_value\n",
    "    return 1/f1"
   ]
  },
  {
   "cell_type": "code",
   "execution_count": 5,
   "metadata": {},
   "outputs": [],
   "source": [
    "def format_aa(aa_id):\n",
    "    old2new = {\n",
    "        'GLT': 'GLU',\n",
    "        'L-ALPHA-ALANINE': 'ALA',\n",
    "        'L-ASPARTATE': 'ASP'\n",
    "    }\n",
    "    return old2new.get(aa_id,aa_id)"
   ]
  },
  {
   "cell_type": "code",
   "execution_count": 6,
   "metadata": {},
   "outputs": [
    {
     "name": "stdout",
     "output_type": "stream",
     "text": [
      "     cost(mmolGlc/mmolMet)\n",
      "ARG               3.129890\n",
      "ASN               1.564945\n",
      "CYS               2.699531\n",
      "GLN               2.034429\n",
      "GLU               1.877934\n",
      "GLY               0.704225\n",
      "HIS               3.247261\n",
      "ILE               3.129890\n",
      "ALA               1.095462\n",
      "ASP               1.251956\n",
      "LEU               2.816901\n",
      "LYS               2.973396\n",
      "MET               4.342723\n",
      "PHE               4.733959\n",
      "PRO               2.347418\n",
      "SER               1.251956\n",
      "THR               1.877934\n",
      "TRP               5.985915\n",
      "TYR               4.577465\n",
      "VAL               2.190923\n"
     ]
    }
   ],
   "source": [
    "AAcost = pd.DataFrame()\n",
    "for met in model.reactions.Protein_synthesis.reactants:\n",
    "    aa = format_aa(met.id.replace('_c',''))\n",
    "    AAcost.loc[aa,'cost(mmolGlc/mmolMet)'] = get_cost(met.id,model)\n",
    "AAcost.to_csv('../ProteinDNACost/aa_cost.csv')\n",
    "print(AAcost)"
   ]
  },
  {
   "cell_type": "code",
   "execution_count": 7,
   "metadata": {},
   "outputs": [
    {
     "name": "stdout",
     "output_type": "stream",
     "text": [
      "      cost(mmolGlc/mmolMet)\n",
      "DATP               5.594679\n",
      "DCTP               4.851330\n",
      "DGTP               5.594679\n",
      "TTP                5.555556\n"
     ]
    }
   ],
   "source": [
    "dNTPcost = pd.DataFrame()\n",
    "for met in model.reactions.DNA_synthesis.reactants:\n",
    "    dNTPcost.loc[met.id.replace('_c',''),'cost(mmolGlc/mmolMet)'] = get_cost(met.id,model)\n",
    "dNTPcost.to_csv('../ProteinDNACost/dNTP_cost.csv')\n",
    "print(dNTPcost)"
   ]
  },
  {
   "cell_type": "code",
   "execution_count": 9,
   "metadata": {},
   "outputs": [
    {
     "name": "stdout",
     "output_type": "stream",
     "text": [
      "     cost(mmolGlc/mmolMet)\n",
      "ATP               5.438185\n",
      "CTP               4.694836\n",
      "GTP               5.438185\n",
      "UTP               4.381847\n"
     ]
    }
   ],
   "source": [
    "NTPcost = pd.DataFrame()\n",
    "for met in model.reactions.RNA_synthesis.reactants:\n",
    "    NTPcost.loc[met.id.replace('_c',''),'cost(mmolGlc/mmolMet)'] = get_cost(met.id,model)\n",
    "dNTPcost.to_csv('../ProteinDNACost/NTP_cost.csv')\n",
    "print(NTPcost)"
   ]
  },
  {
   "cell_type": "markdown",
   "metadata": {},
   "source": [
    "#### Calculate the protein cost"
   ]
  },
  {
   "cell_type": "code",
   "execution_count": 10,
   "metadata": {},
   "outputs": [],
   "source": [
    "one2dNTP = {\n",
    "    'a':'DATP',\n",
    "    'c': 'DCTP',\n",
    "    't': 'TTP',\n",
    "    'g': 'DGTP'\n",
    "           }"
   ]
  },
  {
   "cell_type": "code",
   "execution_count": 11,
   "metadata": {},
   "outputs": [],
   "source": [
    "one2NTP = {\n",
    "    'a':'ATP',\n",
    "    'c': 'CTP',\n",
    "    't': 'UTP',\n",
    "    'g': 'GTP'\n",
    "           }"
   ]
  },
  {
   "cell_type": "code",
   "execution_count": 12,
   "metadata": {},
   "outputs": [],
   "source": [
    "def get_protein_cost(seq):\n",
    "    cost = 0\n",
    "    for aa in seq: cost += AAcost.loc[one_to_three(aa),'cost(mmolGlc/mmolMet)']\n",
    "    return cost"
   ]
  },
  {
   "cell_type": "code",
   "execution_count": 13,
   "metadata": {},
   "outputs": [],
   "source": [
    "def get_dna_cost(seq):\n",
    "    cost = 0\n",
    "    for nn in seq: cost += dNTPcost.loc[one2dNTP[nn],'cost(mmolGlc/mmolMet)']\n",
    "    return cost"
   ]
  },
  {
   "cell_type": "code",
   "execution_count": 17,
   "metadata": {},
   "outputs": [],
   "source": [
    "def get_rna_cost(seq):\n",
    "    cost = 0\n",
    "    for nn in seq: cost += NTPcost.loc[one2NTP[nn],'cost(mmolGlc/mmolMet)']\n",
    "    return cost"
   ]
  },
  {
   "cell_type": "code",
   "execution_count": 18,
   "metadata": {},
   "outputs": [],
   "source": [
    "annofile = '../../../../Halo-Omics/genomics/Tsinghua/genomic annotation of TD Chromosome-3rd seq-Version3.0-20200527.xlsx'\n",
    "book = xlrd.open_workbook(annofile)\n",
    "sh = book.sheet_by_name('CDS')\n"
   ]
  },
  {
   "cell_type": "code",
   "execution_count": 19,
   "metadata": {},
   "outputs": [
    {
     "name": "stdout",
     "output_type": "stream",
     "text": [
      "                       dna           rna      protein\n",
      "TD01GL000001   7939.593114   7337.715180  1119.561815\n",
      "TD01GL000002   5981.611894   5514.866980   812.989045\n",
      "TD01GL000003   6751.056338   6240.884194   993.192488\n",
      "TD01GL000004  13118.348983  12129.147105  1850.743349\n",
      "TD01GL000005   3128.873239   2891.784038   424.178404\n"
     ]
    }
   ],
   "source": [
    "protein_cost = pd.DataFrame()\n",
    "for i in range(sh.nrows-2):\n",
    "    i += 2\n",
    "    ID = sh.cell(i,2).value\n",
    "    dna_seq  = sh.cell(i,12).value.replace('*','')\n",
    "    prot_seq = sh.cell(i,13).value.replace('*','')\n",
    "    \n",
    "    dna_cost = get_dna_cost(dna_seq)\n",
    "    prot_cost = get_protein_cost(prot_seq)\n",
    "    rna_cost = get_rna_cost(dna_seq)\n",
    "    \n",
    "    protein_cost.loc[ID,'dna'] = dna_cost\n",
    "    protein_cost.loc[ID,'rna'] = rna_cost\n",
    "    protein_cost.loc[ID,'protein'] = prot_cost\n",
    "    \n",
    "print(protein_cost.head(5))"
   ]
  },
  {
   "cell_type": "code",
   "execution_count": 20,
   "metadata": {},
   "outputs": [],
   "source": [
    "protein_cost.to_csv('../ProteinDNACost/protein_cost.csv')"
   ]
  },
  {
   "cell_type": "code",
   "execution_count": null,
   "metadata": {},
   "outputs": [],
   "source": []
  }
 ],
 "metadata": {
  "kernelspec": {
   "display_name": "Python 3",
   "language": "python",
   "name": "python3"
  },
  "language_info": {
   "codemirror_mode": {
    "name": "ipython",
    "version": 3
   },
   "file_extension": ".py",
   "mimetype": "text/x-python",
   "name": "python",
   "nbconvert_exporter": "python",
   "pygments_lexer": "ipython3",
   "version": "3.7.2"
  }
 },
 "nbformat": 4,
 "nbformat_minor": 2
}
