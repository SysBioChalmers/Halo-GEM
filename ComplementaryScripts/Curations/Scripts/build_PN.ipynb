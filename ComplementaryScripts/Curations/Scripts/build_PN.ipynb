{
 "cells": [
  {
   "cell_type": "code",
   "execution_count": 1,
   "metadata": {},
   "outputs": [],
   "source": [
    "import cobra\n",
    "import pandas as pd"
   ]
  },
  {
   "cell_type": "code",
   "execution_count": 2,
   "metadata": {},
   "outputs": [],
   "source": [
    "def is_in_c(rxn):\n",
    "    ans = True\n",
    "    for met in rxn.metabolites:\n",
    "        if met.compartment != 'c': ans = False\n",
    "    return ans"
   ]
  },
  {
   "cell_type": "code",
   "execution_count": 3,
   "metadata": {},
   "outputs": [],
   "source": [
    "model_file = '../../../ModelFiles/json/Halo_GEM_v1.json'"
   ]
  },
  {
   "cell_type": "code",
   "execution_count": 4,
   "metadata": {},
   "outputs": [],
   "source": [
    "model = cobra.io.load_json_model(model_file)"
   ]
  },
  {
   "cell_type": "code",
   "execution_count": 6,
   "metadata": {},
   "outputs": [],
   "source": [
    "Halo_PN = open('../Cytoscape/halo-network.tsv','w')\n",
    "Halo_PN.write('Source\\tTarget\\n')\n",
    "\n",
    "RXN = open('../Cytoscape/rxns.tsv','w')\n",
    "RXN.write('ID\\tName\\tGenes\\tSubsystem\\n')\n",
    "\n",
    "NODE = open('../Cytoscape/node_type.tsv','w')\n",
    "NODE.write('ID\\tType\\n')\n",
    "\n",
    "for rxn in model.reactions:\n",
    "    if not is_in_c(rxn): continue\n",
    "    RXN.write('{0}\\t{1}\\t{2}\\t{3}\\n'.format(rxn.id,rxn.name,';'.join([g.id for g in rxn.genes]),rxn.subsystem))\n",
    "    NODE.write('{0}\\t{1}\\n'.format(rxn.id,'RXN'))\n",
    "    for met in rxn.reactants: Halo_PN.write('{0}\\t{1}\\n'.format(met.id,rxn.id))\n",
    "    for met in rxn.products: Halo_PN.write('{0}\\t{1}\\n'.format(rxn.id,met.id))\n",
    "Halo_PN.close()\n",
    "RXN.close()"
   ]
  },
  {
   "cell_type": "code",
   "execution_count": null,
   "metadata": {},
   "outputs": [],
   "source": []
  },
  {
   "cell_type": "code",
   "execution_count": 6,
   "metadata": {},
   "outputs": [],
   "source": [
    "MET = open('../Cytoscape/mets.tsv','w')\n",
    "MET.write('ID\\tName\\n')\n",
    "for met in model.metabolites: \n",
    "    if met.compartment != 'c': continue\n",
    "    MET.write('{0}\\t{1}\\n'.format(met.id,met.name))\n",
    "    NODE.write('{0}\\t{1}\\n'.format(met.id,'MET'))\n",
    "MET.close()\n",
    "NODE.close()"
   ]
  },
  {
   "cell_type": "code",
   "execution_count": 7,
   "metadata": {},
   "outputs": [
    {
     "name": "stdout",
     "output_type": "stream",
     "text": [
      "Source\tTarget\r\n",
      "CHOLINE_c\tRXN-6021\r\n",
      "NAD_c\tRXN-6021\r\n",
      "RXN-6021\tBETAINE_ALDEHYDE_c\r\n",
      "RXN-6021\tNADH_c\r\n",
      "RXN-6021\tPROTON_c\r\n",
      "DEOXY-RIBOSE-5P_c\tDEOXYRIBOSE-P-ALD-RXN\r\n",
      "DEOXYRIBOSE-P-ALD-RXN\tACETALD_c\r\n",
      "DEOXYRIBOSE-P-ALD-RXN\tGAP_c\r\n",
      "THR_c\tTHREONINE-ALDOLASE-RXN\r\n"
     ]
    }
   ],
   "source": [
    "!head ../Results/halo-network.tsv"
   ]
  },
  {
   "cell_type": "code",
   "execution_count": 8,
   "metadata": {},
   "outputs": [
    {
     "name": "stdout",
     "output_type": "stream",
     "text": [
      "head: ../Results/mets.csv: No such file or directory\r\n"
     ]
    }
   ],
   "source": [
    "!head ../Results/mets.csv"
   ]
  },
  {
   "cell_type": "code",
   "execution_count": 9,
   "metadata": {},
   "outputs": [
    {
     "name": "stdout",
     "output_type": "stream",
     "text": [
      "ID\tName\r\n",
      "RXN-6021\tCholine dehydrogenase\r\n",
      "DEOXYRIBOSE-P-ALD-RXN\tDeoxyribose-phosphate aldolase\r\n",
      "THREONINE-ALDOLASE-RXN\tThreonine aldolase\r\n",
      "ALATA_L2\tAlanine transaminase\r\n",
      "R00945\tGlycine hydroxymethyltransferase, reversible\r\n",
      "R02300_copy1\tTetrahydrofolate aminomethyltransferase\r\n",
      "R02300_copy2\tAminomethyltransferase\r\n",
      "THRA2\tL-allo-Threonine Aldolase\r\n",
      "RXN0-5240\tD-alanine transaminase\r\n"
     ]
    }
   ],
   "source": [
    "!head ../Results/rxns.tsv"
   ]
  },
  {
   "cell_type": "code",
   "execution_count": 10,
   "metadata": {},
   "outputs": [
    {
     "name": "stdout",
     "output_type": "stream",
     "text": [
      "ID\tType\r\n",
      "RXN-6021\tRXN\r\n",
      "DEOXYRIBOSE-P-ALD-RXN\tRXN\r\n",
      "THREONINE-ALDOLASE-RXN\tRXN\r\n",
      "ALATA_L2\tRXN\r\n",
      "R00945\tRXN\r\n",
      "R02300_copy1\tRXN\r\n",
      "R02300_copy2\tRXN\r\n",
      "THRA2\tRXN\r\n",
      "RXN0-5240\tRXN\r\n"
     ]
    }
   ],
   "source": [
    "!head ../Results/node_type.tsv"
   ]
  },
  {
   "cell_type": "code",
   "execution_count": null,
   "metadata": {},
   "outputs": [],
   "source": []
  }
 ],
 "metadata": {
  "kernelspec": {
   "display_name": "Python 3",
   "language": "python",
   "name": "python3"
  },
  "language_info": {
   "codemirror_mode": {
    "name": "ipython",
    "version": 3
   },
   "file_extension": ".py",
   "mimetype": "text/x-python",
   "name": "python",
   "nbconvert_exporter": "python",
   "pygments_lexer": "ipython3",
   "version": "3.6.7"
  }
 },
 "nbformat": 4,
 "nbformat_minor": 2
}
