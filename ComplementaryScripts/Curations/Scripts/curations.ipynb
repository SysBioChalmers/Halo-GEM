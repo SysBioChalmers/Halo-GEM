{
 "cells": [
  {
   "cell_type": "code",
   "execution_count": 3,
   "metadata": {},
   "outputs": [],
   "source": [
    "import cobra\n",
    "import pandas as pd\n",
    "import numpy as np\n",
    "import os\n",
    "import sys"
   ]
  },
  {
   "cell_type": "code",
   "execution_count": 22,
   "metadata": {},
   "outputs": [],
   "source": [
    "ecpy_path = '../../../ecpy/'\n",
    "sys.path.append(os.path.abspath(ecpy_path))\n",
    "import utils\n",
    "import ecpy"
   ]
  },
  {
   "cell_type": "code",
   "execution_count": 24,
   "metadata": {},
   "outputs": [
    {
     "data": {
      "text/plain": [
       "<module 'utils' from '/Users/gangl/Documents/GitHub/Halo-GEM/ecpy/utils.py'>"
      ]
     },
     "execution_count": 24,
     "metadata": {},
     "output_type": "execute_result"
    }
   ],
   "source": [
    "import importlib\n",
    "importlib.reload(utils)"
   ]
  },
  {
   "cell_type": "code",
   "execution_count": 6,
   "metadata": {},
   "outputs": [
    {
     "name": "stdout",
     "output_type": "stream",
     "text": [
      "Using license file /Users/gangl/gurobi.lic\n",
      "Academic license - for non-commercial use only\n"
     ]
    }
   ],
   "source": [
    "model = cobra.io.load_json_model('../../../ModelFiles/json/Halo_GEM_v1.json')"
   ]
  },
  {
   "cell_type": "markdown",
   "metadata": {},
   "source": [
    "#### 1. Add PHA synthesis reaction\n",
    "(R)-3-Hydroxybutanoyl-CoA  -> CoA + PHA  \n",
    " \n",
    "\n",
    "|Name                     |MetaCyc ID |\n",
    "|:------------------------|-----------|\n",
    "|(R)-3-Hydroxybutanoyl-CoA|CPD-650    |\n",
    "|CoA                      |CO-A       |\n",
    "\n",
    "The reactions is catalyzed by phaC gene. It has two isoforms: **TD01GL001170**, **TD01GL001573**. The first gene palys the major rule in PHA synthesis"
   ]
  },
  {
   "cell_type": "code",
   "execution_count": 7,
   "metadata": {},
   "outputs": [],
   "source": [
    "met_cpd = model.metabolites.get_by_id('CPD-650_c')"
   ]
  },
  {
   "cell_type": "code",
   "execution_count": 8,
   "metadata": {},
   "outputs": [
    {
     "name": "stdout",
     "output_type": "stream",
     "text": [
      "RXN-5901 ACETOACETYL-COA_c + NADPH_c + PROTON_c --> CPD-650_c + NADP_c TD01GL000448 or TD01GL001906\n",
      "RXN-14255 CPD-650_c + WATER_c --> CO-A_c + CPD-335_c + PROTON_c TD01GL003102\n",
      "3-HYDROXBUTYRYL-COA-DEHYDRATASE-RXN CPD-650_c --> CROTONYL-COA_c + WATER_c TD01GL003540\n"
     ]
    }
   ],
   "source": [
    "for rxn in met_cpd.reactions: print(rxn.id, rxn.reaction,rxn.gene_reaction_rule)"
   ]
  },
  {
   "cell_type": "code",
   "execution_count": 9,
   "metadata": {},
   "outputs": [],
   "source": [
    "rxn_pha = cobra.Reaction('PHA_synthetase',name='Poly(3-hydroxyalkanoate) synthetase')\n",
    "met_pha = cobra.Metabolite('PHA_c',name='PHA',compartment='c')\n",
    "rxn_pha.add_metabolites({\n",
    "                            met_cpd                              :-1,\n",
    "                            model.metabolites.get_by_id('CO-A_c'): 1,\n",
    "                            met_pha                              : 1,\n",
    "                        })\n",
    "rxn_pha.annotation = {'ec-code':'2.3.1-'} # from kegg annotation \n",
    "rxn_pha.gene_reaction_rule = 'TD01GL001170 or TD01GL001573'\n",
    "\n",
    "rxn_pha_sec = cobra.Reaction('PHA_secretion',name='PHA secretion')\n",
    "rxn_pha_sec.add_metabolites({met_pha:-1})"
   ]
  },
  {
   "cell_type": "code",
   "execution_count": 10,
   "metadata": {},
   "outputs": [
    {
     "name": "stdout",
     "output_type": "stream",
     "text": [
      "CPD-650_c --> CO-A_c + PHA_c\n",
      "PHA_c --> \n"
     ]
    }
   ],
   "source": [
    "print(rxn_pha.reaction)\n",
    "print(rxn_pha_sec.reaction)"
   ]
  },
  {
   "cell_type": "code",
   "execution_count": 11,
   "metadata": {},
   "outputs": [],
   "source": [
    "model.add_reactions([rxn_pha,rxn_pha_sec])"
   ]
  },
  {
   "cell_type": "code",
   "execution_count": 12,
   "metadata": {},
   "outputs": [],
   "source": [
    "model.objective='PHA_secretion'\n",
    "model.objective_direction = 'max'"
   ]
  },
  {
   "cell_type": "code",
   "execution_count": 13,
   "metadata": {},
   "outputs": [
    {
     "data": {
      "text/html": [
       "<strong><em>Optimal</em> solution with objective value 236.964</strong><br><div>\n",
       "<style scoped>\n",
       "    .dataframe tbody tr th:only-of-type {\n",
       "        vertical-align: middle;\n",
       "    }\n",
       "\n",
       "    .dataframe tbody tr th {\n",
       "        vertical-align: top;\n",
       "    }\n",
       "\n",
       "    .dataframe thead th {\n",
       "        text-align: right;\n",
       "    }\n",
       "</style>\n",
       "<table border=\"1\" class=\"dataframe\">\n",
       "  <thead>\n",
       "    <tr style=\"text-align: right;\">\n",
       "      <th></th>\n",
       "      <th>fluxes</th>\n",
       "      <th>reduced_costs</th>\n",
       "    </tr>\n",
       "  </thead>\n",
       "  <tbody>\n",
       "    <tr>\n",
       "      <th>CHOLD</th>\n",
       "      <td>0.000000</td>\n",
       "      <td>0.000000</td>\n",
       "    </tr>\n",
       "    <tr>\n",
       "      <th>DEOXYRIBOSE-P-ALD-RXN</th>\n",
       "      <td>7.500000</td>\n",
       "      <td>0.000000</td>\n",
       "    </tr>\n",
       "    <tr>\n",
       "      <th>RXN-6321</th>\n",
       "      <td>0.000000</td>\n",
       "      <td>0.000000</td>\n",
       "    </tr>\n",
       "    <tr>\n",
       "      <th>GLYOHMETRANS-RXN</th>\n",
       "      <td>-106.964286</td>\n",
       "      <td>-0.000000</td>\n",
       "    </tr>\n",
       "    <tr>\n",
       "      <th>LTAA-RXN</th>\n",
       "      <td>0.000000</td>\n",
       "      <td>0.000000</td>\n",
       "    </tr>\n",
       "    <tr>\n",
       "      <th>...</th>\n",
       "      <td>...</td>\n",
       "      <td>...</td>\n",
       "    </tr>\n",
       "    <tr>\n",
       "      <th>NADS1</th>\n",
       "      <td>0.000000</td>\n",
       "      <td>-1.714286</td>\n",
       "    </tr>\n",
       "    <tr>\n",
       "      <th>THZPSN3</th>\n",
       "      <td>0.000000</td>\n",
       "      <td>-0.535714</td>\n",
       "    </tr>\n",
       "    <tr>\n",
       "      <th>Biomass_v1</th>\n",
       "      <td>0.000000</td>\n",
       "      <td>-37.389430</td>\n",
       "    </tr>\n",
       "    <tr>\n",
       "      <th>PHA_synthetase</th>\n",
       "      <td>236.964286</td>\n",
       "      <td>0.000000</td>\n",
       "    </tr>\n",
       "    <tr>\n",
       "      <th>PHA_secretion</th>\n",
       "      <td>236.964286</td>\n",
       "      <td>0.000000</td>\n",
       "    </tr>\n",
       "  </tbody>\n",
       "</table>\n",
       "<p>1932 rows × 2 columns</p>\n",
       "</div>"
      ],
      "text/plain": [
       "<Solution 236.964 at 0x1321d72dd8>"
      ]
     },
     "execution_count": 13,
     "metadata": {},
     "output_type": "execute_result"
    }
   ],
   "source": [
    "model.optimize()"
   ]
  },
  {
   "cell_type": "code",
   "execution_count": 14,
   "metadata": {},
   "outputs": [],
   "source": [
    "## add gene name\n",
    "utils.correct_genename(model,'TD01GL001170','phaC1')\n",
    "utils.correct_genename(model,'TD01GL001573','phaC2')"
   ]
  },
  {
   "cell_type": "markdown",
   "metadata": {},
   "source": [
    "#### 2. Curate gene reaction rules of reactions involved in PHA biosynthesis"
   ]
  },
  {
   "cell_type": "markdown",
   "metadata": {},
   "source": [
    "##### 2.1 phaB\n",
    "TD01GL000448 has been experimentally confirmed."
   ]
  },
  {
   "cell_type": "code",
   "execution_count": 15,
   "metadata": {},
   "outputs": [
    {
     "name": "stdout",
     "output_type": "stream",
     "text": [
      "TD01GL000448 or TD01GL001906\n",
      "acetoacetyl-CoA + NADPH + H+ --> (3R)-3-hydroxybutanoyl-CoA + NADP+\n",
      "\n",
      "TD01GL000448\n",
      "(3R)-3-hydroxypentanoyl-CoA + NADP+ --> 3-oxopentanoyl-CoA + NADPH + H+\n",
      "\n"
     ]
    }
   ],
   "source": [
    "# phaB\n",
    "utils.print_reactions_of_gene(model,'TD01GL000448')\n",
    "utils.correct_genename(model,'TD01GL000448','phaB1')"
   ]
  },
  {
   "cell_type": "markdown",
   "metadata": {},
   "source": [
    "##### 2.2 phaA\n",
    "There are 5 suspected phaA genes, in which TD01GL000367 (phaA3) has been experimentally confirmed. In the model, there are four genes (phaA3,4,5 and TD01GL001328) catalyze this reaction, we keep it as it is. phaA1 and phaA2 in the model catalyze other reactions. A new phaA gene was predicted"
   ]
  },
  {
   "cell_type": "code",
   "execution_count": 16,
   "metadata": {},
   "outputs": [
    {
     "name": "stdout",
     "output_type": "stream",
     "text": [
      "TD01GL000367 or TD01GL001318 or TD01GL001328 or TD01GL001300\n",
      "2.0 acetyl-CoA <=> acetoacetyl-CoA + coenzyme A\n",
      "\n"
     ]
    }
   ],
   "source": [
    "# phaA3, only correct gene name for this one\n",
    "utils.print_reactions_of_gene(model,'TD01GL000367')\n",
    "utils.correct_genename(model,'TD01GL000367','phaA3')"
   ]
  },
  {
   "cell_type": "code",
   "execution_count": 17,
   "metadata": {},
   "outputs": [
    {
     "name": "stdout",
     "output_type": "stream",
     "text": [
      "TD01GL000367 or TD01GL001318 or TD01GL001328 or TD01GL001300\n",
      "2.0 acetyl-CoA <=> acetoacetyl-CoA + coenzyme A\n",
      "\n"
     ]
    }
   ],
   "source": [
    "# phaA4\n",
    "utils.print_reactions_of_gene(model,'TD01GL001300')"
   ]
  },
  {
   "cell_type": "code",
   "execution_count": 18,
   "metadata": {},
   "outputs": [
    {
     "name": "stdout",
     "output_type": "stream",
     "text": [
      "TD01GL000367 or TD01GL001318 or TD01GL001328 or TD01GL001300\n",
      "2.0 acetyl-CoA <=> acetoacetyl-CoA + coenzyme A\n",
      "\n",
      "TD01GL001318 or TD01GL001328\n",
      "acetyl-CoA + butanoyl-CoA <=> coenzyme A + 3-oxohexanoyl-CoA\n",
      "\n",
      "TD01GL001318\n",
      "coenzyme A + 3-oxopentanoyl-CoA --> acetyl-CoA + propanoyl-CoA\n",
      "\n"
     ]
    }
   ],
   "source": [
    "# phaA5\n",
    "utils.print_reactions_of_gene(model,'TD01GL001318')"
   ]
  },
  {
   "cell_type": "code",
   "execution_count": 19,
   "metadata": {},
   "outputs": [
    {
     "name": "stdout",
     "output_type": "stream",
     "text": [
      "TD01GL003533\n",
      "3-oxoadipyl-CoA + coenzyme A --> acetyl-CoA + succinyl-CoA\n",
      "\n",
      "TD01GL003530 and TD01GL003533\n",
      "coenzyme A + 3-oxo-5,6-didehydrosuberyl-CoA --> 2,3-dehydroadipyl-CoA + acetyl-CoA\n",
      "\n",
      "TD01GL003533\n",
      "coenzyme A + 3-oxo-5,6-didehydrosuberyl-CoA --> acetyl-CoA + trans-2,3-dehydroadipyl-coA\n",
      "\n"
     ]
    }
   ],
   "source": [
    "# phaA1\n",
    "utils.print_reactions_of_gene(model,'TD01GL003533')"
   ]
  },
  {
   "cell_type": "code",
   "execution_count": 20,
   "metadata": {},
   "outputs": [
    {
     "name": "stdout",
     "output_type": "stream",
     "text": [
      "TD01GL000275\n",
      "coenzyme A + 3-oxo-2-(cis-2'-pentenyl)-cyclopentane-1-(3-oxobutanoyl)-CoA --> acetyl-CoA + (+)-7-epi-jasmonoyl-CoA\n",
      "\n",
      "TD01GL000275\n",
      "coenzyme A + 3-oxo-2-(cis-2'-pentenyl)-cyclopentane-1-(3-oxohexanoyl)-CoA --> acetyl-CoA + 3-oxo-2-(cis-2'-pentenyl)-cyclopentane-1-butanoyl-CoA\n",
      "\n",
      "TD01GL000275\n",
      "coenzyme A + 3-oxo-2-(cis-2'-pentenyl)-cyclopentane-1-(3-oxooctanoyl)-CoA --> acetyl-CoA + 3-oxo-2-(cis-2'-pentenyl)-cyclopentane-1-hexanoyl-CoA\n",
      "\n"
     ]
    }
   ],
   "source": [
    "# phaA2\n",
    "utils.print_reactions_of_gene(model,'TD01GL000275')"
   ]
  },
  {
   "cell_type": "markdown",
   "metadata": {},
   "source": [
    "#### 3. update model files"
   ]
  },
  {
   "cell_type": "code",
   "execution_count": 26,
   "metadata": {},
   "outputs": [
    {
     "name": "stdout",
     "output_type": "stream",
     "text": [
      "Saved ../../../ModelFiles/xml/Halo_GEM_v1.xml\n",
      "Saved ../../../ModelFiles/mat/Halo_GEM_v1.mat\n",
      "Saved ../../../ModelFiles/json/Halo_GEM_v1.json\n",
      "\n"
     ]
    }
   ],
   "source": [
    "utils.save_model_into_formats(model,'../../../ModelFiles','Halo_GEM_v1')"
   ]
  },
  {
   "cell_type": "code",
   "execution_count": null,
   "metadata": {},
   "outputs": [],
   "source": []
  }
 ],
 "metadata": {
  "kernelspec": {
   "display_name": "Python 3",
   "language": "python",
   "name": "python3"
  },
  "language_info": {
   "codemirror_mode": {
    "name": "ipython",
    "version": 3
   },
   "file_extension": ".py",
   "mimetype": "text/x-python",
   "name": "python",
   "nbconvert_exporter": "python",
   "pygments_lexer": "ipython3",
   "version": "3.7.2"
  }
 },
 "nbformat": 4,
 "nbformat_minor": 2
}
