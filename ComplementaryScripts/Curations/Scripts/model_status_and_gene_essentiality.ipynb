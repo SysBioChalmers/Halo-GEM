{
 "cells": [
  {
   "cell_type": "code",
   "execution_count": 1,
   "metadata": {},
   "outputs": [],
   "source": [
    "import cobra\n",
    "import sys\n",
    "import os"
   ]
  },
  {
   "cell_type": "code",
   "execution_count": 2,
   "metadata": {},
   "outputs": [],
   "source": [
    "ecpy_path = '../../../ecpy/'\n",
    "sys.path.append(os.path.abspath(ecpy_path))\n",
    "import utils\n",
    "import ecpy"
   ]
  },
  {
   "cell_type": "code",
   "execution_count": 3,
   "metadata": {},
   "outputs": [],
   "source": [
    "model = cobra.io.load_json_model('../../../ModelFiles/json/Halo_GEM_v1.json')"
   ]
  },
  {
   "cell_type": "markdown",
   "metadata": {},
   "source": [
    "### Model summary "
   ]
  },
  {
   "cell_type": "code",
   "execution_count": 4,
   "metadata": {},
   "outputs": [],
   "source": [
    "def remove_compartment_label(met_id):\n",
    "    for item in  ['_c','_p','_e']: met_id = met_id.replace(item,'')\n",
    "    return met_id"
   ]
  },
  {
   "cell_type": "code",
   "execution_count": 5,
   "metadata": {},
   "outputs": [],
   "source": [
    "def is_transport_rxn(rxn):\n",
    "    reactants = [remove_compartment_label(met.id) for met in rxn.reactants]\n",
    "    products = [remove_compartment_label(met.id) for met in rxn.products]\n",
    "    \n",
    "    if len(reactants) + len(products) > len(set(reactants+products)): return True\n",
    "    else: return False"
   ]
  },
  {
   "cell_type": "code",
   "execution_count": 6,
   "metadata": {},
   "outputs": [],
   "source": [
    "def is_exchange_rxn(rxn):\n",
    "    if len(rxn.reactants) == 0 or len(rxn.products) == 0: return True\n",
    "    else: return False"
   ]
  },
  {
   "cell_type": "code",
   "execution_count": 7,
   "metadata": {},
   "outputs": [],
   "source": [
    "def report_model(model):\n",
    "    metabolic_rxns = 0\n",
    "    trans_rxns     = 0\n",
    "    exchange_rxns  = 0\n",
    "    \n",
    "    metabolic_rxns_gr = 0\n",
    "    trans_rxns_gr     = 0\n",
    "    \n",
    "    for rxn in model.reactions:\n",
    "        gr = 1 if len(rxn.genes)>0 else 0\n",
    "\n",
    "        if is_transport_rxn(rxn): \n",
    "            trans_rxns += 1\n",
    "            trans_rxns_gr += gr\n",
    "        elif is_exchange_rxn(rxn): exchange_rxns  += 1\n",
    "        else: \n",
    "            metabolic_rxns += 1\n",
    "            metabolic_rxns_gr += gr\n",
    "    \n",
    "    print('Reactions')\n",
    "    print('  Metabolic reactions:',metabolic_rxns)\n",
    "    print('  Transport reactions:',trans_rxns)\n",
    "    print()\n",
    "    \n",
    "    print('Gene assciations')\n",
    "    print('  Gene associated Metabolic reactions:',metabolic_rxns_gr)\n",
    "    print('  Gene associated Transport reactions:',trans_rxns_gr)\n",
    "    print('  No gene associations metabolic reactions:',metabolic_rxns-metabolic_rxns_gr)\n",
    "    print('  No gene associations transport reactions:',trans_rxns-trans_rxns_gr)\n",
    "    print()\n",
    "    \n",
    "    print('Exchange reactions:',exchange_rxns)\n",
    "    print()\n",
    "    \n",
    "    print('Metabolites')\n",
    "    print('  Unique metabolites:',len(set([remove_compartment_label(met.id) for met in model.metabolites])))\n",
    "    print('  Cytoplasmic:',len(set([remove_compartment_label(met.id) for met in model.metabolites if met.compartment=='c'])))\n",
    "    print('  Periplasmic:',len(set([remove_compartment_label(met.id) for met in model.metabolites if met.compartment=='p'])))\n",
    "    print('  Extracellular:',len(set([remove_compartment_label(met.id) for met in model.metabolites if met.compartment=='e'])))"
   ]
  },
  {
   "cell_type": "code",
   "execution_count": 8,
   "metadata": {},
   "outputs": [
    {
     "name": "stdout",
     "output_type": "stream",
     "text": [
      "Reactions\n",
      "  Metabolic reactions: 1863\n",
      "  Transport reactions: 351\n",
      "\n",
      "Gene assciations\n",
      "  Gene associated Metabolic reactions: 1847\n",
      "  Gene associated Transport reactions: 301\n",
      "  No gene associations metabolic reactions: 16\n",
      "  No gene associations transport reactions: 50\n",
      "\n",
      "Exchange reactions: 56\n",
      "\n",
      "Metabolites\n",
      "  Unique metabolites: 1972\n",
      "  Cytoplasmic: 1912\n",
      "  Periplasmic: 350\n",
      "  Extracellular: 77\n"
     ]
    }
   ],
   "source": [
    "report_model(model)"
   ]
  },
  {
   "cell_type": "markdown",
   "metadata": {},
   "source": [
    "#### Single gene-knockout"
   ]
  },
  {
   "cell_type": "code",
   "execution_count": 9,
   "metadata": {},
   "outputs": [],
   "source": [
    "def convert_fronzen_set_to_values(gset):\n",
    "    ID = tuple([x for x in gset])\n",
    "    \n",
    "    if len(ID)==1: return ID[0]\n",
    "    else: return ID"
   ]
  },
  {
   "cell_type": "code",
   "execution_count": 10,
   "metadata": {},
   "outputs": [],
   "source": [
    "def modify_model(model):\n",
    "    # set glucose uptake as 10 mmol/gdw/h\n",
    "    # set yeast extraction as 1 mmol/gdw/h\n",
    "    utils.set_bound(model,'Exchange_Glucopyranose',ub=10)\n",
    "    utils.set_yeast_extraction(model,ub=0,lb=0)\n",
    "    model.objective = 'Biomass_v1'\n",
    "    model.objective_direction = 'max'\n",
    "    print(model.optimize())\n",
    "    \n",
    "    model_glc, model_ye = model.copy(), model.copy()\n",
    "    utils.set_yeast_extraction(model_ye,ub=1,lb=0)\n",
    "    \n",
    "    print(model_glc.optimize(),model_ye.optimize())\n",
    "    return model_glc,model_ye"
   ]
  },
  {
   "cell_type": "code",
   "execution_count": 11,
   "metadata": {},
   "outputs": [],
   "source": [
    "def save_gene_ko(results,model,outfile):\n",
    "    new_index = [convert_fronzen_set_to_values(ind) for ind in results.index]\n",
    "    results.index = new_index\n",
    "    \n",
    "    r0 = model.optimize().objective_value\n",
    "    results['growth'] = results['growth'] / r0\n",
    "    \n",
    "    print(results.head())\n",
    "    results.to_csv(outfile,sep='\\t')"
   ]
  },
  {
   "cell_type": "code",
   "execution_count": 12,
   "metadata": {},
   "outputs": [
    {
     "name": "stdout",
     "output_type": "stream",
     "text": [
      "<Solution 0.604 at 0x7f4cc40835c0>\n",
      "<Solution 0.604 at 0x7f4cbe1eb2e8> <Solution 1.381 at 0x7f4cbe1eb550>\n"
     ]
    }
   ],
   "source": [
    "model_glc,model_ye = modify_model(model)"
   ]
  },
  {
   "cell_type": "code",
   "execution_count": 13,
   "metadata": {},
   "outputs": [],
   "source": [
    "single_gene_knockout_glc = cobra.flux_analysis.single_gene_deletion(model_glc)"
   ]
  },
  {
   "cell_type": "code",
   "execution_count": 14,
   "metadata": {},
   "outputs": [],
   "source": [
    "single_gene_knockout_ye = cobra.flux_analysis.single_gene_deletion(model_ye)"
   ]
  },
  {
   "cell_type": "code",
   "execution_count": 15,
   "metadata": {},
   "outputs": [],
   "source": [
    "double_gene_knockout_glc = cobra.flux_analysis.double_gene_deletion(model_glc)\n",
    "double_gene_knockout_ye = cobra.flux_analysis.double_gene_deletion(model_ye)"
   ]
  },
  {
   "cell_type": "code",
   "execution_count": 17,
   "metadata": {},
   "outputs": [
    {
     "name": "stdout",
     "output_type": "stream",
     "text": [
      "              growth   status\n",
      "TD01GL000690     1.0  optimal\n",
      "TD01GL003263     1.0  optimal\n",
      "TD01GL001877     1.0  optimal\n",
      "TD01GL001911     1.0  optimal\n",
      "TD01GL001033     1.0  optimal\n"
     ]
    }
   ],
   "source": [
    "save_gene_ko(single_gene_knockout_glc,model_glc,'../KO/single_gene_deletion_with_glucose_as_carbon_source.tsv')"
   ]
  },
  {
   "cell_type": "code",
   "execution_count": 18,
   "metadata": {},
   "outputs": [
    {
     "name": "stdout",
     "output_type": "stream",
     "text": [
      "              growth   status\n",
      "TD01GL002722     0.0  optimal\n",
      "TD01GL001885     1.0  optimal\n",
      "TD01GL001779     1.0  optimal\n",
      "TD01GL001917     1.0  optimal\n",
      "TD01GL001753     1.0  optimal\n"
     ]
    }
   ],
   "source": [
    "save_gene_ko(single_gene_knockout_ye,model_ye,'../KO/single_gene_deletion_with_glucose_and_YE_as_carbon_source.tsv')"
   ]
  },
  {
   "cell_type": "code",
   "execution_count": 19,
   "metadata": {},
   "outputs": [
    {
     "name": "stdout",
     "output_type": "stream",
     "text": [
      "                                growth   status\n",
      "(TD01GL003006, TD01GL001466)  1.000000  optimal\n",
      "(TD01GL003798, TD01GL001170)  1.000000  optimal\n",
      "(TD01GL001327, TD01GL001562)  0.992142  optimal\n",
      "(TD01GL002135, TD01GL002764)  1.000000  optimal\n",
      "(TD01GL000782, TD01GL002160)  0.000000  optimal\n"
     ]
    }
   ],
   "source": [
    "save_gene_ko(double_gene_knockout_glc,model_glc,'../KO/double_gene_deletion_with_glucose_as_carbon_source.tsv')"
   ]
  },
  {
   "cell_type": "code",
   "execution_count": 20,
   "metadata": {},
   "outputs": [
    {
     "name": "stdout",
     "output_type": "stream",
     "text": [
      "                                growth   status\n",
      "(TD01GL002635, TD01GL000435)  0.931954  optimal\n",
      "(TD01GL001669, TD01GL002507)  1.000000  optimal\n",
      "(TD01GL001562, TD01GL003366)  1.000000  optimal\n",
      "(TD01GL001112, TD01GL002511)  1.000000  optimal\n",
      "(TD01GL000375, TD01GL002299)  0.000000  optimal\n"
     ]
    }
   ],
   "source": [
    "save_gene_ko(double_gene_knockout_ye,model_ye,'../KO/double_gene_deletion_with_glucose_and_YE_as_carbon_source.tsv')"
   ]
  },
  {
   "cell_type": "code",
   "execution_count": 29,
   "metadata": {},
   "outputs": [
    {
     "name": "stdout",
     "output_type": "stream",
     "text": [
      "tar: Removing leading `../' from member names\n",
      "../KO/\n",
      "../KO/single_gene_deletion_with_glucose_and_YE_as_carbon_source.tsv\n",
      "../KO/double_gene_deletion_with_glucose_as_carbon_source.tsv\n",
      "../KO/single_gene_deletion_with_glucose_as_carbon_source.tsv\n",
      "../KO/double_gene_deletion_with_glucose_and_YE_as_carbon_source.tsv\n"
     ]
    }
   ],
   "source": [
    "!rm ../KO.tar.gz\n",
    "!tar -czvf ../KO.tar.gz ../KO"
   ]
  },
  {
   "cell_type": "code",
   "execution_count": 30,
   "metadata": {},
   "outputs": [
    {
     "name": "stdout",
     "output_type": "stream",
     "text": [
      "14M\t../KO.tar.gz\r\n"
     ]
    }
   ],
   "source": [
    "!du -sh ../KO.tar.gz"
   ]
  }
 ],
 "metadata": {
  "kernelspec": {
   "display_name": "Python 3",
   "language": "python",
   "name": "python3"
  },
  "language_info": {
   "codemirror_mode": {
    "name": "ipython",
    "version": 3
   },
   "file_extension": ".py",
   "mimetype": "text/x-python",
   "name": "python",
   "nbconvert_exporter": "python",
   "pygments_lexer": "ipython3",
   "version": "3.6.7"
  }
 },
 "nbformat": 4,
 "nbformat_minor": 4
}
